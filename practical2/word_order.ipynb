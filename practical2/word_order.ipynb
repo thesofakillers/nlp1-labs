{
 "cells": [
  {
   "cell_type": "code",
   "execution_count": 1,
   "id": "ea61d2c7-57d5-43c0-b60b-0a2a479c63f2",
   "metadata": {},
   "outputs": [],
   "source": [
    "%load_ext autoreload\n",
    "%autoreload 2"
   ]
  },
  {
   "cell_type": "markdown",
   "id": "38de351f-9abd-4a8f-9940-c052d756607d",
   "metadata": {},
   "source": [
    "## Imports"
   ]
  },
  {
   "cell_type": "code",
   "execution_count": 2,
   "id": "3fded677-3bac-469f-89e9-38601c838187",
   "metadata": {},
   "outputs": [],
   "source": [
    "import numpy as np\n",
    "import torch"
   ]
  },
  {
   "cell_type": "code",
   "execution_count": 3,
   "id": "c32d6537-40a2-414c-a105-a4dcc7092811",
   "metadata": {},
   "outputs": [],
   "source": [
    "import utils\n",
    "import structs\n",
    "import data_utils"
   ]
  },
  {
   "cell_type": "code",
   "execution_count": 4,
   "id": "6d6d76ea-706c-4c52-bb83-91dfa518064d",
   "metadata": {},
   "outputs": [],
   "source": [
    "from models import BOW, CBOW, DeepCBOW, LSTMClassifier, TreeLSTMClassifier"
   ]
  },
  {
   "cell_type": "markdown",
   "id": "805339e2-2437-48e8-9124-fff1bae02bdf",
   "metadata": {},
   "source": [
    "## Data"
   ]
  },
  {
   "cell_type": "code",
   "execution_count": 5,
   "id": "c07f2171-0638-4c16-80d7-940f816fd909",
   "metadata": {},
   "outputs": [],
   "source": [
    "GLOVE_PATH = \"data/glove.840B.300d.sst.txt\""
   ]
  },
  {
   "cell_type": "code",
   "execution_count": 6,
   "id": "10b2d399-8fd7-4c0d-a035-9349bc0226ef",
   "metadata": {},
   "outputs": [],
   "source": [
    "with open(GLOVE_PATH) as f:\n",
    "  lines = f.readlines()"
   ]
  },
  {
   "cell_type": "code",
   "execution_count": 7,
   "id": "f92b3c20-049d-4b57-96b7-332a9945fd2d",
   "metadata": {},
   "outputs": [],
   "source": [
    "dataset = data_utils.get_SST_data(\"data/trees/\")"
   ]
  },
  {
   "cell_type": "markdown",
   "id": "1e1de207-9459-44d3-b2a4-fa46c6ea3d78",
   "metadata": {
    "tags": []
   },
   "source": [
    "## Vocabulary"
   ]
  },
  {
   "cell_type": "code",
   "execution_count": 8,
   "id": "70f52dab-20b9-4432-84c9-585068f6242e",
   "metadata": {},
   "outputs": [
    {
     "name": "stdout",
     "output_type": "stream",
     "text": [
      "Vocabulary size: 18280\n"
     ]
    }
   ],
   "source": [
    "# normal vocab\n",
    "v = structs.Vocabulary()\n",
    "for data_set in (dataset[\"train\"],):\n",
    "    for ex in data_set:\n",
    "        for token in ex.tokens:\n",
    "            v.count_token(token)\n",
    "\n",
    "v.build()\n",
    "print(\"Vocabulary size:\", len(v.w2i))"
   ]
  },
  {
   "cell_type": "code",
   "execution_count": 9,
   "id": "58c5424f-ba0c-4143-bf38-fbaf1160f14f",
   "metadata": {},
   "outputs": [],
   "source": [
    "# glove vocab and vectors\n",
    "glove_v = structs.Vocabulary()\n",
    "glove_v.build()\n",
    "\n",
    "# +2 to account for unk and pad\n",
    "glove_vectors = np.zeros((len(lines) + 2, 300), dtype=np.float64)\n",
    "# set unk vector randomly\n",
    "glove_vectors[0] = np.random.normal(0, 1, 300)\n",
    "# we set pad token to be 0-valued\n",
    "\n",
    "for i, line in enumerate(lines):\n",
    "    split = line.split(\" \")\n",
    "    glove_v.add_token(split[0])\n",
    "    # we skip the first two elements as these are reserved to unk and pad\n",
    "    glove_vectors[i + 2] = split[1:]"
   ]
  },
  {
   "cell_type": "markdown",
   "id": "816f5ea9-cd79-4de9-a201-2bf970329005",
   "metadata": {},
   "source": [
    "## Globals"
   ]
  },
  {
   "cell_type": "code",
   "execution_count": 10,
   "id": "2b79a8fe-c370-443c-898d-0924e27daea2",
   "metadata": {},
   "outputs": [],
   "source": [
    "N_CLASSES = len(structs.i2t)\n",
    "V_SIZE = len(v.w2i)\n",
    "GLOVE_V_SIZE = len(glove_v.w2i)"
   ]
  },
  {
   "cell_type": "markdown",
   "id": "437d1513-b601-4b16-afa0-0e0f2eb41820",
   "metadata": {},
   "source": [
    "## Model Instantiation "
   ]
  },
  {
   "cell_type": "code",
   "execution_count": 11,
   "id": "a431fdf0-910d-49ce-875c-244f5542c32b",
   "metadata": {},
   "outputs": [],
   "source": [
    "bow = BOW(V_SIZE, N_CLASSES, v)\n",
    "cbow = CBOW(V_SIZE, 300, N_CLASSES, v)\n",
    "dcbow = DeepCBOW(V_SIZE, 300, 100, N_CLASSES, v)\n",
    "# less direct instantiation for  models with  pretrained glove vectors\n",
    "ptdcbow = DeepCBOW(GLOVE_V_SIZE, 300, 100, N_CLASSES, glove_v)\n",
    "with torch.no_grad():\n",
    "    ptdcbow.embed.weight.data.copy_(torch.from_numpy(glove_vectors))\n",
    "    ptdcbow.embed.weight.requires_grad = False\n",
    "\n",
    "lstm = LSTMClassifier(GLOVE_V_SIZE, 300, 100, N_CLASSES, glove_v)\n",
    "with torch.no_grad():\n",
    "    lstm.embed.weight.data.copy_(torch.from_numpy(glove_vectors))\n",
    "    lstm.embed.weight.requires_grad = False\n",
    "\n",
    "treelstm = TreeLSTMClassifier(GLOVE_V_SIZE, 300, 100, N_CLASSES, glove_v)\n",
    "with torch.no_grad():\n",
    "    treelstm.embed.weight.data.copy_(torch.from_numpy(glove_vectors))\n",
    "    treelstm.embed.weight.requires_grad = False"
   ]
  },
  {
   "cell_type": "code",
   "execution_count": 12,
   "id": "83e6419a-a037-4720-bd27-d7e38463ba08",
   "metadata": {},
   "outputs": [],
   "source": [
    "model_zoo = {\n",
    "    \"bow\": cbow,\n",
    "    \"dcbow\": dcbow,\n",
    "    \"ptdcbow\": ptdcbow,\n",
    "    \"lstm\": lstm,\n",
    "    \"treelstm\": treelstm,\n",
    "}"
   ]
  }
 ],
 "metadata": {
  "kernelspec": {
   "display_name": "Python 3 (ipykernel)",
   "language": "python",
   "name": "python3"
  },
  "language_info": {
   "codemirror_mode": {
    "name": "ipython",
    "version": 3
   },
   "file_extension": ".py",
   "mimetype": "text/x-python",
   "name": "python",
   "nbconvert_exporter": "python",
   "pygments_lexer": "ipython3",
   "version": "3.7.11"
  }
 },
 "nbformat": 4,
 "nbformat_minor": 5
}
