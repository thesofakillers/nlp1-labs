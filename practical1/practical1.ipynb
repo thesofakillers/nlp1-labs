{
 "cells": [
  {
   "cell_type": "markdown",
   "metadata": {
    "id": "lIZrAUx57vsM"
   },
   "source": [
    "Practical 1: Sentiment Detection in Movie Reviews\n",
    "========================================\n",
    "\n"
   ]
  },
  {
   "cell_type": "markdown",
   "metadata": {
    "id": "J4kXPMhyngZW"
   },
   "source": [
    "This practical concerns detecting sentiment in movie reviews. This is a typical NLP classification task.\n",
    "In [this file](https://gist.githubusercontent.com/bastings/d47423301cca214e3930061a5a75e177/raw/5113687382919e22b1f09ce71a8fecd1687a5760/reviews.json) (80MB) you will find 1000 positive and 1000 negative **movie reviews**.\n",
    "Each review is a **document** and consists of one or more sentences.\n",
    "\n",
    "To prepare yourself for this practical, you should\n",
    "have a look at a few of these texts to understand the difficulties of\n",
    "the task: how might one go about classifying the texts? You will write\n",
    "code that decides whether a movie review conveys positive or\n",
    "negative sentiment.\n",
    "\n",
    "Please make sure you have read the following paper:\n",
    "\n",
    ">   Bo Pang, Lillian Lee, and Shivakumar Vaithyanathan\n",
    "(2002). \n",
    "[Thumbs up? Sentiment Classification using Machine Learning\n",
    "Techniques](https://dl.acm.org/citation.cfm?id=1118704). EMNLP.\n",
    "\n",
    "Bo Pang et al. introduced the movie review sentiment\n",
    "classification task, and the above paper was one of the first papers on\n",
    "the topic. The first version of your sentiment classifier will do\n",
    "something similar to Pang et al.'s system. If you have questions about it,\n",
    "you should resolve you doubts as soon as possible with your TA.\n"
   ]
  },
  {
   "cell_type": "markdown",
   "metadata": {
    "id": "cb7errgRASzZ"
   },
   "source": [
    "**Advice**\n",
    "\n",
    "Please read through the entire practical and familiarise\n",
    "yourself with all requirements before you start coding or otherwise\n",
    "solving the tasks. Writing clean and concise code can make the difference\n",
    "between solving the assignment in a matter of hours, and taking days to\n",
    "run all experiments.\n",
    "\n",
    "## Environment\n",
    "\n",
    "All code should be written in **Python 3**. \n",
    "This is the default in Google Colab."
   ]
  },
  {
   "cell_type": "code",
   "execution_count": 1,
   "metadata": {
    "colab": {
     "base_uri": "https://localhost:8080/"
    },
    "id": "SaZnxptMJiD7",
    "outputId": "477e9631-3a03-4cbe-d138-e7859dfd8876"
   },
   "outputs": [
    {
     "name": "stdout",
     "output_type": "stream",
     "text": [
      "Python 3.7.11\n"
     ]
    }
   ],
   "source": [
    "!python --version"
   ]
  },
  {
   "cell_type": "markdown",
   "metadata": {
    "id": "BYZyIF7lJnGn"
   },
   "source": [
    "If you want to run code on your own computer, then download this notebook through `File -> Download .ipynb`.\n",
    "The easiest way to\n",
    "install Python is through downloading\n",
    "[Anaconda](https://www.anaconda.com/download). \n",
    "After installation, you can start the notebook by typing `jupyter notebook filename.ipynb`.\n",
    "You can also use an IDE\n",
    "such as [PyCharm](https://www.jetbrains.com/pycharm/download/) to make\n",
    "coding and debugging easier. It is good practice to create a [virtual\n",
    "environment](https://docs.python.org/3/tutorial/venv.html) for this\n",
    "project, so that any Python packages don’t interfere with other\n",
    "projects. \n",
    " \n",
    "\n",
    "**Learning Python 3**\n",
    "\n",
    "If you are new to Python 3, you may want to check out a few of these resources:\n",
    "- https://learnxinyminutes.com/docs/python3/\n",
    "- https://www.learnpython.org/\n",
    "- https://docs.python.org/3/tutorial/"
   ]
  },
  {
   "cell_type": "code",
   "execution_count": 2,
   "metadata": {
    "id": "hok-BFu9lGoK"
   },
   "outputs": [],
   "source": [
    "import math\n",
    "import copy\n",
    "import os\n",
    "import sys\n",
    "from subprocess import call\n",
    "from nltk import FreqDist\n",
    "from nltk.util import ngrams\n",
    "from nltk.stem.porter import PorterStemmer\n",
    "import sklearn as sk\n",
    "import pickle\n",
    "import json\n",
    "import typing as tg\n",
    "from collections import Counter\n",
    "import requests\n",
    "import matplotlib.pyplot as plt\n",
    "import numpy as np\n",
    "import numpy.typing as npt\n",
    "from sklearn.svm import LinearSVC\n",
    "from sklearn.preprocessing import StandardScaler\n",
    "from sklearn.pipeline import make_pipeline\n",
    "from scipy.sparse import csr_matrix\n",
    "from sklearn.metrics import accuracy_score, precision_score, recall_score\n",
    "import pandas as pd\n",
    "import seaborn as sns"
   ]
  },
  {
   "cell_type": "code",
   "execution_count": 3,
   "metadata": {
    "id": "aEGmhtCHPZhU"
   },
   "outputs": [],
   "source": [
    "# whether to check if GPY is enavled\n",
    "CHECK_GPU = False"
   ]
  },
  {
   "cell_type": "code",
   "execution_count": 4,
   "metadata": {
    "colab": {
     "base_uri": "https://localhost:8080/"
    },
    "id": "eZOQWo43JmfP",
    "outputId": "35046a42-2875-4802-eee0-34de865ec541"
   },
   "outputs": [],
   "source": [
    "# checks\n",
    "if CHECK_GPU:\n",
    "  if not (int(os.environ[\"COLAB_GPU\"]) > 0):\n",
    "      raise ValueError(\"GPU Not enabled!\")\n",
    "try:\n",
    "  import google.colab\n",
    "  IN_COLAB = True\n",
    "except ModuleNotFoundError:\n",
    "  IN_COLAB = False\n",
    "if IN_COLAB:\n",
    "  from google.colab import drive\n",
    "  drive.mount('/content/drive/')\n",
    "  os.chdir('/content/drive/MyDrive/Education/Masters/notebooks/nlp1/')"
   ]
  },
  {
   "cell_type": "markdown",
   "metadata": {
    "id": "bXWyGHwE-ieQ"
   },
   "source": [
    "## Loading the data\n",
    "\n",
    "**Download the sentiment lexicon and the movie reviews dataset.**"
   ]
  },
  {
   "cell_type": "code",
   "execution_count": 5,
   "metadata": {
    "colab": {
     "base_uri": "https://localhost:8080/"
    },
    "id": "lm-rakqtlMOT",
    "outputId": "dba73bbd-6a55-4733-f74c-1bc134bd2e42"
   },
   "outputs": [
    {
     "name": "stdout",
     "output_type": "stream",
     "text": [
      "File ‘sent_lexicon’ already there; not retrieving.\n",
      "\n",
      "File ‘reviews.json’ already there; not retrieving.\n",
      "\n"
     ]
    }
   ],
   "source": [
    "# download sentiment lexicon\n",
    "!wget -nc https://gist.githubusercontent.com/bastings/d6f99dcb6c82231b94b013031356ba05/raw/f80a0281eba8621b122012c89c8b5e2200b39fd6/sent_lexicon\n",
    "# download review data\n",
    "!wget -nc https://gist.githubusercontent.com/bastings/d47423301cca214e3930061a5a75e177/raw/5113687382919e22b1f09ce71a8fecd1687a5760/reviews.json"
   ]
  },
  {
   "cell_type": "markdown",
   "metadata": {
    "id": "AkPwuHp5LSuQ"
   },
   "source": [
    "**Load the movie reviews.**\n",
    "\n",
    "Each word in a review comes with its part-of-speech tag. For documentation on POS-tags, see https://catalog.ldc.upenn.edu/docs/LDC99T42/tagguid1.pdf.\n"
   ]
  },
  {
   "cell_type": "code",
   "execution_count": 6,
   "metadata": {
    "colab": {
     "base_uri": "https://localhost:8080/"
    },
    "id": "careEKj-mRpl",
    "outputId": "259f53b3-b8b1-446d-90b0-195802ba6ad8"
   },
   "outputs": [
    {
     "name": "stdout",
     "output_type": "stream",
     "text": [
      "Total number of reviews: 2000 \n",
      "\n",
      "0 NEG 29\n",
      "Two/CD teen/JJ couples/NNS go/VBP to/TO a/DT church/NN party/NN ,/, drink/NN and/CC then/RB drive/NN ./.\n",
      "1 NEG 11\n",
      "Damn/JJ that/IN Y2K/CD bug/NN ./.\n",
      "2 NEG 24\n",
      "It/PRP is/VBZ movies/NNS like/IN these/DT that/WDT make/VBP a/DT jaded/JJ movie/NN viewer/NN thankful/JJ for/IN the/DT invention/NN of/IN the/DT Timex/NNP IndiGlo/NNP watch/NN ./.\n",
      "3 NEG 19\n",
      "QUEST/NN FOR/IN CAMELOT/NNP ``/`` Quest/NNP for/IN Camelot/NNP ''/'' is/VBZ Warner/NNP Bros./NNP '/POS first/JJ feature-length/JJ ,/, fully-animated/JJ attempt/NN to/TO steal/VB clout/NN from/IN Disney/NNP 's/POS cartoon/NN empire/NN ,/, but/CC the/DT mouse/NN has/VBZ no/DT reason/NN to/TO be/VB worried/VBN ./.\n",
      "4 NEG 38\n",
      "Synopsis/NNPS :/: A/DT mentally/RB unstable/JJ man/NN undergoing/VBG psychotherapy/NN saves/VBZ a/DT boy/NN from/IN a/DT potentially/RB fatal/JJ accident/NN and/CC then/RB falls/VBZ in/IN love/NN with/IN the/DT boy/NN 's/POS mother/NN ,/, a/DT fledgling/NN restauranteur/NN ./.\n",
      "\n",
      "Number of word types: 47743\n",
      "Number of word tokens: 1512359\n",
      "\n",
      "Most common tokens:\n",
      "         , :    77842\n",
      "       the :    75948\n",
      "         . :    59027\n",
      "         a :    37583\n",
      "       and :    35235\n",
      "        of :    33864\n",
      "        to :    31601\n",
      "        is :    25972\n",
      "        in :    21563\n",
      "        's :    18043\n",
      "        it :    15904\n",
      "      that :    15820\n",
      "     -rrb- :    11768\n",
      "     -lrb- :    11670\n",
      "        as :    11312\n",
      "      with :    10739\n",
      "       for :     9816\n",
      "       his :     9542\n",
      "      this :     9497\n",
      "      film :     9404\n"
     ]
    }
   ],
   "source": [
    "# file structure:\n",
    "# [\n",
    "#  {\"cv\": integer, \"sentiment\": str, \"content\": list} \n",
    "#  {\"cv\": integer, \"sentiment\": str, \"content\": list} \n",
    "#   ..\n",
    "# ]\n",
    "# where `content` is a list of sentences, \n",
    "# with a sentence being a list of (token, pos_tag) pairs.\n",
    "\n",
    "# true_sent = []\n",
    "\n",
    "with open(\"reviews.json\", mode=\"r\", encoding=\"utf-8\") as f:\n",
    "  reviews = json.load(f)\n",
    "  \n",
    "print(\"Total number of reviews:\", len(reviews), '\\n')\n",
    "\n",
    "def print_sentence_with_pos(s):\n",
    "  print(\" \".join(\"%s/%s\" % (token, pos_tag) for token, pos_tag in s))\n",
    "\n",
    "for i, r in enumerate(reviews):\n",
    "  print(r[\"cv\"], r[\"sentiment\"], len(r[\"content\"]))  # cv, sentiment, num sents\n",
    "  # true_sent.append(r[\"sentiment\"])\n",
    "  print_sentence_with_pos(r[\"content\"][0])\n",
    "  if i == 4: \n",
    "    break\n",
    "    \n",
    "c = Counter()\n",
    "for review in reviews:\n",
    "  for sentence in review[\"content\"]:\n",
    "    for token, pos_tag in sentence:\n",
    "      c[token.lower()] += 1\n",
    "      \n",
    "print(\"\\nNumber of word types:\", len(c))\n",
    "print(\"Number of word tokens:\", sum(c.values()))\n",
    "\n",
    "print(\"\\nMost common tokens:\")\n",
    "for token, count in c.most_common(20):\n",
    "  print(\"%10s : %8d\" % (token, count))\n",
    "  "
   ]
  },
  {
   "cell_type": "markdown",
   "metadata": {
    "id": "E6PWaEoh8B34"
   },
   "source": [
    "# Lexicon-based approach (3.5pts)\n",
    "\n"
   ]
  },
  {
   "cell_type": "markdown",
   "metadata": {
    "id": "JsTSMb6ma4E8"
   },
   "source": [
    "A traditional approach to classify documents according to their sentiment is the lexicon-based approach. To implement this approach, you need a **sentiment lexicon**, i.e., a list of words annotated with a sentiment label (e.g., positive and negative, or a score from 0 to 5).\n",
    "\n",
    "In this practical, you will use the sentiment\n",
    "lexicon released by Wilson et al. (2005).\n",
    "\n",
    "> Theresa Wilson, Janyce Wiebe, and Paul Hoffmann\n",
    "(2005). [Recognizing Contextual Polarity in Phrase-Level Sentiment\n",
    "Analysis](http://www.aclweb.org/anthology/H/H05/H05-1044.pdf). HLT-EMNLP.\n",
    "\n",
    "Pay attention to all the information available in the sentiment lexicon. The field *word1* contains the lemma, *priorpolarity* contains the sentiment label (positive, negative, both, or neutral), *type* gives you the magnitude of the word's sentiment (strong or weak), and *pos1* gives you the part-of-speech tag of the lemma. Some lemmas can have multiple part-of-speech tags and thus multiple entries in the lexicon. The path of the lexicon file is `\"sent_lexicon\"`.\n"
   ]
  },
  {
   "cell_type": "code",
   "execution_count": 7,
   "metadata": {
    "colab": {
     "base_uri": "https://localhost:8080/"
    },
    "id": "Ogq0Eq2hQglh",
    "outputId": "ff45d866-1d5f-4d95-93f8-e393c2d07556"
   },
   "outputs": [],
   "source": [
    "pos = []\n",
    "strengths = []\n",
    "with open(\"sent_lexicon\", mode=\"r\", encoding=\"utf-8\") as f:\n",
    "    line_cnt = 0\n",
    "    for line in f:\n",
    "        metadata = line.strip()\n",
    "        # print(metadata)\n",
    "        w_type, w_len, word, word_pos, word_stem, polarity = metadata.split()\n",
    "        pos.append(word_pos[5:])\n",
    "        strengths.append(w_type[5:])\n",
    "        line_cnt += 1\n",
    "        # if line_cnt > 4:\n",
    "        #     break"
   ]
  },
  {
   "cell_type": "code",
   "execution_count": 8,
   "metadata": {},
   "outputs": [
    {
     "name": "stdout",
     "output_type": "stream",
     "text": [
      "{'weaksubj', 'strongsubj'}\n",
      "{'verb', 'anypos', 'adj', 'adverb', 'noun'}\n"
     ]
    }
   ],
   "source": [
    "print(set(strengths))\n",
    "print(set(pos))"
   ]
  },
  {
   "cell_type": "markdown",
   "metadata": {
    "id": "Mml4nOtIUBhn"
   },
   "source": [
    "Lexica such as this can be used to solve\n",
    "the classification task without using Machine Learning. For example, one might look up every word $w_1 ... w_n$ in a document, and compute a **binary score**\n",
    "$S_{binary}$ by counting how many words have a positive or a\n",
    "negative label in the sentiment lexicon $SLex$.\n",
    "\n",
    "$$S_{binary}(w_1 w_2 ... w_n) = \\sum_{i = 1}^{n}\\text{sign}(SLex\\big[w_i\\big])$$\n",
    "\n",
    "where $\\text{sign}(SLex\\big[w_i\\big])$ refers to the polarity of $w_i$.\n",
    "\n",
    "**Threshold.** On average, there are more positive than negative words per review (~7.13 more positive than negative per review) to take this bias into account you should use a threshold of **8** (roughly the bias itself) to make it harder to classify as positive.\n",
    "\n",
    "$$\n",
    "\\text{classify}(S_{binary}(w_1 w_2 ... w_n)) = \\bigg\\{\\begin{array}{ll}\n",
    "        \\text{positive} & \\text{if } S_{binary}(w_1w_2...w_n) > threshold\\\\\n",
    "        \\text{negative} & \\text{otherwise}\n",
    "        \\end{array}\n",
    "$$\n"
   ]
  },
  {
   "cell_type": "markdown",
   "metadata": {
    "id": "tOFnMvbeeZrc"
   },
   "source": [
    "#### (Q1.1) Implement this approach and report its classification accuracy. (1 pt)"
   ]
  },
  {
   "cell_type": "code",
   "execution_count": 9,
   "metadata": {
    "id": "ED2aTEYutW1-"
   },
   "outputs": [],
   "source": [
    "# YOUR CODE HERE\n",
    "def compute_weighted_score(word_list: tg.List[str], lexicon: tg.Dict) -> int:\n",
    "    \"\"\"\n",
    "    Computes the weighted score by summing the strength of each word in the\n",
    "    word list\n",
    "\n",
    "    Parameters\n",
    "    ----------\n",
    "    word_list : tg.List[str]\n",
    "        The list of words to be scored.\n",
    "    lexicon : tg.Dict\n",
    "        The lexicon to be used for scoring\n",
    "    Returns\n",
    "    -------\n",
    "    int\n",
    "        The weighted score.\n",
    "    \"\"\"\n",
    "    weighted_pol_arr = np.array(\n",
    "        [\n",
    "            lexicon[word][\"strength\"] * lexicon[word][\"polarity\"]\n",
    "            for word in word_list\n",
    "            if word in lexicon\n",
    "        ]\n",
    "    )\n",
    "    return weighted_pol_arr.sum().astype(int)\n",
    "\n",
    "\n",
    "def compute_bin_score(word_list: tg.List[str], lexicon: tg.Dict):\n",
    "    \"\"\"\n",
    "    Computes the binary score by counting how many words have a positive or a\n",
    "    negative label in the sentiment lexicon\n",
    "\n",
    "    Parameters\n",
    "    ----------\n",
    "    word_list : tg.List[str]\n",
    "        The list of words to be scored.\n",
    "    lexicon : tg.Dict\n",
    "        The lexicon to be used for scoring\n",
    "\n",
    "    Returns\n",
    "    -------\n",
    "    int\n",
    "        The binary score.\n",
    "    \"\"\"\n",
    "    polarity_arr = np.array(\n",
    "        [lexicon[word][\"polarity\"] for word in word_list if word in lexicon]\n",
    "    )\n",
    "    return polarity_arr.sum().astype(int)\n",
    "\n",
    "\n",
    "def classify_document(\n",
    "    document: tg.Dict,\n",
    "    lexicon: tg.Dict,\n",
    "    mode: str = \"unweighted\",\n",
    "    thresh: float = 8.0,\n",
    "    thresh_kind: str = \"absolute\",\n",
    ") -> int:\n",
    "    \"\"\"\n",
    "    Classifies a document using a lexicon approach as either positive or negative.\n",
    "\n",
    "    Parameters\n",
    "    ----------\n",
    "    document : dict\n",
    "        The document to be classified.\n",
    "        {\"cv\": integer, \"sentiment\": str, \"content\": list of (word, pos)}\n",
    "    lexicon : dict\n",
    "        The lexicon to be used for scoring\n",
    "    mode : str\n",
    "        The mode of classification.\n",
    "    thresh : float, default 8.0\n",
    "        The threshold to be used for classification.\n",
    "    thresh_kind : str, default \"absolute\"\n",
    "        The kind of threshold to be used for classification.\n",
    "        \"absolute\" for absolute threshold\n",
    "        \"density\" for density threshold\n",
    "\n",
    "    Returns\n",
    "    -------\n",
    "    int\n",
    "        1 if the document is positive, -1 if negative.\n",
    "    \"\"\"\n",
    "    assert mode in [\n",
    "        \"unweighted\",\n",
    "        \"weighted\",\n",
    "    ], \"`mode` must be either 'unweighted' or 'weighted'\"\n",
    "    # flatten document\n",
    "    data = [\n",
    "        word.lower()\n",
    "        for sentence in document[\"content\"]\n",
    "        for word, _pos in sentence\n",
    "        if word.lower() in lexicon and lexicon[word.lower()][\"polarity\"] in [1, -1]\n",
    "    ]\n",
    "    if mode == \"unweighted\":\n",
    "        score_func = compute_bin_score\n",
    "    else:\n",
    "        score_func = compute_weighted_score\n",
    "    score = score_func(data, lexicon)\n",
    "    if thresh_kind == \"density\":\n",
    "        thresh = np.ceil(thresh * len(data))\n",
    "    # finally, we can classify\n",
    "    return 1 if score > thresh else -1\n",
    "\n",
    "\n",
    "def build_lexicon(file_path: str) -> tg.Dict:\n",
    "    \"\"\"\n",
    "    Builds a lexicon from a file.\n",
    "\n",
    "    Parameters\n",
    "    -----------\n",
    "    file_path : str The path to the file.\n",
    "\n",
    "    Returns\n",
    "    --------\n",
    "    A dictionary containing the lexicon data\n",
    "    \"\"\"\n",
    "    lexicon: tg.Dict = {}\n",
    "    with open(file_path, \"r\") as f:\n",
    "        # parse file line by line\n",
    "        for line in f:\n",
    "            strength, length, word, pos, stemmed, polarity = line.split()\n",
    "            # we ignore duplicate words, keep only most recent\n",
    "            lexicon[word[6:].lower()] = {\n",
    "                \"strength\": 2 if strength[5:] == \"strongsubj\" else 1,\n",
    "                \"length\": int(length[4:]),\n",
    "                \"pos\": pos[5:],\n",
    "                \"stemmed\": stemmed[9:],\n",
    "                \"polarity\": 1\n",
    "                if polarity[14:] == \"positive\"\n",
    "                else -1\n",
    "                if polarity[14:] == \"negative\"\n",
    "                else 0,\n",
    "            }\n",
    "    return lexicon"
   ]
  },
  {
   "cell_type": "code",
   "execution_count": 10,
   "metadata": {},
   "outputs": [],
   "source": [
    "# if name == main (lol)\n",
    "lexicon = build_lexicon(\"sent_lexicon\")\n",
    "# pred and labels\n",
    "y_pred = np.array([classify_document(review, lexicon) for review in reviews])\n",
    "y_true = np.array([1 if review[\"sentiment\"] == \"POS\" else -1 for review in reviews])"
   ]
  },
  {
   "cell_type": "code",
   "execution_count": 11,
   "metadata": {
    "id": "iy528EUTphz5"
   },
   "outputs": [
    {
     "name": "stdout",
     "output_type": "stream",
     "text": [
      "Accuracy: 0.68\n"
     ]
    }
   ],
   "source": [
    "# token_results should be a list of binary indicators; for example [1, 0, 1, ...] \n",
    "# where 1 indicates a correct classification and 0 an incorrect classification.\n",
    "token_results = (y_pred == y_true).astype(int)\n",
    "token_accuracy = token_results.sum()/len(token_results)\n",
    "print(\"Accuracy: %0.2f\" % token_accuracy)"
   ]
  },
  {
   "cell_type": "markdown",
   "metadata": {
    "id": "Twox0s_3eS0V"
   },
   "source": [
    "As the sentiment lexicon also has information about the **magnitude** of\n",
    "sentiment (e.g., *“excellent\"* has the same sentiment _polarity_ as *“good\"* but it has a higher magnitude), we can take a more fine-grained approach by adding up all\n",
    "sentiment scores, and deciding the polarity of the movie review using\n",
    "the sign of the weighted score $S_{weighted}$.\n",
    "\n",
    "$$S_{weighted}(w_1w_2...w_n) = \\sum_{i = 1}^{n}SLex\\big[w_i\\big]$$\n",
    "\n",
    "\n",
    "Make sure you define an appropriate threshold for this approach.\n",
    "\n",
    "#### (Q1.2) Now incorporate magnitude information and report the classification accuracy. Don't forget to use the threshold. (1pt)"
   ]
  },
  {
   "cell_type": "code",
   "execution_count": 12,
   "metadata": {
    "id": "qG3hUDnPtkhS"
   },
   "outputs": [],
   "source": [
    "# YOUR CODE HERE\n",
    "def determine_threshold(\n",
    "    documents: tg.List[tg.Dict],\n",
    "    lexicon: tg.Dict,\n",
    "    mode: str = \"unweighted\",\n",
    "    kind: str = \"absolute\",\n",
    ") -> float:\n",
    "    \"\"\"\n",
    "    Determines the threshold to be used for classification, based on the\n",
    "    average imbalance of positive to negative words in a document.\n",
    "\n",
    "    Parameters\n",
    "    ----------\n",
    "    documents : tg.List[dict]\n",
    "        The list of documents to be used for threshold determination.\n",
    "    lexicon : dict\n",
    "        The lexicon to be used for word polarity determination.\n",
    "    mode : str, default \"unweighted\"\n",
    "        The mode of classification.\n",
    "    kind : str, default \"absolute\"\n",
    "        The kind of threshold to be used for classification.\n",
    "        \"absolute\" for absolute threshold\n",
    "        \"density\" for density threshold\n",
    "    \"\"\"\n",
    "    diffs = np.zeros(len(documents), dtype=float)\n",
    "    lens = diffs.copy()\n",
    "    for i, doc in enumerate(documents):\n",
    "        n_positives = 0\n",
    "        n_negatives = 0\n",
    "        for sentence in doc[\"content\"]:\n",
    "            for word, _pos in sentence:\n",
    "                word = word.lower()\n",
    "                if word in lexicon:\n",
    "                    lens[i] += 1\n",
    "                    if mode == \"unweighted\":\n",
    "                        weight = 1\n",
    "                    else:\n",
    "                        weight = lexicon[word][\"strength\"]\n",
    "                    if lexicon[word][\"polarity\"] == 1:\n",
    "                        n_positives += 1 * weight\n",
    "                    elif lexicon[word][\"polarity\"] == -1:\n",
    "                        n_negatives += 1 * weight\n",
    "        diffs[i] = n_positives - n_negatives\n",
    "    if kind == \"density\":\n",
    "        return np.mean(diffs / lens)\n",
    "    else:\n",
    "        return np.ceil(np.mean(diffs))"
   ]
  },
  {
   "cell_type": "code",
   "execution_count": 13,
   "metadata": {},
   "outputs": [],
   "source": [
    "new_thresh = determine_threshold(reviews, lexicon, \"weighted\")\n",
    "\n",
    "y_pred = np.array(\n",
    "    [classify_document(review, lexicon, \"weighted\", new_thresh) for review in reviews]\n",
    ")\n",
    "y_true = np.array([1 if review[\"sentiment\"] == \"POS\" else -1 for review in reviews])"
   ]
  },
  {
   "cell_type": "code",
   "execution_count": 14,
   "metadata": {
    "id": "9vVk7CvDpyka"
   },
   "outputs": [
    {
     "name": "stdout",
     "output_type": "stream",
     "text": [
      "Accuracy: 0.70\n"
     ]
    }
   ],
   "source": [
    "magnitude_results = (y_pred == y_true).astype(int)\n",
    "magnitude_accuracy = magnitude_results.sum()/len(magnitude_results)\n",
    "print(\"Accuracy: %0.2f\" % magnitude_accuracy)"
   ]
  },
  {
   "cell_type": "markdown",
   "metadata": {
    "id": "h9SHoGPfsAHV"
   },
   "source": [
    "#### (Q.1.4) Make a barplot of the two results (0.5pt)"
   ]
  },
  {
   "cell_type": "code",
   "execution_count": 15,
   "metadata": {
    "id": "8LgBcYcXsEk3"
   },
   "outputs": [
    {
     "data": {
      "image/png": "[encoded data removed]",
      "text/plain": [
       "<Figure size 1152x576 with 1 Axes>"
      ]
     },
     "metadata": {
      "needs_background": "light"
     },
     "output_type": "display_data"
    }
   ],
   "source": [
    "plt.figure(figsize=(16, 8))\n",
    "plt.barh(\n",
    "    [\"binary\", \"weighted\"],\n",
    "    [token_accuracy, magnitude_accuracy],\n",
    "    color=[\"darkblue\", \"black\"],\n",
    ")\n",
    "plt.xlabel(\"accuracy\")\n",
    "plt.show()"
   ]
  },
  {
   "cell_type": "markdown",
   "metadata": {
    "id": "sNhS8OCVxMHd"
   },
   "source": [
    "#### (Q1.3) A better threshold (1pt)\n",
    "Above we have defined a threshold to account for an inherent bias in the dataset: there are more positive than negative words per review.\n",
    "However, that threshold does not take into account *document length*. Explain why this is a problem and implement an alternative way to compute the threshold."
   ]
  },
  {
   "cell_type": "markdown",
   "metadata": {
    "id": "xo7gk1I-omLI"
   },
   "source": [
    "---\n",
    "\n",
    "Not taking into account document length is problematic because unfairly punishes shorter documents. For an instance, a very short positive review with less positive words than the threshold will be incorrectly classified as negative. A simple solution to this is computing the threshold dynamically for each document based on its length. This could consist in dividing the original threshold by the average number of words per document, hence obtaining a threshold density. We could then obtain the dynamic threshold for a given document by multiplying the threshold density by the number of words in the given document.\n",
    "\n",
    "The code below shows what arguments to pass to the functions defined in previous cells to enable such an implementation, using weighted polarity.\n",
    "\n",
    "---"
   ]
  },
  {
   "cell_type": "code",
   "execution_count": 16,
   "metadata": {
    "id": "Dwt0B8h8aKjr"
   },
   "outputs": [
    {
     "name": "stdout",
     "output_type": "stream",
     "text": [
      "Accuracy: 0.68\n"
     ]
    }
   ],
   "source": [
    "# YOUR CODE HERE\n",
    "new_thresh = determine_threshold(reviews, lexicon, \"weighted\", \"density\")\n",
    "\n",
    "y_pred = np.array(\n",
    "    [\n",
    "        classify_document(review, lexicon, \"weighted\", new_thresh, \"density\")\n",
    "        for review in reviews\n",
    "    ]\n",
    ")\n",
    "y_true = np.array([1 if review[\"sentiment\"] == \"POS\" else -1 for review in reviews])\n",
    "\n",
    "# check results\n",
    "better_results = (y_pred == y_true).astype(int)\n",
    "better_accuracy = better_results.sum()/len(better_results)\n",
    "print(\"Accuracy: %0.2f\" % better_accuracy)"
   ]
  },
  {
   "cell_type": "markdown",
   "metadata": {
    "id": "LibV4nR89BXb"
   },
   "source": [
    "# Naive Bayes (9.5pts)"
   ]
  },
  {
   "cell_type": "markdown",
   "metadata": {
    "id": "fnF9adQnuwia"
   },
   "source": [
    "\n",
    "Your second task is to program a simple Machine Learning approach that operates\n",
    "on a simple Bag-of-Words (BoW) representation of the text data, as\n",
    "described by Pang et al. (2002). In this approach, the only features we\n",
    "will consider are the words in the text themselves, without bringing in\n",
    "external sources of information. The BoW model is a popular way of\n",
    "representing texts as vectors, making it\n",
    "easy to apply classical Machine Learning algorithms on NLP tasks.\n",
    "However, the BoW representation is also very crude, since it discards\n",
    "all information related to word order and grammatical structure in the\n",
    "original text—as the name suggests.\n",
    "\n",
    "## Writing your own classifier (4pts)\n",
    "\n",
    "Write your own code to implement the Naive Bayes (NB) classifier. As\n",
    "a reminder, the Naive Bayes classifier works according to the following\n",
    "equation:\n",
    "$$\\hat{c} = \\operatorname*{arg\\,max}_{c \\in C} P(c|\\bar{f}) = \\operatorname*{arg\\,max}_{c \\in C} P(c)\\prod^n_{i=1} P(f_i|c)$$\n",
    "where $C = \\{ \\text{POS}, \\text{NEG} \\}$ is the set of possible classes,\n",
    "$\\hat{c} \\in C$ is the most probable class, and $\\bar{f}$ is the feature\n",
    "vector. Remember that we use the log of these probabilities when making\n",
    "a prediction:\n",
    "$$\\hat{c} = \\operatorname*{arg\\,max}_{c \\in C} \\Big\\{\\log P(c) + \\sum^n_{i=1} \\log P(f_i|c)\\Big\\}$$\n",
    "\n",
    "You can find more details about Naive Bayes in [Jurafsky &\n",
    "Martin](https://web.stanford.edu/~jurafsky/slp3/). You can also look at\n",
    "this helpful\n",
    "[pseudo-code](https://nlp.stanford.edu/IR-book/html/htmledition/naive-bayes-text-classification-1.html).\n",
    "\n",
    "*Note: this section and the next aim to put you in a position to replicate\n",
    "    Pang et al.'s Naive Bayes results. However, your numerical results\n",
    "    will differ from theirs, as they used different data.*\n",
    "\n",
    "**You must write the Naive Bayes training and prediction code from\n",
    "scratch.** You will not be given credit for using off-the-shelf Machine\n",
    "Learning libraries.\n",
    "\n",
    "The data contains the text of the reviews, where each document consists\n",
    "of the sentences in the review, the sentiment of the review and an index\n",
    "(cv) that you will later use for cross-validation. The\n",
    "text has already been tokenised and POS-tagged for you. Your algorithm\n",
    "should read in the text, **lowercase it**, store the words and their\n",
    "frequencies in an appropriate data structure that allows for easy\n",
    "computation of the probabilities used in the Naive Bayes algorithm, and\n",
    "then make predictions for new instances.\n"
   ]
  },
  {
   "cell_type": "markdown",
   "metadata": {
    "id": "vEpyQSBSkb33"
   },
   "source": [
    "#### (Q2.1) Unseen words (1pt)\n",
    "The presence of words in the test dataset that\n",
    "have not been seen during training can cause probabilities in the Naive Bayes classifier to equal $0$.\n",
    "These can be words which are unseen in both positive and negative training reviews (case 1), but also words which are seen in reviews _of only one sentiment class_ in the training dataset (case 2). In both cases, **you should skip these words for both classes**.  What would be the problem instead with skipping words only for one class in case 2? "
   ]
  },
  {
   "cell_type": "markdown",
   "metadata": {
    "id": "BanFiYYnoxDW"
   },
   "source": [
    "---\n",
    "\n",
    "To compute the score (log posterior), we need the per-class log-prior and per-word-in-class log-likelihood. The latter is computed as the log of the count of the given word for that class over the total count of words in that class. If a given word in the vocabulary did not appear when training a specific class, the count for that word in that class will be 0. This results in an estimated likelihood of 0 for that word, which is unreasonable. More importantly howveer, this makes it impossible to find the log likelihood for that word, since the log of 0 is undefined. The problem traverses upwards in our implementation causing our estimated score to be incorrect. This is why our vocabulary needs to consist in words that appear across both classes at least once in the training when we are not smoothing.\n",
    "\n",
    "---"
   ]
  },
  {
   "cell_type": "markdown",
   "metadata": {
    "id": "gsZRhaI3WvzC"
   },
   "source": [
    "#### (Q2.2) Train your classifier on (positive and negative) reviews with cv-value 000-899, and test it on the remaining (positive and negative) reviews cv900–cv999.  Report results using classification accuracy as your evaluation metric. Your  features are the word vocabulary. The value of a feature is the count of that feature (word) in the document. (2pts)\n"
   ]
  },
  {
   "cell_type": "code",
   "execution_count": 17,
   "metadata": {
    "id": "G7zaJYGFvIJ3"
   },
   "outputs": [],
   "source": [
    "\n",
    "SENT_MAP = {\n",
    "    \"POS\": 0,\n",
    "    \"NEG\": 1,\n",
    "}\n",
    "\n",
    "\n",
    "def preprocess_reviews(\n",
    "    reviews: tg.List[tg.Dict],\n",
    "    stem: bool = False,\n",
    "    bigrams: bool = False,\n",
    "    trigrams: bool = False,\n",
    "    cached: bool = False,\n",
    ") -> tg.List[tg.Dict]:\n",
    "    \"\"\"\n",
    "    Preprocesses the reviews with lower-casing or stemming\n",
    "    and/or bigram and trigram calculation\n",
    "\n",
    "    Parameters\n",
    "    ----------\n",
    "    reviews : tg.List[Dict]\n",
    "        the reviews to preprocess\n",
    "    stem : bool, default False\n",
    "        Whether to stem the reviews, if False, simply lower-cases\n",
    "    bigram : bool, default False\n",
    "        Whether to calculate bigrams\n",
    "    trigrams : bool, default False\n",
    "        Whether to calculate bigrams _and_ trigrams\n",
    "    cached : bool, default False\n",
    "        Whether the passed `reviews` are already lower-cased/stemmed\n",
    "\n",
    "    Returns\n",
    "    -------\n",
    "    tg.List[Dict]\n",
    "        the preprocessed reviews\n",
    "    \"\"\"\n",
    "    if not cached:\n",
    "        if stem:\n",
    "            print(\"Stemming requested; stemming...\")\n",
    "            stemmer = PorterStemmer()\n",
    "            new_reviews = [\n",
    "                {\n",
    "                    \"cv\": review[\"cv\"],\n",
    "                    \"sentiment\": review[\"sentiment\"],\n",
    "                    \"content\": [\n",
    "                        [(stemmer.stem(word), pos) for word, pos in sentence]\n",
    "                        for sentence in review[\"content\"]\n",
    "                    ],\n",
    "                }\n",
    "                for review in reviews\n",
    "            ]\n",
    "            print(\"Stemming complete.\")\n",
    "        else:\n",
    "            new_reviews = [\n",
    "                {\n",
    "                    \"cv\": review[\"cv\"],\n",
    "                    \"sentiment\": review[\"sentiment\"],\n",
    "                    \"content\": [\n",
    "                        [(word.lower(), pos) for word, pos in sentence]\n",
    "                        for sentence in review[\"content\"]\n",
    "                    ],\n",
    "                }\n",
    "                for review in reviews\n",
    "            ]\n",
    "    else:\n",
    "        new_reviews = copy.deepcopy(reviews)\n",
    "    if bigrams or trigrams:\n",
    "        print(\"Computing ngrams...\")\n",
    "        for review in new_reviews:\n",
    "            review_words = [\n",
    "                word for sentence in review[\"content\"] for word, _pos in sentence\n",
    "            ]\n",
    "            review_bigrams = list(ngrams(review_words, 2))\n",
    "            bigram_pos = [\"bigram\" for bigram in review_bigrams]\n",
    "            review[\"content\"].append(list(zip(review_bigrams, bigram_pos)))\n",
    "            if trigrams:\n",
    "                review_trigrams = list(ngrams(review_words, 3))\n",
    "                trigram_pos = [\"trigram\" for trigram in review_trigrams]\n",
    "                review[\"content\"].append(list(zip(review_trigrams, trigram_pos)))\n",
    "        print(\"Done.\")\n",
    "    return new_reviews\n",
    "\n",
    "\n",
    "def extract_vocab(\n",
    "    documents: tg.List[tg.Dict], use_pos: bool = False, only_open: bool = False\n",
    "):\n",
    "    \"\"\"\n",
    "    Extracts the vocabulary from the documents,\n",
    "\n",
    "    Parameters\n",
    "    ----------\n",
    "    documents : tg.List[Dict]\n",
    "    use_pos : bool, default False\n",
    "        Whether to use the word+POS as vocab keys\n",
    "    only_open : bool, default False\n",
    "        Whether to only include open-class POS-tagged words,\n",
    "        ignored if `use_pos` is False\n",
    "\n",
    "    Returns\n",
    "    -------\n",
    "    dict\n",
    "        The vocabulary\n",
    "    \"\"\"\n",
    "    vocab = {}\n",
    "    for doc in documents:\n",
    "        for sentence in doc[\"content\"]:\n",
    "            for token, pos in sentence:\n",
    "                if use_pos:\n",
    "                    key = (token, pos)\n",
    "                    if only_open:\n",
    "                        if pos not in POS_MAP:\n",
    "                            # skip this token\n",
    "                            continue\n",
    "                else:\n",
    "                    key = token\n",
    "                if key not in vocab:\n",
    "                    vocab[key] = {\"POS\": 0, \"NEG\": 0}\n",
    "                if doc[\"sentiment\"] == \"POS\":\n",
    "                    vocab[key][\"POS\"] += 1\n",
    "                elif doc[\"sentiment\"] == \"NEG\":\n",
    "                    vocab[key][\"NEG\"] += 1\n",
    "    return vocab\n",
    "\n",
    "\n",
    "\n",
    "\n",
    "def train_nb(\n",
    "    classes: tg.Tuple[str, ...],\n",
    "    documents: tg.List[tg.Dict],\n",
    "    alpha: float = 0,\n",
    "):\n",
    "    \"\"\"\n",
    "    Trains a Naive Bayes model\n",
    "    Parameters\n",
    "    ----------\n",
    "    classes : tg.Tuple[str, ...]\n",
    "        the classes that the model should predict\n",
    "    documents : tg.List[Dict]\n",
    "        the documents on which to train on\n",
    "    alpha : float\n",
    "        smoothing parameter, which is added to word counts.\n",
    "\n",
    "    Returns\n",
    "    -------\n",
    "    vocab : tg.Dict\n",
    "        the computed vocabulary for the input documents\n",
    "    logprior : npt.NDArray\n",
    "        (n_classes, ) array of log priors\n",
    "    loglikelihood : tg.List[tg.Dict]\n",
    "        (n_classes, ) array of dictionary containing loglikelihood of each word\n",
    "    \"\"\"\n",
    "    vocab: tg.Dict = extract_vocab(documents)\n",
    "    if alpha == 0:\n",
    "        # filter vocab if we are not applying smoothing\n",
    "        vocab = {k: v for (k, v) in vocab.items() if v[\"POS\"] > 0 and v[\"NEG\"] > 0}\n",
    "\n",
    "    n_docs = len(documents)\n",
    "    logprior = np.zeros(len(classes))\n",
    "    loglikelihood: tg.List[tg.Dict] = [{} for _ in range(len(classes))]\n",
    "    for c, clx in enumerate(classes):\n",
    "        clx_docs = [doc for doc in documents if doc[\"sentiment\"] == clx]\n",
    "        n_docs_clx = len(clx_docs)\n",
    "        logprior[c] = np.log(n_docs_clx / n_docs)\n",
    "        # compute sum of word counts, which we'll use to compute loglikelihood (denom)\n",
    "        word_counts_sum = (np.array([vocab[word][clx] for word in vocab]) + alpha).sum()\n",
    "        for word in vocab:\n",
    "            loglikelihood[c][word] = np.log(\n",
    "                (vocab[word][clx] + alpha) / (word_counts_sum)\n",
    "            )\n",
    "    return vocab, logprior, loglikelihood\n",
    "\n",
    "\n",
    "def nb_predict(\n",
    "    classes: tg.Tuple[str, ...],\n",
    "    vocab: tg.Dict,\n",
    "    logprior: npt.NDArray[float],\n",
    "    loglikelihood: tg.List[tg.Dict],\n",
    "    doc: tg.Dict,\n",
    "):\n",
    "    \"\"\"\n",
    "    Predicts the sentiment of a document\n",
    "\n",
    "    Parameters\n",
    "    ----------\n",
    "    classes : tg.Tuple[str, ...]\n",
    "    vocab : tg.Dict\n",
    "    prior : npt.NDArray\n",
    "    loglikelihood : tg.List[tg.Dict]\n",
    "    doc : tg.Dict\n",
    "        the document to classify\n",
    "\n",
    "    Returns\n",
    "    -------\n",
    "    int\n",
    "        The index of the predicted class\n",
    "    \"\"\"\n",
    "    doc_text = [\n",
    "        token\n",
    "        for sentence in doc[\"content\"]\n",
    "        for token, _pos in sentence\n",
    "        if token in vocab\n",
    "    ]\n",
    "    score: npt.NDArray = np.zeros(len(classes), dtype=float)\n",
    "    for c, clx in enumerate(classes):\n",
    "        score[c] = logprior[c]\n",
    "        for token in doc_text:\n",
    "            if token in vocab:\n",
    "                score[c] += loglikelihood[c][token]\n",
    "\n",
    "    return np.argmax(score)\n",
    "\n",
    "\n",
    "def train_eval_nb(\n",
    "    train_data: tg.List[tg.Dict], test_data: tg.List[tg.Dict], alpha: float = 0\n",
    ") -> tg.Tuple[float, float, float, float]:\n",
    "    \"\"\"\n",
    "    Trains and evaluates a Naive Bayes model\n",
    "\n",
    "    Parameters\n",
    "    ----------\n",
    "    train_data : tg.List[Dict]\n",
    "        the training data\n",
    "    test_data : tg.List[Dict]\n",
    "    alpha : float, default 0\n",
    "        smoothing parameter, which is added to word counts.\n",
    "\n",
    "    Returns\n",
    "    -------\n",
    "    metrics : tuple of floats\n",
    "        tuple of accuracy, precision, recall and vocab size\n",
    "    \"\"\"\n",
    "    vocab, logprior, loglikelihood = train_nb((\"POS\", \"NEG\"), train_data, alpha)\n",
    "    y_pred = np.array(\n",
    "        [\n",
    "            nb_predict((\"POS\", \"NEG\"), vocab, logprior, loglikelihood, doc)\n",
    "            for doc in test_data\n",
    "        ]\n",
    "    )\n",
    "    y_true = np.array([SENT_MAP[doc[\"sentiment\"]] for doc in test_data])\n",
    "\n",
    "    accuracy = accuracy_score(y_true, y_pred)\n",
    "    precision = precision_score(y_true, y_pred)\n",
    "    recall = recall_score(y_true, y_pred)\n",
    "    vocab_size = len(vocab.keys())\n",
    "\n",
    "    return accuracy, precision, recall, vocab_size\n",
    "\n"
   ]
  },
  {
   "cell_type": "code",
   "execution_count": 18,
   "metadata": {},
   "outputs": [
    {
     "name": "stdout",
     "output_type": "stream",
     "text": [
      "Accuracy: 0.835\n"
     ]
    }
   ],
   "source": [
    "lower_case_reviews = preprocess_reviews(reviews)\n",
    "\n",
    "train_idxs = range(0, 900)\n",
    "test_idxs = range(900, 1000)\n",
    "train_reviews = [review for review in lower_case_reviews if review[\"cv\"] in train_idxs]\n",
    "test_reviews = [review for review in lower_case_reviews if review[\"cv\"] in test_idxs]\n",
    "\n",
    "\n",
    "accuracy, precision, recall, vocab_size = train_eval_nb(train_reviews, test_reviews)\n",
    "\n",
    "print(f\"Accuracy: {accuracy:.3f}\")"
   ]
  },
  {
   "cell_type": "markdown",
   "metadata": {
    "id": "0INK-PBoM6CB"
   },
   "source": [
    "#### (Q2.3) Would you consider accuracy to also be a good way to evaluate your classifier in a situation where 90% of your data instances are of positive movie reviews? (1pt)\n",
    "\n",
    "Simulate this scenario by keeping the positive reviews\n",
    "data unchanged, but only using negative reviews cv000–cv089 for\n",
    "training, and cv900–cv909 for testing. Calculate the classification\n",
    "accuracy, and explain what changed."
   ]
  },
  {
   "cell_type": "markdown",
   "metadata": {
    "id": "oFbcsYlipBAw"
   },
   "source": [
    "---\n",
    "\n",
    "I would not consider accuracy to be a good way to evaluate our classifier in this situation. This is because in such a case, our dataset is strongly unbalanced towards one class, the positive one. The result is that our model will be incorrectly biased (and in a sense rewarded) for simply learning to predict the majority class regardless of the input. In a way, it is overfitting to a certain class. Because the majority of the input will be of this class, most of the model's predictions will be correct, increasing accuracy and artificially obtaining \"good\" results. While this may be fine for a problem where false positives are not a concern, it becomes problematic in problems sensitive to type I errors. This is noticed below where our accuracy increases when using an unbalanced dataset. Other metrics, such as precision and recall, are better suited for classification problems.\n",
    "\n",
    "---"
   ]
  },
  {
   "cell_type": "code",
   "execution_count": 19,
   "metadata": {
    "id": "GWDkt5ZrrFGp"
   },
   "outputs": [],
   "source": [
    "# YOUR CODE HERE\n",
    "def split_data(\n",
    "    data: tg.List[tg.Dict],\n",
    "    pos_start_stop: tg.Tuple[tg.Tuple[int, int], tg.Tuple[int, int]],\n",
    "    neg_start_stop: tg.Optional[\n",
    "        tg.Tuple[tg.Tuple[int, int], tg.Tuple[int, int]]\n",
    "    ] = None,\n",
    ") -> tg.Tuple[tg.List[tg.Dict], tg.List[tg.Dict]]:\n",
    "    \"\"\"\n",
    "    Splits data into training and testing sets,\n",
    "    allowing for different starts and stops between\n",
    "    negative and positive classes\n",
    "\n",
    "    Parameters\n",
    "    ----------\n",
    "    data : tg.List[Dict]\n",
    "        the data to split\n",
    "    pos_start_stop : tg.Tuple[tg.Tuple[int, int], tg.Tuple[int, int]]\n",
    "        ((train_start, train_stop), (test_start, test_stop))\n",
    "        for positive class\n",
    "    neg_start_stop : tg.Tuple[tg.Tuple[int, int], tg.Tuple[int, int]]\n",
    "        ((train_start, train_stop), (test_start, test_stop))\n",
    "        for negative class. Optional, if None, will use the same as positive\n",
    "\n",
    "    Returns\n",
    "    -------\n",
    "    tg.Tuple[tg.List[Dict], tg.List[Dict]]\n",
    "        (train_data, test_data)\n",
    "    \"\"\"\n",
    "    if neg_start_stop is None:\n",
    "        neg_start_stop = pos_start_stop\n",
    "    starts_stops = (pos_start_stop, neg_start_stop)\n",
    "    train = []\n",
    "    test = []\n",
    "    for i, clx in enumerate((\"POS\", \"NEG\")):\n",
    "        print(\n",
    "            f\"Splitting data for class {clx} \\n\"\n",
    "            f\"Using train indices {starts_stops[i][0]} and \"\n",
    "            f\"test indices {starts_stops[i][1]}\"\n",
    "        )\n",
    "\n",
    "        train_idxs = range(starts_stops[i][0][0], starts_stops[i][0][1])\n",
    "        test_idxs = range(starts_stops[i][1][0], starts_stops[i][1][1])\n",
    "        train_data = [\n",
    "            data_entry\n",
    "            for data_entry in data\n",
    "            if data_entry[\"cv\"] in train_idxs and data_entry[\"sentiment\"] == clx\n",
    "        ]\n",
    "        train += train_data\n",
    "\n",
    "        test_data = [\n",
    "            data_entry\n",
    "            for data_entry in data\n",
    "            if data_entry[\"cv\"] in test_idxs and data_entry[\"sentiment\"] == clx\n",
    "        ]\n",
    "        test += test_data\n",
    "    return train, test"
   ]
  },
  {
   "cell_type": "code",
   "execution_count": 20,
   "metadata": {},
   "outputs": [
    {
     "name": "stdout",
     "output_type": "stream",
     "text": [
      "Splitting data for class POS \n",
      "Using train indices (0, 900) and test indices (900, 1000)\n",
      "Splitting data for class NEG \n",
      "Using train indices (0, 90) and test indices (900, 910)\n",
      "Accuracy: 0.891\n"
     ]
    }
   ],
   "source": [
    "pos_idxs = (0, 900, 900, 1000)\n",
    "neg_idxs = (0, 90, 900, 910)\n",
    "\n",
    "train_reviews, test_reviews = split_data(\n",
    "        lower_case_reviews,\n",
    "        (pos_idxs[:2], pos_idxs[2:]),\n",
    "        (neg_idxs[:2], neg_idxs[2:]),\n",
    ")\n",
    "\n",
    "accuracy, precision, recall, vocab_size = train_eval_nb(train_reviews, test_reviews)\n",
    "\n",
    "print(f\"Accuracy: {accuracy:.3f}\")"
   ]
  },
  {
   "cell_type": "markdown",
   "metadata": {
    "id": "6wJzcHX3WUDm"
   },
   "source": [
    "## Smoothing (1pt)\n",
    "\n",
    "As mentioned above, the presence of words in the test dataset that\n",
    "have not been seen during training can cause probabilities in the Naive\n",
    "Bayes classifier to be $0$, thus making that particular test instance\n",
    "undecidable. The standard way to mitigate this effect (as well as to\n",
    "give more clout to rare words) is to use smoothing, in which the\n",
    "probability fraction\n",
    "$$\\frac{\\text{count}(w_i, c)}{\\sum\\limits_{w\\in V} \\text{count}(w, c)}$$ for a word\n",
    "$w_i$ becomes\n",
    "$$\\frac{\\text{count}(w_i, c) + \\text{smoothing}(w_i)}{\\sum\\limits_{w\\in V} \\text{count}(w, c) + \\sum\\limits_{w \\in V} \\text{smoothing}(w)}$$\n",
    "\n",
    "\n",
    "\n"
   ]
  },
  {
   "cell_type": "markdown",
   "metadata": {
    "id": "PBNIcbwUWphC"
   },
   "source": [
    "#### (Q2.4) Implement Laplace feature smoothing (1pt)\n",
    "Implement Laplace smoothing, i.e., smoothing with a constant value ($smoothing(w) = \\kappa, \\forall w \\in V$), in your Naive\n",
    "Bayes classifier’s code, and report the impact on performance. \n",
    "Use $\\kappa = 1$."
   ]
  },
  {
   "cell_type": "code",
   "execution_count": 21,
   "metadata": {
    "id": "g03yflCc9kpW"
   },
   "outputs": [
    {
     "name": "stdout",
     "output_type": "stream",
     "text": [
      "Splitting data for class POS \n",
      "Using train indices (0, 900) and test indices (900, 1000)\n",
      "Splitting data for class NEG \n",
      "Using train indices (0, 900) and test indices (900, 1000)\n",
      "Accuracy: 0.825\n"
     ]
    }
   ],
   "source": [
    "# YOUR CODE HERE\n",
    "# Laplace smoothing is already available in our implementation above, we just\n",
    "# need to pass an argument of alpha=1 when training:\n",
    "train_reviews, test_reviews = split_data(\n",
    "    lower_case_reviews,\n",
    "    (pos_idxs[:2], pos_idxs[2:]),\n",
    ")\n",
    "accuracy, precision, recall, vocab_size = train_eval_nb(train_reviews, test_reviews, 1)\n",
    "\n",
    "print(f\"Accuracy: {accuracy:.3f}\")"
   ]
  },
  {
   "cell_type": "markdown",
   "metadata": {
    "id": "ZiGcgwba87D5"
   },
   "source": [
    "## Cross-Validation (1.5pts)\n",
    "\n",
    "A serious danger in using Machine Learning on small datasets, with many\n",
    "iterations of slightly different versions of the algorithms, is ending up with Type III errors, also called the “testing hypotheses\n",
    "suggested by the data” errors. This type of error occurs when we make\n",
    "repeated improvements to our classifiers by playing with features and\n",
    "their processing, but we don’t get a fresh, never-before seen test\n",
    "dataset every time. Thus, we risk developing a classifier that gets better\n",
    "and better on our data, but only gets worse at generalizing to new, unseen data. In other words, we risk developping a classifier that overfits.\n",
    "\n",
    "A simple method to guard against Type III errors is to use\n",
    "Cross-Validation. In **N-fold Cross-Validation**, we divide the data into N\n",
    "distinct chunks, or folds. Then, we repeat the experiment N times: each\n",
    "time holding out one of the folds for testing, training our classifier\n",
    "on the remaining N - 1 data folds, and reporting performance on the\n",
    "held-out fold. We can use different strategies for dividing the data:\n",
    "\n",
    "-   Consecutive splitting:\n",
    "  - cv000–cv099 = Split 1\n",
    "  - cv100–cv199 = Split 2\n",
    "  - etc.\n",
    "  \n",
    "-   Round-robin splitting (mod 10):\n",
    "  - cv000, cv010, cv020, … = Split 1\n",
    "  - cv001, cv011, cv021, … = Split 2\n",
    "  - etc.\n",
    "\n",
    "-   Random sampling/splitting\n",
    "  - Not used here (but you may choose to split this way in a non-educational situation)\n",
    "\n"
   ]
  },
  {
   "cell_type": "markdown",
   "metadata": {
    "id": "8OeLcbSauGtR"
   },
   "source": [
    "#### (Q2.5) Write the code to implement 10-fold cross-validation using round-robin splitting for your Naive Bayes classifier from Q2.4 and compute the 10 accuracies. Report the final performance, which is the average of the performances per fold. If all splits perform equally well, this is a good sign. (1pt)"
   ]
  },
  {
   "cell_type": "code",
   "execution_count": 22,
   "metadata": {
    "id": "3KeCGPa7Nuzx"
   },
   "outputs": [],
   "source": [
    "def rr_cv_split(\n",
    "    data_len: int,\n",
    "    n_splits: int,\n",
    "    modulo: int,\n",
    "    alpha: float = 0,\n",
    ") -> tg.Tuple[npt.NDArray, npt.NDArray]:\n",
    "    \"\"\"\n",
    "    Performs round robin cross validation split\n",
    "\n",
    "    Parameters\n",
    "    ----------\n",
    "    data_len : int\n",
    "        the length of the data\n",
    "    n_splits : int\n",
    "        the number of splits\n",
    "    modulo : int\n",
    "        the modulo to use for round robin splitting\n",
    "    alpha : float, default 0\n",
    "        the smoothing parameter, which is added to word counts\n",
    "\n",
    "    Returns\n",
    "    -------\n",
    "    tuple of ndarray\n",
    "        tuple containing two (n_splits, -1) ndarrays\n",
    "        the first containing the indices of the training splits\n",
    "        and the second containing the indices of the test splits\n",
    "    \"\"\"\n",
    "\n",
    "    base_split: npt.NDArray = np.arange(0, (data_len - n_splits) + 1, modulo)\n",
    "    splits: tg.List[npt.NDArray] = [base_split + i for i in range(n_splits)]\n",
    "\n",
    "    train_splits = np.zeros((n_splits, len(base_split) * (n_splits - 1)))\n",
    "    test_splits = np.zeros((n_splits, len(base_split)))\n",
    "\n",
    "    for i, test_data_idxs in enumerate(splits):\n",
    "        train_splits[i] = np.concatenate(splits[:i] + splits[(i + 1) :])  # noqa:E203\n",
    "        test_splits[i] = test_data_idxs\n",
    "\n",
    "    return train_splits, test_splits\n",
    "\n",
    "def perform_rr_cv_nb(\n",
    "    data: tg.List[tg.Dict],\n",
    "    n_splits: int,\n",
    "    modulo: int,\n",
    "    alpha: float = 0,\n",
    "    data_len: tg.Optional[int] = None,\n",
    "    verbose: bool = True\n",
    "):\n",
    "    \"\"\"\n",
    "    Performs round robin cross validation of a naive bayes model\n",
    "\n",
    "    Parameters\n",
    "    ----------\n",
    "    data : tg.List[tg.Dict]\n",
    "        the data to use for training and testing\n",
    "    n_splits : int\n",
    "        the number of splits to perform\n",
    "    modulo : int\n",
    "        the modulo to use for round robin splitting\n",
    "    alpha : float, default 0\n",
    "        smoothing parameter, which is added to word counts.\n",
    "    data_len : int, default None\n",
    "        The length of the data to split. If not provided\n",
    "        is inferred from the data\n",
    "    verbose: bool, default True\n",
    "        Whether to print diagnostics\n",
    "\n",
    "    Returns\n",
    "    -------\n",
    "    metrics : npt.NDArray\n",
    "        (4, n_splits) array of accuracies, precisions, recalls and vocab sizes\n",
    "    \"\"\"\n",
    "    if data_len is None:\n",
    "        data_len = len(data)\n",
    "\n",
    "    train, test = rr_cv_split(data_len, n_splits, modulo)\n",
    "\n",
    "    metrics = np.zeros((4, n_splits), dtype=float)\n",
    "\n",
    "    for i, (train_idxs, test_idxs) in enumerate(zip(train, test)):\n",
    "        if verbose:\n",
    "            print(f\"Cross validating on split {i+1} of {n_splits}\")\n",
    "\n",
    "        train_data = [\n",
    "            data_entry for data_entry in data if data_entry[\"cv\"] in train_idxs\n",
    "        ]\n",
    "        test_data = [data_entry for data_entry in data if data_entry[\"cv\"] in test_idxs]\n",
    "\n",
    "        metrics[:, i] = train_eval_nb(train_data, test_data, alpha)\n",
    "\n",
    "    if verbose:\n",
    "        print(\"Cross validation complete.\")\n",
    "\n",
    "    return metrics\n",
    "\n"
   ]
  },
  {
   "cell_type": "code",
   "execution_count": 23,
   "metadata": {},
   "outputs": [
    {
     "name": "stdout",
     "output_type": "stream",
     "text": [
      "Cross validating on split 1 of 10\n",
      "Cross validating on split 2 of 10\n",
      "Cross validating on split 3 of 10\n",
      "Cross validating on split 4 of 10\n",
      "Cross validating on split 5 of 10\n",
      "Cross validating on split 6 of 10\n",
      "Cross validating on split 7 of 10\n",
      "Cross validating on split 8 of 10\n",
      "Cross validating on split 9 of 10\n",
      "Cross validating on split 10 of 10\n",
      "Cross validation complete.\n"
     ]
    }
   ],
   "source": [
    "smooth_metrics = perform_rr_cv_nb(lower_case_reviews, 10, 10, 1, 1000)"
   ]
  },
  {
   "cell_type": "code",
   "execution_count": 24,
   "metadata": {},
   "outputs": [
    {
     "name": "stdout",
     "output_type": "stream",
     "text": [
      "\n",
      "CV accuracies: [0.79  0.835 0.805 0.825 0.78  0.845 0.83  0.775 0.83  0.84 ]\n",
      "mean CV accuracy: 0.815\n"
     ]
    }
   ],
   "source": [
    "print(f\"\\nCV accuracies: {smooth_metrics[0]}\")\n",
    "print(f\"mean CV accuracy: {smooth_metrics[0].mean():.3f}\")"
   ]
  },
  {
   "cell_type": "markdown",
   "metadata": {
    "id": "otdlsDXBNyOa"
   },
   "source": [
    "#### (Q2.6) Report the variance of the 10 accuracy scores. (0.5pt)\n",
    "\n",
    "**Please report all future results using 10-fold cross-validation now\n",
    "(unless told to use the held-out test set).**"
   ]
  },
  {
   "cell_type": "code",
   "execution_count": 25,
   "metadata": {
    "id": "ZoBQm1KuNzNR"
   },
   "outputs": [
    {
     "name": "stdout",
     "output_type": "stream",
     "text": [
      "CV accuracy variance: 0.000602\n"
     ]
    }
   ],
   "source": [
    "# YOUR CODE HERE\n",
    "print(f\"CV accuracy variance: {smooth_metrics[0].var():.6f}\")"
   ]
  },
  {
   "cell_type": "markdown",
   "metadata": {
    "id": "s6A2zX9_BRKm"
   },
   "source": [
    "## Features, overfitting, and the curse of dimensionality\n",
    "\n",
    "In the Bag-of-Words model, ideally we would like each distinct word in\n",
    "the text to be mapped to its own dimension in the output vector\n",
    "representation. However, real world text is messy, and we need to decide\n",
    "on what we consider to be a word. For example, is “`word`\" different\n",
    "from “`Word`\", from “`word`”, or from “`words`\"? Too strict a\n",
    "definition, and the number of features explodes, while our algorithm\n",
    "fails to learn anything generalisable. Too lax, and we risk destroying\n",
    "our learning signal. In the following section, you will learn about\n",
    "confronting the feature sparsity and the overfitting problems as they\n",
    "occur in NLP classification tasks."
   ]
  },
  {
   "cell_type": "markdown",
   "metadata": {
    "id": "EKK8FNt8VtcZ"
   },
   "source": [
    "### Stemming (1.5pts)\n",
    "\n",
    "To make your algorithm more robust, use stemming and hash different inflections of a word to the same feature in the BoW vector space. Please use the [Porter stemming\n",
    "    algorithm](http://www.nltk.org/howto/stem.html) from NLTK.\n",
    "\n"
   ]
  },
  {
   "cell_type": "code",
   "execution_count": 26,
   "metadata": {
    "id": "NxtCul1IrBi_"
   },
   "outputs": [
    {
     "name": "stdout",
     "output_type": "stream",
     "text": [
      "Stemming requested; stemming...\n",
      "Stemming complete.\n"
     ]
    }
   ],
   "source": [
    "# YOUR CODE HERE\n",
    "stemmed_reviews = preprocess_reviews(reviews, True)"
   ]
  },
  {
   "cell_type": "markdown",
   "metadata": {
    "id": "6SrJ1BeLXTnk"
   },
   "source": [
    "#### (Q2.7): How does the performance of your classifier change when you use stemming on your training and test datasets? (1pt)\n",
    "Use cross-validation to evaluate the classifier. \n"
   ]
  },
  {
   "cell_type": "code",
   "execution_count": 27,
   "metadata": {
    "id": "gYqKBOiIrInT"
   },
   "outputs": [
    {
     "name": "stdout",
     "output_type": "stream",
     "text": [
      "Cross validating on split 1 of 10\n",
      "Cross validating on split 2 of 10\n",
      "Cross validating on split 3 of 10\n",
      "Cross validating on split 4 of 10\n",
      "Cross validating on split 5 of 10\n",
      "Cross validating on split 6 of 10\n",
      "Cross validating on split 7 of 10\n",
      "Cross validating on split 8 of 10\n",
      "Cross validating on split 9 of 10\n",
      "Cross validating on split 10 of 10\n",
      "Cross validation complete.\n"
     ]
    }
   ],
   "source": [
    "stem_metrics = perform_rr_cv_nb(stemmed_reviews, 10, 10, 1, 1000)"
   ]
  },
  {
   "cell_type": "code",
   "execution_count": 28,
   "metadata": {},
   "outputs": [
    {
     "name": "stdout",
     "output_type": "stream",
     "text": [
      "CV accuracies: [0.785 0.84  0.805 0.835 0.77  0.845 0.82  0.775 0.825 0.83 ]\n",
      "mean CV accuracy: 0.813\n",
      "CV accuracy variance: 0.000686\n"
     ]
    }
   ],
   "source": [
    "print(f\"CV accuracies: {stem_metrics[0]}\")\n",
    "print(f\"mean CV accuracy: {stem_metrics[0].mean():.3f}\")\n",
    "print(f\"CV accuracy variance: {stem_metrics[0].var():.6f}\")"
   ]
  },
  {
   "cell_type": "markdown",
   "metadata": {},
   "source": [
    "The accuracy decreases when using stemming, while the variance increases. Both these changes are marginal and potentially negligible with respect to the values obtained in 2.5."
   ]
  },
  {
   "cell_type": "markdown",
   "metadata": {
    "id": "JkDHVq_1XUVP"
   },
   "source": [
    "#### (Q2.8) What happens to the number of features (i.e., the size of the vocabulary) when using stemming as opposed to (Q2.4)? (0.5pt)\n",
    "Give actual numbers. You can use the held-out training set to determine these."
   ]
  },
  {
   "cell_type": "code",
   "execution_count": 29,
   "metadata": {
    "id": "MA3vee5-rJyy"
   },
   "outputs": [
    {
     "name": "stdout",
     "output_type": "stream",
     "text": [
      "Average vocab size without stemming: 45446.50\n",
      "Average vocab size with stemming: 32680.20\n",
      "percentage change: -28.09 %\n"
     ]
    }
   ],
   "source": [
    "mean_vocab_size = smooth_metrics[-1].mean()\n",
    "mean_stem_vocab_size = stem_metrics[-1].mean()\n",
    "percentage_change = (\n",
    "    (-1 if mean_stem_vocab_size < mean_vocab_size else 1)\n",
    "    * np.abs(mean_vocab_size - mean_stem_vocab_size)\n",
    "    / mean_vocab_size\n",
    ") * 100\n",
    "\n",
    "\n",
    "print(f\"Average vocab size without stemming: {mean_vocab_size:.2f}\")\n",
    "print(f\"Average vocab size with stemming: {mean_stem_vocab_size:.2f}\")\n",
    "print(f\"percentage change: {percentage_change:.2f} %\")"
   ]
  },
  {
   "cell_type": "markdown",
   "metadata": {},
   "source": [
    "The number of features decreases when using stemming"
   ]
  },
  {
   "cell_type": "markdown",
   "metadata": {
    "id": "SoazfxbNV5Lq"
   },
   "source": [
    "### N-grams (1.5pts)\n",
    "\n",
    "A simple way of retaining some of the word\n",
    "order information when using bag-of-words representations is to use **n-gram** features. \n",
    "\n",
    "\n",
    "\n",
    "\n"
   ]
  },
  {
   "cell_type": "markdown",
   "metadata": {
    "id": "OHjy3I7-qWiu"
   },
   "source": [
    "#### (Q2.9) Retrain your classifier from (Q2.4) using **unigrams+bigrams** and **unigrams+bigrams+trigrams** as features. (1pt)\n",
    "Report accuracy and compare it with that of the approaches you have previously implemented. You are allowed to use NLTK to build n-grams from sentences."
   ]
  },
  {
   "cell_type": "code",
   "execution_count": 30,
   "metadata": {
    "id": "eYuKMTOpq9jz"
   },
   "outputs": [
    {
     "name": "stdout",
     "output_type": "stream",
     "text": [
      "Computing ngrams...\n",
      "Done.\n"
     ]
    }
   ],
   "source": [
    "bigrammed_reviews = preprocess_reviews(\n",
    "    lower_case_reviews, stem=False, bigrams=True, trigrams=False, cached=True\n",
    ")"
   ]
  },
  {
   "cell_type": "code",
   "execution_count": 31,
   "metadata": {},
   "outputs": [
    {
     "name": "stdout",
     "output_type": "stream",
     "text": [
      "Computing ngrams...\n",
      "Done.\n"
     ]
    }
   ],
   "source": [
    "trigrammed_reviews = preprocess_reviews(\n",
    "    lower_case_reviews, stem=False, bigrams=True, trigrams=True, cached=True\n",
    ")"
   ]
  },
  {
   "cell_type": "code",
   "execution_count": 32,
   "metadata": {},
   "outputs": [
    {
     "name": "stdout",
     "output_type": "stream",
     "text": [
      "Cross validating on split 1 of 10\n",
      "Cross validating on split 2 of 10\n",
      "Cross validating on split 3 of 10\n",
      "Cross validating on split 4 of 10\n",
      "Cross validating on split 5 of 10\n",
      "Cross validating on split 6 of 10\n",
      "Cross validating on split 7 of 10\n",
      "Cross validating on split 8 of 10\n",
      "Cross validating on split 9 of 10\n",
      "Cross validating on split 10 of 10\n",
      "Cross validation complete.\n"
     ]
    }
   ],
   "source": [
    "bigram_metrics = perform_rr_cv_nb(\n",
    "    bigrammed_reviews, 10, 10, 1, 1000\n",
    ")"
   ]
  },
  {
   "cell_type": "code",
   "execution_count": 33,
   "metadata": {},
   "outputs": [
    {
     "name": "stdout",
     "output_type": "stream",
     "text": [
      "Cross validating on split 1 of 10\n",
      "Cross validating on split 2 of 10\n",
      "Cross validating on split 3 of 10\n",
      "Cross validating on split 4 of 10\n",
      "Cross validating on split 5 of 10\n",
      "Cross validating on split 6 of 10\n",
      "Cross validating on split 7 of 10\n",
      "Cross validating on split 8 of 10\n",
      "Cross validating on split 9 of 10\n",
      "Cross validating on split 10 of 10\n",
      "Cross validation complete.\n"
     ]
    }
   ],
   "source": [
    "trigram_metrics = perform_rr_cv_nb(\n",
    "    trigrammed_reviews, 10, 10, 1, 1000\n",
    ")"
   ]
  },
  {
   "cell_type": "code",
   "execution_count": 34,
   "metadata": {},
   "outputs": [
    {
     "name": "stdout",
     "output_type": "stream",
     "text": [
      "CV unigram+bigram accuracies: [0.795 0.85  0.84  0.875 0.81  0.86  0.83  0.83  0.845 0.835]\n",
      "mean CV unigram+bigram accuracy: 0.837\n",
      "CV unigram+bigram accuracy variance: 0.000481\n",
      "####################################\n",
      "CV unigram+bigram+trigram accuracies: [0.79  0.85  0.835 0.86  0.82  0.85  0.85  0.84  0.85  0.805]\n",
      "mean CV unigram+bigram+trigram accuracy: 0.835\n",
      "CV unigram+bigram+trigram accuracy variance: 0.000470\n"
     ]
    }
   ],
   "source": [
    "print(f\"CV unigram+bigram accuracies: {bigram_metrics[0]}\")\n",
    "print(f\"mean CV unigram+bigram accuracy: {bigram_metrics[0].mean():.3f}\")\n",
    "print(f\"CV unigram+bigram accuracy variance: {bigram_metrics[0].var():.6f}\")\n",
    "print(\"####################################\")\n",
    "print(f\"CV unigram+bigram+trigram accuracies: {trigram_metrics[0]}\")\n",
    "print(f\"mean CV unigram+bigram+trigram accuracy: {trigram_metrics[0].mean():.3f}\")\n",
    "print(f\"CV unigram+bigram+trigram accuracy variance: {trigram_metrics[0].var():.6f}\")"
   ]
  },
  {
   "cell_type": "markdown",
   "metadata": {},
   "source": [
    "---\n",
    "\n",
    "**Table 1**: Comparison of Accuracy and Variance across various portions of the experiment. `u` refers to \"unigrams\", `b` to 'bigrams', and `t` to 'trigram'.\n",
    "\n",
    "|          | u smoothing (2.5) | u stemming (2.7) | u + b    | u + b + t |\n",
    "|----------|-------------------|------------------|----------|-----------|\n",
    "| Accuracy | 0.815             | 0.814            | 0.837    | 0.835     |\n",
    "| Variance | 0.000602          | 0.000685         | 0.000481 | 0.000470  |\n",
    "\n",
    "---"
   ]
  },
  {
   "cell_type": "markdown",
   "metadata": {
    "id": "dVrGGArkrWoL"
   },
   "source": [
    "\n",
    "#### Q2.10: How many features does the BoW model have to take into account now? (0.5pt)\n",
    "How would you expect the number of features to increase theoretically (e.g., linear, square, cubed, exponential)? How does this number compare, in practice, to the number of features at (Q2.8)?\n",
    "\n",
    "Use the held-out training set once again for this.\n"
   ]
  },
  {
   "cell_type": "markdown",
   "metadata": {
    "id": "yEGZ9SV8pPaa"
   },
   "source": [
    "---\n",
    "\n",
    "I would expect the number of features to increase squared $O(n + n^2)= O(n^2)$ when using bigrams and cubed $O(n + n^2 + n^3)= O(n^3)$ when using trigrams. In other words, exponentially with the number of items $k$ in largest order n-gram $O(n^k)$ used. This is of course a \"worst-case\" scenario, as this kind of increase would only occur if all possible n-gram combinations were available given our set of unigrams, i.e. if our reviews were very dense. In practice, because of the sparsity of language, the number of features seems to increase linearly instead, as seen by the numbers below (ignoring stemming).\n",
    "\n",
    "With stemming, the number of features decreases as words with identical stems but different affixes are \"compressed\" into a single feature, i.e. the stem.\n",
    "\n",
    "---"
   ]
  },
  {
   "cell_type": "code",
   "execution_count": 35,
   "metadata": {
    "id": "_z8sAJeUrdtM"
   },
   "outputs": [
    {
     "name": "stdout",
     "output_type": "stream",
     "text": [
      "Splitting data for class POS \n",
      "Using train indices (0, 900) and test indices (900, 1000)\n",
      "Splitting data for class NEG \n",
      "Using train indices (0, 900) and test indices (900, 1000)\n",
      "Splitting data for class POS \n",
      "Using train indices (0, 900) and test indices (900, 1000)\n",
      "Splitting data for class NEG \n",
      "Using train indices (0, 900) and test indices (900, 1000)\n",
      "Splitting data for class POS \n",
      "Using train indices (0, 900) and test indices (900, 1000)\n",
      "Splitting data for class NEG \n",
      "Using train indices (0, 900) and test indices (900, 1000)\n",
      "Splitting data for class POS \n",
      "Using train indices (0, 900) and test indices (900, 1000)\n",
      "Splitting data for class NEG \n",
      "Using train indices (0, 900) and test indices (900, 1000)\n"
     ]
    }
   ],
   "source": [
    "# YOUR CODE HERE\n",
    "train_reviews, test_reviews = split_data(\n",
    "    lower_case_reviews,\n",
    "    (pos_idxs[:2], pos_idxs[2:]),\n",
    ")\n",
    "stem_train_reviews, _stem_test_reviews = split_data(\n",
    "    stemmed_reviews,\n",
    "    (pos_idxs[:2], pos_idxs[2:]),\n",
    ")\n",
    "bi_train_reviews, _bi_test_reviews = split_data(\n",
    "    bigrammed_reviews,\n",
    "    (pos_idxs[:2], pos_idxs[2:]),\n",
    ")\n",
    "tri_train_reviews, _tri_test_reviews = split_data(\n",
    "    trigrammed_reviews,\n",
    "    (pos_idxs[:2], pos_idxs[2:]),\n",
    ")"
   ]
  },
  {
   "cell_type": "code",
   "execution_count": 36,
   "metadata": {},
   "outputs": [],
   "source": [
    "smooth_vocab, _np, _nl = train_nb((\"POS\", \"NEG\"), train_reviews, alpha=1)\n",
    "stem_vocab, _sp, _sl = train_nb((\"POS\", \"NEG\"), stem_train_reviews, alpha=1)\n",
    "bi_vocab, _bp, _bl = train_nb((\"POS\", \"NEG\"), bi_train_reviews, alpha=1)\n",
    "tri_vocab, _tp, _tl = train_nb((\"POS\", \"NEG\"), tri_train_reviews, alpha=1)"
   ]
  },
  {
   "cell_type": "code",
   "execution_count": 37,
   "metadata": {},
   "outputs": [
    {
     "name": "stdout",
     "output_type": "stream",
     "text": [
      "non-stemmed (2.4) number of features: 45348\n",
      "Stemmed (2.8) number of features: 32561\n",
      "unigram+bigram number of features: 471032\n",
      "unigram+bigram+trigram number of features: 1416686\n"
     ]
    }
   ],
   "source": [
    "print(f\"non-stemmed (2.4) number of features: {len(smooth_vocab.items())}\")\n",
    "print(f\"Stemmed (2.8) number of features: {len(stem_vocab.items())}\")\n",
    "print(f\"unigram+bigram number of features: {len(bi_vocab.items())}\") \n",
    "print(f\"unigram+bigram+trigram number of features: {len(tri_vocab.items())}\")"
   ]
  },
  {
   "cell_type": "markdown",
   "metadata": {
    "id": "CHWKDL3YV6vh"
   },
   "source": [
    "# Support Vector Machines (4pts)"
   ]
  },
  {
   "cell_type": "markdown",
   "metadata": {
    "id": "hJSYhcVaoJGt"
   },
   "source": [
    "Though simple to understand, implement, and debug, one\n",
    "major problem with the Naive Bayes classifier is that its performance\n",
    "deteriorates (becomes skewed) when it is being used with features which\n",
    "are not independent (i.e., are correlated). Another popular classifier\n",
    "that doesn’t scale as well to big data, and is not as simple to debug as\n",
    "Naive Bayes, but that doesn’t assume feature independence is the Support\n",
    "Vector Machine (SVM) classifier.\n",
    "\n",
    "You can find more details about SVMs in Chapter 7 of Bishop: Pattern Recognition and Machine Learning.\n",
    "Other sources for learning SVM:\n",
    "* http://web.mit.edu/zoya/www/SVM.pdf\n",
    "* http://www.cs.columbia.edu/~kathy/cs4701/documents/jason_svm_tutorial.pdf\n",
    "* https://pythonprogramming.net/support-vector-machine-intro-machine-learning-tutorial/\n",
    "\n",
    "\n",
    "\n",
    "\n",
    "\n",
    "\n",
    "\n",
    "Use the scikit-learn implementation of \n",
    "[SVM](http://scikit-learn.org/stable/modules/svm.html) with the default parameters. (You are not expected to perform any hyperparameter tuning, but feel free to do it if you think it gives you good insights for the discussion in question 5.)\n",
    "\n"
   ]
  },
  {
   "cell_type": "markdown",
   "metadata": {
    "id": "0LnzNtQBV8gr"
   },
   "source": [
    "#### (Q3.1): Train SVM and compare to Naive Bayes (2pts)\n",
    "\n",
    "Train an SVM classifier (sklearn.svm.LinearSVC) using the features collected for Naive Bayes. Compare the\n",
    "classification performance of the SVM classifier to that of the Naive\n",
    "Bayes classifier with smoothing.\n",
    "Use cross-validation to evaluate the performance of the classifiers.\n",
    "\n"
   ]
  },
  {
   "cell_type": "code",
   "execution_count": 38,
   "metadata": {
    "id": "JBscui8Mvoz0"
   },
   "outputs": [],
   "source": [
    "# YOUR CODE HERE\n",
    "POS_MAP = {\n",
    "    \"JJ\": \"adj\",\n",
    "    \"JJR\": \"adj\",\n",
    "    \"JJS\": \"adj\",\n",
    "    \"RB\": \"adverb\",\n",
    "    \"RBR\": \"adverb\",\n",
    "    \"RBS\": \"adverb\",\n",
    "    \"NN\": \"noun\",\n",
    "    \"NNS\": \"noun\",\n",
    "    \"NNP\": \"noun\",\n",
    "    \"NNPS\": \"noun\",\n",
    "    \"VB\": \"verb\",\n",
    "    \"VBD\": \"verb\",\n",
    "    \"VBG\": \"verb\",\n",
    "    \"VBN\": \"verb\",\n",
    "    \"VBP\": \"verb\",\n",
    "    \"VBZ\": \"verb\",\n",
    "    \"WRB\": \"adverb\",\n",
    "}\n",
    "\n",
    "\n",
    "def encode_reviews(\n",
    "    reviews: tg.List[tg.Dict],\n",
    "    codeword_map: tg.Dict,\n",
    "    use_pos: bool = False,\n",
    ") -> tg.Tuple[npt.NDArray, npt.NDArray]:\n",
    "    \"\"\"\n",
    "    Encode reviews into a features matrix and labels vector.\n",
    "\n",
    "    Parameters\n",
    "    ----------\n",
    "    reviews : tg.List[tg.Dict]\n",
    "        List of reviews to encode\n",
    "    codeword_map: tg.Dict\n",
    "        Map of codewords to indices\n",
    "    use_pos: bool, default False\n",
    "        Whether codeword_map uses word+POS as keys\n",
    "\n",
    "    Returns\n",
    "    -------\n",
    "    feature_mat : npt.NDArray\n",
    "        A matrix of features, where each row represents\n",
    "        a review and each column represents the count of\n",
    "        a given word from our vocab in that review.\n",
    "    label_vec : npt.NDArray\n",
    "        A vector of labels, where each element is either\n",
    "        0 or 1, representing the sentiment (POS or NEG) of the review.\n",
    "    \"\"\"\n",
    "    feature_mat = np.zeros((len(reviews), len(codeword_map)))\n",
    "    label_vec = np.zeros(len(reviews))\n",
    "\n",
    "    for i, review in enumerate(reviews):\n",
    "        label_vec[i] = SENT_MAP[review[\"sentiment\"]]\n",
    "        for sentence in review[\"content\"]:\n",
    "            for token, pos in sentence:\n",
    "                if use_pos:\n",
    "                    key = (token, pos)\n",
    "                else:\n",
    "                    key = token\n",
    "                if key in codeword_map:\n",
    "                    feature_mat[i, codeword_map[key]] += 1\n",
    "\n",
    "    return feature_mat, label_vec\n",
    "\n",
    "\n",
    "def perform_rr_cv_svm(\n",
    "    data: tg.List[tg.Dict],\n",
    "    n_splits: int,\n",
    "    modulo: int,\n",
    "    data_len: tg.Optional[int] = None,\n",
    "    use_pos: bool = False,\n",
    "    only_open: bool = False,\n",
    "    std: bool = True,\n",
    "    verbose: bool = True,\n",
    "):\n",
    "    \"\"\"\n",
    "    Performs round robin cross validation of the SVM model\n",
    "\n",
    "    Parameters\n",
    "    ----------\n",
    "    data : tg.List[tg.Dict]\n",
    "        List of reviews to perform cross validation on\n",
    "    n_splits : int\n",
    "        Number of splits to perform\n",
    "    modulo : int\n",
    "        the modulo to use for round robin splitting\n",
    "    data_len : tg.Optional[int]\n",
    "        Length of data to use for splitting, if None\n",
    "        will be inferred from data\n",
    "    use_pos: bool, default False\n",
    "        Whether to use word+POS as keys\n",
    "    only_open: bool, default False\n",
    "        Whether to use only open-class POS words\n",
    "    std: bool, default True\n",
    "        Whether to standardize the data before training\n",
    "    verbose : bool, default True\n",
    "        Whether to print out diagnostics\n",
    "\n",
    "    Returns\n",
    "    -------\n",
    "    metrics : npt.NDArray\n",
    "        (4, n_splits) array of accuracies, precisions, recalls and vocab_sizes\n",
    "    \"\"\"\n",
    "\n",
    "    if data_len is None:\n",
    "        data_len = len(data)\n",
    "\n",
    "    train, test = rr_cv_split(data_len, n_splits, modulo)\n",
    "\n",
    "    metrics = np.zeros((4, n_splits), dtype=float)\n",
    "\n",
    "    for i, (train_idxs, test_idxs) in enumerate(zip(train, test)):\n",
    "        if verbose:\n",
    "            print(f\"Cross validating on split {i+1} of {n_splits}\")\n",
    "\n",
    "        train_data = [\n",
    "            data_entry for data_entry in data if data_entry[\"cv\"] in train_idxs\n",
    "        ]\n",
    "        test_data = [data_entry for data_entry in data if data_entry[\"cv\"] in test_idxs]\n",
    "\n",
    "        metrics[:, i] = train_eval_svm(train_data, test_data, use_pos, only_open, std)\n",
    "\n",
    "    if verbose:\n",
    "        print(\"Cross validation complete.\")\n",
    "\n",
    "    return metrics\n",
    "\n",
    "\n",
    "def train_eval_svm(\n",
    "    train_data: tg.List[tg.Dict],\n",
    "    test_data: tg.List[tg.Dict],\n",
    "    use_pos: bool = False,\n",
    "    only_open: bool = False,\n",
    "    std: bool = True,\n",
    ") -> tg.Tuple[float, float, float, float]:\n",
    "    \"\"\"\n",
    "    Trains and evaluates the SVM model\n",
    "\n",
    "    Parameters\n",
    "    ----------\n",
    "    train_data : tg.List[tg.Dict]\n",
    "        the training data\n",
    "    test_data : tg.List[tg.Dict]\n",
    "        the testing data\n",
    "    use_pos: bool, default False\n",
    "        Whether to use word+POS as keys\n",
    "    only_open: bool, default False\n",
    "        Whether to use only open-class POS words\n",
    "    std: bool, default True\n",
    "        Whether to standardize the data before training\n",
    "\n",
    "\n",
    "    Returns\n",
    "    -------\n",
    "    metrics : tuple of floats\n",
    "        tuple of accuracy, precision, recall and vocab size\n",
    "\n",
    "    \"\"\"\n",
    "    vocab = extract_vocab(train_data, use_pos, only_open)\n",
    "    codeword_map = {key: idx for idx, key in enumerate(vocab.keys())}\n",
    "    train_X, train_y = encode_reviews(train_data, codeword_map, use_pos)\n",
    "    test_X, test_y = encode_reviews(test_data, codeword_map, use_pos)\n",
    "\n",
    "    if std:\n",
    "        clf = make_pipeline(StandardScaler(with_mean=False), LinearSVC(max_iter=10000))\n",
    "    else:\n",
    "        clf = LinearSVC(max_iter=10000)\n",
    "\n",
    "    clf.fit(csr_matrix(train_X), train_y)\n",
    "\n",
    "    preds = clf.predict(csr_matrix(test_X))\n",
    "\n",
    "    accuracy = accuracy_score(test_y, preds)\n",
    "    precision = precision_score(test_y, preds)\n",
    "    recall = recall_score(test_y, preds)\n",
    "    vocab_size = len(vocab.keys())\n",
    "\n",
    "    return accuracy, precision, recall, vocab_size"
   ]
  },
  {
   "cell_type": "code",
   "execution_count": 39,
   "metadata": {},
   "outputs": [
    {
     "name": "stdout",
     "output_type": "stream",
     "text": [
      "Cross validating on split 1 of 10\n",
      "Cross validating on split 2 of 10\n",
      "Cross validating on split 3 of 10\n",
      "Cross validating on split 4 of 10\n",
      "Cross validating on split 5 of 10\n",
      "Cross validating on split 6 of 10\n",
      "Cross validating on split 7 of 10\n",
      "Cross validating on split 8 of 10\n",
      "Cross validating on split 9 of 10\n",
      "Cross validating on split 10 of 10\n",
      "Cross validation complete.\n"
     ]
    }
   ],
   "source": [
    "svm_metrics = perform_rr_cv_svm(\n",
    "    lower_case_reviews, 10, 10, 1000, False, False, False\n",
    ")"
   ]
  },
  {
   "cell_type": "code",
   "execution_count": 40,
   "metadata": {},
   "outputs": [
    {
     "name": "stdout",
     "output_type": "stream",
     "text": [
      "CV accuracies: [0.81  0.795 0.8   0.84  0.85  0.815 0.845 0.85  0.875 0.84 ]\n",
      "mean CV accuracy: 0.8320000000000001\n",
      "CV accuracy variance: 0.0005959999999999991\n"
     ]
    }
   ],
   "source": [
    "print(f\"CV accuracies: {svm_metrics[0]}\")\n",
    "print(f\"mean CV accuracy: {svm_metrics[0].mean()}\")\n",
    "print(f\"CV accuracy variance: {svm_metrics[0].var()}\")"
   ]
  },
  {
   "cell_type": "markdown",
   "metadata": {
    "id": "ifXVWcK0V9qY"
   },
   "source": [
    "### POS disambiguation (2pts)\n",
    "\n",
    "Now add in part-of-speech features. You will find the\n",
    "movie review dataset has already been POS-tagged for you ([here](https://catalog.ldc.upenn.edu/docs/LDC99T42/tagguid1.pdf) you find the tagset). Try to\n",
    "replicate the results obtained by Pang et al. (2002).\n",
    "\n"
   ]
  },
  {
   "cell_type": "markdown",
   "metadata": {
    "id": "xA3I82o4oWGu"
   },
   "source": [
    "#### (Q3.2) Replace your features with word+POS features, and report performance with the SVM. Use cross-validation to evaluate the classifier and compare the results with (Q3.1). Does part-of-speech information help? Explain why this may be the case. (1pt)\n"
   ]
  },
  {
   "cell_type": "code",
   "execution_count": 41,
   "metadata": {
    "id": "NOvjYe-t2Br6"
   },
   "outputs": [
    {
     "name": "stdout",
     "output_type": "stream",
     "text": [
      "Cross validating on split 1 of 10\n",
      "Cross validating on split 2 of 10\n",
      "Cross validating on split 3 of 10\n",
      "Cross validating on split 4 of 10\n",
      "Cross validating on split 5 of 10\n",
      "Cross validating on split 6 of 10\n",
      "Cross validating on split 7 of 10\n",
      "Cross validating on split 8 of 10\n",
      "Cross validating on split 9 of 10\n",
      "Cross validating on split 10 of 10\n",
      "Cross validation complete.\n"
     ]
    }
   ],
   "source": [
    "# YOUR CODE HERE\n",
    "svm_pos_metrics = perform_rr_cv_svm(\n",
    "    lower_case_reviews, 10, 10, 1000, True, False, False\n",
    ")"
   ]
  },
  {
   "cell_type": "code",
   "execution_count": 42,
   "metadata": {},
   "outputs": [
    {
     "name": "stdout",
     "output_type": "stream",
     "text": [
      "CV accuracies: [0.82  0.795 0.825 0.84  0.84  0.845 0.855 0.855 0.865 0.84 ]\n",
      "mean CV accuracy: 0.8380000000000001\n",
      "CV accuracy variance: 0.0003709999999999997\n"
     ]
    }
   ],
   "source": [
    "print(f\"CV accuracies: {svm_pos_metrics[0]}\")\n",
    "print(f\"mean CV accuracy: {svm_pos_metrics[0].mean()}\")\n",
    "print(f\"CV accuracy variance: {svm_pos_metrics[0].var()}\")"
   ]
  },
  {
   "cell_type": "markdown",
   "metadata": {
    "id": "L0dt_oQupUNe"
   },
   "source": [
    "---\n",
    "\n",
    "Part of speech information appears to help given the higher accuracy. This may be because the POS of a word carries semantic meaning, allowing us to disambiguate between words that may have negative or positive sentiments attached to them depending on their POS. For instance, \"fine\" (noun) and \"fine\" (adjective) probably have negative and positive sentiments respectively. Pairing them with their POS removes ambiguity. This disambiguation helps our model correctly weigh features in a review and improve in its classification. \n",
    "\n",
    "---"
   ]
  },
  {
   "cell_type": "markdown",
   "metadata": {
    "id": "Su-3w87eMW0w"
   },
   "source": [
    "#### (Q3.3) Discard all closed-class words from your data (keep only nouns, verbs, adjectives, and adverbs), and report performance. Does this help? Use cross-validation to evaluate the classifier and compare the results with (Q3.2). Are closed-class words detrimental to the classifier? Explain why this may be the case. (1pt)"
   ]
  },
  {
   "cell_type": "code",
   "execution_count": 43,
   "metadata": {
    "id": "CCUPlPozCYUX"
   },
   "outputs": [
    {
     "name": "stdout",
     "output_type": "stream",
     "text": [
      "Cross validating on split 1 of 10\n",
      "Cross validating on split 2 of 10\n",
      "Cross validating on split 3 of 10\n",
      "Cross validating on split 4 of 10\n",
      "Cross validating on split 5 of 10\n",
      "Cross validating on split 6 of 10\n",
      "Cross validating on split 7 of 10\n",
      "Cross validating on split 8 of 10\n",
      "Cross validating on split 9 of 10\n",
      "Cross validating on split 10 of 10\n",
      "Cross validation complete.\n"
     ]
    }
   ],
   "source": [
    "# YOUR CODE HERE\n",
    "svm_open_pos_metrics = perform_rr_cv_svm(\n",
    "    lower_case_reviews, 10, 10, 1000, True, True, False\n",
    ")"
   ]
  },
  {
   "cell_type": "code",
   "execution_count": 44,
   "metadata": {},
   "outputs": [
    {
     "name": "stdout",
     "output_type": "stream",
     "text": [
      "CV accuracies: [0.82  0.83  0.84  0.86  0.845 0.835 0.88  0.86  0.865 0.82 ]\n",
      "mean CV accuracy: 0.8455\n",
      "CV accuracy variance: 0.0003672500000000007\n"
     ]
    }
   ],
   "source": [
    "print(f\"CV accuracies: {svm_open_pos_metrics[0]}\")\n",
    "print(f\"mean CV accuracy: {svm_open_pos_metrics[0].mean()}\")\n",
    "print(f\"CV accuracy variance: {svm_open_pos_metrics[0].var()}\")"
   ]
  },
  {
   "cell_type": "markdown",
   "metadata": {
    "id": "YaxCVrs8pWSp"
   },
   "source": [
    "---\n",
    "\n",
    "Given that accuracy increases when removing closed-class words, one could argue that they are detrimental to the classifier. This is probably because closed-class words carry little semantic information with regards to sentiment analysis, and as such act as noise. Think of words \"the\" or \"and\". These are very sentimentally neutral words. Removing such noise will help our model improve its accuracy.\n",
    "\n",
    "---"
   ]
  },
  {
   "cell_type": "markdown",
   "metadata": {
    "id": "nfwqOciAl2No"
   },
   "source": [
    "# (Q4) Discussion (max. 500 words). (5pts)\n",
    "\n",
    "> Based on your experiments, what are the effective features and techniques in sentiment analysis? What information do different features encode?\n",
    "Why is this important? What are the limitations of these features and techniques?\n",
    " \n"
   ]
  },
  {
   "cell_type": "code",
   "execution_count": 45,
   "metadata": {},
   "outputs": [],
   "source": [
    "# getting non_smoothed NB metrics (verbosity turned off)\n",
    "non_smooth_metrics = perform_rr_cv_nb(lower_case_reviews, 10, 10, 0, 1000, False)"
   ]
  },
  {
   "cell_type": "code",
   "execution_count": 46,
   "metadata": {},
   "outputs": [
    {
     "data": {
      "image/png": "[encoded data removed]",
      "text/plain": [
       "<Figure size 1440x432 with 3 Axes>"
      ]
     },
     "metadata": {
      "needs_background": "light"
     },
     "output_type": "display_data"
    }
   ],
   "source": [
    "# quick experimentation\n",
    "sns.set_context(\"notebook\")\n",
    "metrics_dfs = []\n",
    "fig, axes = plt.subplots(1, 3, figsize=(20, 6))\n",
    "axes = axes.flatten()\n",
    "for i, metric in enumerate([\"accuracy\", \"precision\", \"recall\"]):\n",
    "    metric_df = pd.DataFrame(\n",
    "        data=np.array(\n",
    "            [\n",
    "                non_smooth_metrics[i],\n",
    "                smooth_metrics[i],\n",
    "                stem_metrics[i],\n",
    "                bigram_metrics[i],\n",
    "                trigram_metrics[i],\n",
    "                svm_metrics[i],\n",
    "                svm_pos_metrics[i],\n",
    "                svm_open_pos_metrics[i],\n",
    "            ]\n",
    "        ).T,\n",
    "        columns=[\n",
    "            \"no smoothing\",\n",
    "            \"smooth (2.5)\",\n",
    "            \"stem (2.7)\",\n",
    "            \"u+b (2.9)\",\n",
    "            \"u+b+t (2.9)\",\n",
    "            \"svm (3.1)\",\n",
    "            \"svm_pos (3.2)\",\n",
    "            \"svm_open_pos (3.3)\",\n",
    "        ],\n",
    "    )\n",
    "    metrics_dfs.append(metric_df)\n",
    "    ax = axes[i]\n",
    "    sns.boxplot(data=metric_df, ax=ax)\n",
    "    ax.tick_params(axis=\"x\", rotation=45)\n",
    "    ax.set_title(f\"{metric}\")\n",
    "plt.show()"
   ]
  },
  {
   "cell_type": "markdown",
   "metadata": {
    "id": "ZYuse5WLmekZ"
   },
   "source": [
    "---\n",
    "\n",
    "- features\n",
    "    - occurrence\n",
    "        - information encoded\n",
    "            - something\n",
    "                - why important\n",
    "        - limitations\n",
    "            - difficult to deal with unseen words\n",
    "    - POS tag\n",
    "        - information encoded\n",
    "            - something\n",
    "                - why important\n",
    "        - limitations\n",
    "- techniques\n",
    "    - Lexicon\n",
    "        - limitations\n",
    "           - requires a lexicon\n",
    "           - not very performant\n",
    "    - NB\n",
    "        - limitations\n",
    "            - context is lost unless using ngrams\n",
    "    - disambiguation via \n",
    "        - POS tags\n",
    "            - sometimes not enough (provide example(s))\n",
    "        - context provided by ngrams\n",
    "            - feature size explodes\n",
    "            - sometimes not enough (provide example(s))\n",
    "    - evaluation via accuracy metric\n",
    "        - limitations\n",
    "            - unbalanced datasets\n",
    "            - evaluation depends on task\n",
    "                - precision and recall mention\n",
    "\n",
    "---"
   ]
  },
  {
   "cell_type": "markdown",
   "metadata": {
    "id": "iwaKwfWQhRk_"
   },
   "source": [
    "# Submission \n"
   ]
  },
  {
   "cell_type": "code",
   "execution_count": 47,
   "metadata": {
    "id": "aOUeaET5ijk-"
   },
   "outputs": [],
   "source": [
    "# Write your names and student numbers here:\n",
    "# Giulio Starace # 13010840\n",
    "# Student 2 #12345"
   ]
  },
  {
   "cell_type": "markdown",
   "metadata": {
    "id": "3A9K-H6Tii3X"
   },
   "source": [
    "**That's it!**\n",
    "\n",
    "- Check if you answered all questions fully and correctly. \n",
    "- Download your completed notebook using `File -> Download .ipynb` \n",
    "- Check if your answers are all included in the file you submit.\n",
    "- Submit your .ipynb file via *Canvas*. One submission per group. "
   ]
  },
  {
   "cell_type": "code",
   "execution_count": null,
   "metadata": {
    "id": "YHslatYAKBrF"
   },
   "outputs": [],
   "source": []
  }
 ],
 "metadata": {
  "colab": {
   "collapsed_sections": [],
   "name": "practical1.ipynb",
   "provenance": [],
   "toc_visible": true
  },
  "kernelspec": {
   "display_name": "Python 3 (ipykernel)",
   "language": "python",
   "name": "python3"
  },
  "language_info": {
   "codemirror_mode": {
    "name": "ipython",
    "version": 3
   },
   "file_extension": ".py",
   "mimetype": "text/x-python",
   "name": "python",
   "nbconvert_exporter": "python",
   "pygments_lexer": "ipython3",
   "version": "3.7.11"
  }
 },
 "nbformat": 4,
 "nbformat_minor": 4
}
