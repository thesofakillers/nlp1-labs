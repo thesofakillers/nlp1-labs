{
 "cells": [
  {
   "cell_type": "markdown",
   "metadata": {
    "id": "lIZrAUx57vsM"
   },
   "source": [
    "Practical 1: Sentiment Detection in Movie Reviews\n",
    "========================================\n",
    "\n"
   ]
  },
  {
   "cell_type": "markdown",
   "metadata": {
    "id": "J4kXPMhyngZW"
   },
   "source": [
    "This practical concerns detecting sentiment in movie reviews. This is a typical NLP classification task.\n",
    "In [this file](https://gist.githubusercontent.com/bastings/d47423301cca214e3930061a5a75e177/raw/5113687382919e22b1f09ce71a8fecd1687a5760/reviews.json) (80MB) you will find 1000 positive and 1000 negative **movie reviews**.\n",
    "Each review is a **document** and consists of one or more sentences.\n",
    "\n",
    "To prepare yourself for this practical, you should\n",
    "have a look at a few of these texts to understand the difficulties of\n",
    "the task: how might one go about classifying the texts? You will write\n",
    "code that decides whether a movie review conveys positive or\n",
    "negative sentiment.\n",
    "\n",
    "Please make sure you have read the following paper:\n",
    "\n",
    ">   Bo Pang, Lillian Lee, and Shivakumar Vaithyanathan\n",
    "(2002). \n",
    "[Thumbs up? Sentiment Classification using Machine Learning\n",
    "Techniques](https://dl.acm.org/citation.cfm?id=1118704). EMNLP.\n",
    "\n",
    "Bo Pang et al. introduced the movie review sentiment\n",
    "classification task, and the above paper was one of the first papers on\n",
    "the topic. The first version of your sentiment classifier will do\n",
    "something similar to Pang et al.'s system. If you have questions about it,\n",
    "you should resolve you doubts as soon as possible with your TA.\n"
   ]
  },
  {
   "cell_type": "markdown",
   "metadata": {
    "id": "cb7errgRASzZ"
   },
   "source": [
    "**Advice**\n",
    "\n",
    "Please read through the entire practical and familiarise\n",
    "yourself with all requirements before you start coding or otherwise\n",
    "solving the tasks. Writing clean and concise code can make the difference\n",
    "between solving the assignment in a matter of hours, and taking days to\n",
    "run all experiments.\n",
    "\n",
    "## Environment\n",
    "\n",
    "All code should be written in **Python 3**. \n",
    "This is the default in Google Colab."
   ]
  },
  {
   "cell_type": "code",
   "execution_count": 1,
   "metadata": {
    "colab": {
     "base_uri": "https://localhost:8080/"
    },
    "id": "SaZnxptMJiD7",
    "outputId": "477e9631-3a03-4cbe-d138-e7859dfd8876"
   },
   "outputs": [
    {
     "name": "stdout",
     "output_type": "stream",
     "text": [
      "Python 3.7.11\n"
     ]
    }
   ],
   "source": [
    "!python --version"
   ]
  },
  {
   "cell_type": "markdown",
   "metadata": {
    "id": "BYZyIF7lJnGn"
   },
   "source": [
    "If you want to run code on your own computer, then download this notebook through `File -> Download .ipynb`.\n",
    "The easiest way to\n",
    "install Python is through downloading\n",
    "[Anaconda](https://www.anaconda.com/download). \n",
    "After installation, you can start the notebook by typing `jupyter notebook filename.ipynb`.\n",
    "You can also use an IDE\n",
    "such as [PyCharm](https://www.jetbrains.com/pycharm/download/) to make\n",
    "coding and debugging easier. It is good practice to create a [virtual\n",
    "environment](https://docs.python.org/3/tutorial/venv.html) for this\n",
    "project, so that any Python packages don’t interfere with other\n",
    "projects. \n",
    " \n",
    "\n",
    "**Learning Python 3**\n",
    "\n",
    "If you are new to Python 3, you may want to check out a few of these resources:\n",
    "- https://learnxinyminutes.com/docs/python3/\n",
    "- https://www.learnpython.org/\n",
    "- https://docs.python.org/3/tutorial/"
   ]
  },
  {
   "cell_type": "code",
   "execution_count": 2,
   "metadata": {
    "id": "hok-BFu9lGoK"
   },
   "outputs": [],
   "source": [
    "import math\n",
    "import copy\n",
    "import os\n",
    "import sys\n",
    "from subprocess import call\n",
    "from nltk import FreqDist\n",
    "from nltk.util import ngrams\n",
    "from nltk.stem.porter import PorterStemmer\n",
    "import sklearn as sk\n",
    "import pickle\n",
    "import json\n",
    "import typing as tg\n",
    "from collections import Counter\n",
    "import requests\n",
    "import matplotlib.pyplot as plt\n",
    "import numpy as np\n",
    "import numpy.typing as npt"
   ]
  },
  {
   "cell_type": "code",
   "execution_count": 3,
   "metadata": {
    "id": "aEGmhtCHPZhU"
   },
   "outputs": [],
   "source": [
    "# whether to check if GPY is enavled\n",
    "CHECK_GPU = False"
   ]
  },
  {
   "cell_type": "code",
   "execution_count": 4,
   "metadata": {
    "colab": {
     "base_uri": "https://localhost:8080/"
    },
    "id": "eZOQWo43JmfP",
    "outputId": "35046a42-2875-4802-eee0-34de865ec541"
   },
   "outputs": [],
   "source": [
    "# checks\n",
    "if CHECK_GPU:\n",
    "  if not (int(os.environ[\"COLAB_GPU\"]) > 0):\n",
    "      raise ValueError(\"GPU Not enabled!\")\n",
    "try:\n",
    "  import google.colab\n",
    "  IN_COLAB = True\n",
    "except ModuleNotFoundError:\n",
    "  IN_COLAB = False\n",
    "if IN_COLAB:\n",
    "  from google.colab import drive\n",
    "  drive.mount('/content/drive/')\n",
    "  os.chdir('/content/drive/MyDrive/Education/Masters/notebooks/nlp1/')"
   ]
  },
  {
   "cell_type": "markdown",
   "metadata": {
    "id": "bXWyGHwE-ieQ"
   },
   "source": [
    "## Loading the data\n",
    "\n",
    "**Download the sentiment lexicon and the movie reviews dataset.**"
   ]
  },
  {
   "cell_type": "code",
   "execution_count": 5,
   "metadata": {
    "colab": {
     "base_uri": "https://localhost:8080/"
    },
    "id": "lm-rakqtlMOT",
    "outputId": "dba73bbd-6a55-4733-f74c-1bc134bd2e42"
   },
   "outputs": [
    {
     "name": "stdout",
     "output_type": "stream",
     "text": [
      "File ‘sent_lexicon’ already there; not retrieving.\n",
      "\n",
      "File ‘reviews.json’ already there; not retrieving.\n",
      "\n"
     ]
    }
   ],
   "source": [
    "# download sentiment lexicon\n",
    "!wget -nc https://gist.githubusercontent.com/bastings/d6f99dcb6c82231b94b013031356ba05/raw/f80a0281eba8621b122012c89c8b5e2200b39fd6/sent_lexicon\n",
    "# download review data\n",
    "!wget -nc https://gist.githubusercontent.com/bastings/d47423301cca214e3930061a5a75e177/raw/5113687382919e22b1f09ce71a8fecd1687a5760/reviews.json"
   ]
  },
  {
   "cell_type": "markdown",
   "metadata": {
    "id": "AkPwuHp5LSuQ"
   },
   "source": [
    "**Load the movie reviews.**\n",
    "\n",
    "Each word in a review comes with its part-of-speech tag. For documentation on POS-tags, see https://catalog.ldc.upenn.edu/docs/LDC99T42/tagguid1.pdf.\n"
   ]
  },
  {
   "cell_type": "code",
   "execution_count": 6,
   "metadata": {
    "colab": {
     "base_uri": "https://localhost:8080/"
    },
    "id": "careEKj-mRpl",
    "outputId": "259f53b3-b8b1-446d-90b0-195802ba6ad8"
   },
   "outputs": [
    {
     "name": "stdout",
     "output_type": "stream",
     "text": [
      "Total number of reviews: 2000 \n",
      "\n",
      "0 NEG 29\n",
      "Two/CD teen/JJ couples/NNS go/VBP to/TO a/DT church/NN party/NN ,/, drink/NN and/CC then/RB drive/NN ./.\n",
      "1 NEG 11\n",
      "Damn/JJ that/IN Y2K/CD bug/NN ./.\n",
      "2 NEG 24\n",
      "It/PRP is/VBZ movies/NNS like/IN these/DT that/WDT make/VBP a/DT jaded/JJ movie/NN viewer/NN thankful/JJ for/IN the/DT invention/NN of/IN the/DT Timex/NNP IndiGlo/NNP watch/NN ./.\n",
      "3 NEG 19\n",
      "QUEST/NN FOR/IN CAMELOT/NNP ``/`` Quest/NNP for/IN Camelot/NNP ''/'' is/VBZ Warner/NNP Bros./NNP '/POS first/JJ feature-length/JJ ,/, fully-animated/JJ attempt/NN to/TO steal/VB clout/NN from/IN Disney/NNP 's/POS cartoon/NN empire/NN ,/, but/CC the/DT mouse/NN has/VBZ no/DT reason/NN to/TO be/VB worried/VBN ./.\n",
      "4 NEG 38\n",
      "Synopsis/NNPS :/: A/DT mentally/RB unstable/JJ man/NN undergoing/VBG psychotherapy/NN saves/VBZ a/DT boy/NN from/IN a/DT potentially/RB fatal/JJ accident/NN and/CC then/RB falls/VBZ in/IN love/NN with/IN the/DT boy/NN 's/POS mother/NN ,/, a/DT fledgling/NN restauranteur/NN ./.\n",
      "\n",
      "Number of word types: 47743\n",
      "Number of word tokens: 1512359\n",
      "\n",
      "Most common tokens:\n",
      "         , :    77842\n",
      "       the :    75948\n",
      "         . :    59027\n",
      "         a :    37583\n",
      "       and :    35235\n",
      "        of :    33864\n",
      "        to :    31601\n",
      "        is :    25972\n",
      "        in :    21563\n",
      "        's :    18043\n",
      "        it :    15904\n",
      "      that :    15820\n",
      "     -rrb- :    11768\n",
      "     -lrb- :    11670\n",
      "        as :    11312\n",
      "      with :    10739\n",
      "       for :     9816\n",
      "       his :     9542\n",
      "      this :     9497\n",
      "      film :     9404\n"
     ]
    }
   ],
   "source": [
    "# file structure:\n",
    "# [\n",
    "#  {\"cv\": integer, \"sentiment\": str, \"content\": list} \n",
    "#  {\"cv\": integer, \"sentiment\": str, \"content\": list} \n",
    "#   ..\n",
    "# ]\n",
    "# where `content` is a list of sentences, \n",
    "# with a sentence being a list of (token, pos_tag) pairs.\n",
    "\n",
    "# true_sent = []\n",
    "\n",
    "with open(\"reviews.json\", mode=\"r\", encoding=\"utf-8\") as f:\n",
    "  reviews = json.load(f)\n",
    "  \n",
    "print(\"Total number of reviews:\", len(reviews), '\\n')\n",
    "\n",
    "def print_sentence_with_pos(s):\n",
    "  print(\" \".join(\"%s/%s\" % (token, pos_tag) for token, pos_tag in s))\n",
    "\n",
    "for i, r in enumerate(reviews):\n",
    "  print(r[\"cv\"], r[\"sentiment\"], len(r[\"content\"]))  # cv, sentiment, num sents\n",
    "  # true_sent.append(r[\"sentiment\"])\n",
    "  print_sentence_with_pos(r[\"content\"][0])\n",
    "  if i == 4: \n",
    "    break\n",
    "    \n",
    "c = Counter()\n",
    "for review in reviews:\n",
    "  for sentence in review[\"content\"]:\n",
    "    for token, pos_tag in sentence:\n",
    "      c[token.lower()] += 1\n",
    "      \n",
    "print(\"\\nNumber of word types:\", len(c))\n",
    "print(\"Number of word tokens:\", sum(c.values()))\n",
    "\n",
    "print(\"\\nMost common tokens:\")\n",
    "for token, count in c.most_common(20):\n",
    "  print(\"%10s : %8d\" % (token, count))\n",
    "  "
   ]
  },
  {
   "cell_type": "markdown",
   "metadata": {
    "id": "E6PWaEoh8B34"
   },
   "source": [
    "# Lexicon-based approach (3.5pts)\n",
    "\n"
   ]
  },
  {
   "cell_type": "markdown",
   "metadata": {
    "id": "JsTSMb6ma4E8"
   },
   "source": [
    "A traditional approach to classify documents according to their sentiment is the lexicon-based approach. To implement this approach, you need a **sentiment lexicon**, i.e., a list of words annotated with a sentiment label (e.g., positive and negative, or a score from 0 to 5).\n",
    "\n",
    "In this practical, you will use the sentiment\n",
    "lexicon released by Wilson et al. (2005).\n",
    "\n",
    "> Theresa Wilson, Janyce Wiebe, and Paul Hoffmann\n",
    "(2005). [Recognizing Contextual Polarity in Phrase-Level Sentiment\n",
    "Analysis](http://www.aclweb.org/anthology/H/H05/H05-1044.pdf). HLT-EMNLP.\n",
    "\n",
    "Pay attention to all the information available in the sentiment lexicon. The field *word1* contains the lemma, *priorpolarity* contains the sentiment label (positive, negative, both, or neutral), *type* gives you the magnitude of the word's sentiment (strong or weak), and *pos1* gives you the part-of-speech tag of the lemma. Some lemmas can have multiple part-of-speech tags and thus multiple entries in the lexicon. The path of the lexicon file is `\"sent_lexicon\"`.\n"
   ]
  },
  {
   "cell_type": "code",
   "execution_count": 7,
   "metadata": {
    "colab": {
     "base_uri": "https://localhost:8080/"
    },
    "id": "Ogq0Eq2hQglh",
    "outputId": "ff45d866-1d5f-4d95-93f8-e393c2d07556"
   },
   "outputs": [],
   "source": [
    "pos = []\n",
    "strengths = []\n",
    "with open(\"sent_lexicon\", mode=\"r\", encoding=\"utf-8\") as f:\n",
    "    line_cnt = 0\n",
    "    for line in f:\n",
    "        metadata = line.strip()\n",
    "        # print(metadata)\n",
    "        w_type, w_len, word, word_pos, word_stem, polarity = metadata.split()\n",
    "        pos.append(word_pos[5:])\n",
    "        strengths.append(w_type[5:])\n",
    "        line_cnt += 1\n",
    "        # if line_cnt > 4:\n",
    "        #     break"
   ]
  },
  {
   "cell_type": "code",
   "execution_count": 8,
   "metadata": {},
   "outputs": [
    {
     "name": "stdout",
     "output_type": "stream",
     "text": [
      "{'strongsubj', 'weaksubj'}\n",
      "{'adj', 'verb', 'anypos', 'noun', 'adverb'}\n"
     ]
    }
   ],
   "source": [
    "print(set(strengths))\n",
    "print(set(pos))"
   ]
  },
  {
   "cell_type": "markdown",
   "metadata": {
    "id": "Mml4nOtIUBhn"
   },
   "source": [
    "Lexica such as this can be used to solve\n",
    "the classification task without using Machine Learning. For example, one might look up every word $w_1 ... w_n$ in a document, and compute a **binary score**\n",
    "$S_{binary}$ by counting how many words have a positive or a\n",
    "negative label in the sentiment lexicon $SLex$.\n",
    "\n",
    "$$S_{binary}(w_1 w_2 ... w_n) = \\sum_{i = 1}^{n}\\text{sign}(SLex\\big[w_i\\big])$$\n",
    "\n",
    "where $\\text{sign}(SLex\\big[w_i\\big])$ refers to the polarity of $w_i$.\n",
    "\n",
    "**Threshold.** On average, there are more positive than negative words per review (~7.13 more positive than negative per review) to take this bias into account you should use a threshold of **8** (roughly the bias itself) to make it harder to classify as positive.\n",
    "\n",
    "$$\n",
    "\\text{classify}(S_{binary}(w_1 w_2 ... w_n)) = \\bigg\\{\\begin{array}{ll}\n",
    "        \\text{positive} & \\text{if } S_{binary}(w_1w_2...w_n) > threshold\\\\\n",
    "        \\text{negative} & \\text{otherwise}\n",
    "        \\end{array}\n",
    "$$\n"
   ]
  },
  {
   "cell_type": "markdown",
   "metadata": {
    "id": "tOFnMvbeeZrc"
   },
   "source": [
    "#### (Q1.1) Implement this approach and report its classification accuracy. (1 pt)"
   ]
  },
  {
   "cell_type": "code",
   "execution_count": 9,
   "metadata": {
    "id": "ED2aTEYutW1-"
   },
   "outputs": [],
   "source": [
    "# YOUR CODE HERE\n",
    "def compute_weighted_score(word_list: tg.List[str], lexicon: tg.Dict) -> int:\n",
    "    \"\"\"\n",
    "    Computes the weighted score by summing the strength of each word in the\n",
    "    word list\n",
    "\n",
    "    Parameters\n",
    "    ----------\n",
    "    word_list : tg.List[str]\n",
    "        The list of words to be scored.\n",
    "    lexicon : tg.Dict\n",
    "        The lexicon to be used for scoring\n",
    "    Returns\n",
    "    -------\n",
    "    int\n",
    "        The weighted score.\n",
    "    \"\"\"\n",
    "    weighted_pol_arr = np.array(\n",
    "        [\n",
    "            lexicon[word][\"strength\"] * lexicon[word][\"polarity\"]\n",
    "            for word in word_list\n",
    "            if word in lexicon\n",
    "        ]\n",
    "    )\n",
    "    return weighted_pol_arr.sum().astype(int)\n",
    "\n",
    "\n",
    "def compute_bin_score(word_list: tg.List[str], lexicon: tg.Dict):\n",
    "    \"\"\"\n",
    "    Computes the binary score by counting how many words have a positive or a\n",
    "    negative label in the sentiment lexicon\n",
    "\n",
    "    Parameters\n",
    "    ----------\n",
    "    word_list : tg.List[str]\n",
    "        The list of words to be scored.\n",
    "    lexicon : tg.Dict\n",
    "        The lexicon to be used for scoring\n",
    "\n",
    "    Returns\n",
    "    -------\n",
    "    int\n",
    "        The binary score.\n",
    "    \"\"\"\n",
    "    polarity_arr = np.array(\n",
    "        [lexicon[word][\"polarity\"] for word in word_list if word in lexicon]\n",
    "    )\n",
    "    return polarity_arr.sum().astype(int)\n",
    "\n",
    "\n",
    "def classify_document(\n",
    "    document: tg.Dict,\n",
    "    lexicon: tg.Dict,\n",
    "    mode: str = \"unweighted\",\n",
    "    thresh: float = 8.0,\n",
    "    thresh_kind: str = \"absolute\",\n",
    ") -> int:\n",
    "    \"\"\"\n",
    "    Classifies a document using a lexicon approach as either positive or negative.\n",
    "\n",
    "    Parameters\n",
    "    ----------\n",
    "    document : dict\n",
    "        The document to be classified.\n",
    "        {\"cv\": integer, \"sentiment\": str, \"content\": list of (word, pos)}\n",
    "    lexicon : dict\n",
    "        The lexicon to be used for scoring\n",
    "    mode : str\n",
    "        The mode of classification.\n",
    "    thresh : float, default 8.0\n",
    "        The threshold to be used for classification.\n",
    "    thresh_kind : str, default \"absolute\"\n",
    "        The kind of threshold to be used for classification.\n",
    "        \"absolute\" for absolute threshold\n",
    "        \"density\" for density threshold\n",
    "\n",
    "    Returns\n",
    "    -------\n",
    "    int\n",
    "        1 if the document is positive, -1 if negative.\n",
    "    \"\"\"\n",
    "    assert mode in [\n",
    "        \"unweighted\",\n",
    "        \"weighted\",\n",
    "    ], \"`mode` must be either 'unweighted' or 'weighted'\"\n",
    "    # flatten document\n",
    "    data = [\n",
    "        word.lower()\n",
    "        for sentence in document[\"content\"]\n",
    "        for word, _pos in sentence\n",
    "        if word.lower() in lexicon and lexicon[word.lower()][\"polarity\"] in [1, -1]\n",
    "    ]\n",
    "    if mode == \"unweighted\":\n",
    "        score_func = compute_bin_score\n",
    "    else:\n",
    "        score_func = compute_weighted_score\n",
    "    score = score_func(data, lexicon)\n",
    "    if thresh_kind == \"density\":\n",
    "        thresh = np.ceil(thresh * len(data))\n",
    "    # finally, we can classify\n",
    "    return 1 if score > thresh else -1\n",
    "\n",
    "\n",
    "def build_lexicon(file_path: str) -> tg.Dict:\n",
    "    \"\"\"\n",
    "    Builds a lexicon from a file.\n",
    "\n",
    "    Parameters\n",
    "    -----------\n",
    "    file_path : str The path to the file.\n",
    "\n",
    "    Returns\n",
    "    --------\n",
    "    A dictionary containing the lexicon data\n",
    "    \"\"\"\n",
    "    lexicon: tg.Dict = {}\n",
    "    with open(file_path, \"r\") as f:\n",
    "        # parse file line by line\n",
    "        for line in f:\n",
    "            strength, length, word, pos, stemmed, polarity = line.split()\n",
    "            # we ignore duplicate words, keep only most recent\n",
    "            lexicon[word[6:].lower()] = {\n",
    "                \"strength\": 2 if strength[5:] == \"strongsubj\" else 1,\n",
    "                \"length\": int(length[4:]),\n",
    "                \"pos\": pos[5:],\n",
    "                \"stemmed\": stemmed[9:],\n",
    "                \"polarity\": 1\n",
    "                if polarity[14:] == \"positive\"\n",
    "                else -1\n",
    "                if polarity[14:] == \"negative\"\n",
    "                else 0,\n",
    "            }\n",
    "    return lexicon"
   ]
  },
  {
   "cell_type": "code",
   "execution_count": 10,
   "metadata": {},
   "outputs": [],
   "source": [
    "# if name == main (lol)\n",
    "lexicon = build_lexicon(\"sent_lexicon\")\n",
    "# pred and labels\n",
    "y_pred = np.array([classify_document(review, lexicon) for review in reviews])\n",
    "y_true = np.array([1 if review[\"sentiment\"] == \"POS\" else -1 for review in reviews])"
   ]
  },
  {
   "cell_type": "code",
   "execution_count": 11,
   "metadata": {
    "id": "iy528EUTphz5"
   },
   "outputs": [
    {
     "name": "stdout",
     "output_type": "stream",
     "text": [
      "Accuracy: 0.68\n"
     ]
    }
   ],
   "source": [
    "# token_results should be a list of binary indicators; for example [1, 0, 1, ...] \n",
    "# where 1 indicates a correct classification and 0 an incorrect classification.\n",
    "token_results = (y_pred == y_true).astype(int)\n",
    "token_accuracy = token_results.sum()/len(token_results)\n",
    "print(\"Accuracy: %0.2f\" % token_accuracy)"
   ]
  },
  {
   "cell_type": "markdown",
   "metadata": {
    "id": "Twox0s_3eS0V"
   },
   "source": [
    "As the sentiment lexicon also has information about the **magnitude** of\n",
    "sentiment (e.g., *“excellent\"* has the same sentiment _polarity_ as *“good\"* but it has a higher magnitude), we can take a more fine-grained approach by adding up all\n",
    "sentiment scores, and deciding the polarity of the movie review using\n",
    "the sign of the weighted score $S_{weighted}$.\n",
    "\n",
    "$$S_{weighted}(w_1w_2...w_n) = \\sum_{i = 1}^{n}SLex\\big[w_i\\big]$$\n",
    "\n",
    "\n",
    "Make sure you define an appropriate threshold for this approach.\n",
    "\n",
    "#### (Q1.2) Now incorporate magnitude information and report the classification accuracy. Don't forget to use the threshold. (1pt)"
   ]
  },
  {
   "cell_type": "code",
   "execution_count": 12,
   "metadata": {
    "id": "qG3hUDnPtkhS"
   },
   "outputs": [],
   "source": [
    "# YOUR CODE HERE\n",
    "# change classify_document mode to weighted; change threshold to 12.\n",
    "# please refer to compute_weighted_score() in previous \"YOUR CODE\" cell\n",
    "def determine_threshold(\n",
    "    documents: tg.List[tg.Dict],\n",
    "    lexicon: tg.Dict,\n",
    "    mode: str = \"unweighted\",\n",
    "    kind: str = \"absolute\",\n",
    ") -> float:\n",
    "    \"\"\"\n",
    "    Determines the threshold to be used for classification, based on the\n",
    "    average imbalance of positive to negative words in a document.\n",
    "\n",
    "    Parameters\n",
    "    ----------\n",
    "    documents : tg.List[dict]\n",
    "        The list of documents to be used for threshold determination.\n",
    "    lexicon : dict\n",
    "        The lexicon to be used for word polarity determination.\n",
    "    mode : str, default \"unweighted\"\n",
    "        The mode of classification.\n",
    "    kind : str, default \"absolute\"\n",
    "        The kind of threshold to be used for classification.\n",
    "        \"absolute\" for absolute threshold\n",
    "        \"density\" for density threshold\n",
    "    \"\"\"\n",
    "    diffs = np.zeros(len(documents), dtype=float)\n",
    "    lens = diffs.copy()\n",
    "    for i, doc in enumerate(documents):\n",
    "        n_positives = 0\n",
    "        n_negatives = 0\n",
    "        for sentence in doc[\"content\"]:\n",
    "            for word, _pos in sentence:\n",
    "                word = word.lower()\n",
    "                if word in lexicon:\n",
    "                    lens[i] += 1\n",
    "                    if mode == \"unweighted\":\n",
    "                        weight = 1\n",
    "                    else:\n",
    "                        weight = lexicon[word][\"strength\"]\n",
    "                    if lexicon[word][\"polarity\"] == 1:\n",
    "                        n_positives += 1 * weight\n",
    "                    elif lexicon[word][\"polarity\"] == -1:\n",
    "                        n_negatives += 1 * weight\n",
    "        diffs[i] = n_positives - n_negatives\n",
    "    if kind == \"density\":\n",
    "        return np.mean(diffs / lens)\n",
    "    else:\n",
    "        return np.ceil(np.mean(diffs))"
   ]
  },
  {
   "cell_type": "code",
   "execution_count": 13,
   "metadata": {},
   "outputs": [],
   "source": [
    "new_thresh = determine_threshold(reviews, lexicon, \"weighted\")\n",
    "\n",
    "y_pred = np.array(\n",
    "    [classify_document(review, lexicon, \"weighted\", new_thresh) for review in reviews]\n",
    ")\n",
    "y_true = np.array([1 if review[\"sentiment\"] == \"POS\" else -1 for review in reviews])"
   ]
  },
  {
   "cell_type": "code",
   "execution_count": 14,
   "metadata": {
    "id": "9vVk7CvDpyka"
   },
   "outputs": [
    {
     "name": "stdout",
     "output_type": "stream",
     "text": [
      "Accuracy: 0.70\n"
     ]
    }
   ],
   "source": [
    "magnitude_results = (y_pred == y_true).astype(int)\n",
    "magnitude_accuracy = magnitude_results.sum()/len(magnitude_results)\n",
    "print(\"Accuracy: %0.2f\" % magnitude_accuracy)"
   ]
  },
  {
   "cell_type": "markdown",
   "metadata": {
    "id": "h9SHoGPfsAHV"
   },
   "source": [
    "#### (Q.1.4) Make a barplot of the two results (0.5pt)"
   ]
  },
  {
   "cell_type": "code",
   "execution_count": 15,
   "metadata": {
    "id": "8LgBcYcXsEk3"
   },
   "outputs": [
    {
     "data": {
      "image/png": "[encoded data removed]",
      "text/plain": [
       "<Figure size 1152x576 with 1 Axes>"
      ]
     },
     "metadata": {
      "needs_background": "light"
     },
     "output_type": "display_data"
    }
   ],
   "source": [
    "plt.figure(figsize=(16, 8))\n",
    "plt.barh(\n",
    "    [\"binary\", \"weighted\"],\n",
    "    [token_accuracy, magnitude_accuracy],\n",
    "    color=[\"darkblue\", \"black\"],\n",
    ")\n",
    "plt.xlabel(\"accuracy\")\n",
    "plt.show()"
   ]
  },
  {
   "cell_type": "markdown",
   "metadata": {
    "id": "sNhS8OCVxMHd"
   },
   "source": [
    "#### (Q1.3) A better threshold (1pt)\n",
    "Above we have defined a threshold to account for an inherent bias in the dataset: there are more positive than negative words per review.\n",
    "However, that threshold does not take into account *document length*. Explain why this is a problem and implement an alternative way to compute the threshold."
   ]
  },
  {
   "cell_type": "markdown",
   "metadata": {
    "id": "xo7gk1I-omLI"
   },
   "source": [
    "---\n",
    "\n",
    "Not taking into account document length is problematic because unfairly punishes shorter documents. For an instance, a very short positive review with less positive words than the threshold will be incorrectly classified as negative. A simple solution to this is computing the threshold dynamically for each document based on its length. This could consist in dividing the original threshold by the average number of words per document, hence obtaining a threshold density. We could then obtain the dynamic threshold for a given document by multiplying the threshold density by the number of words in the given document.\n",
    "\n",
    "The code below shows what arguments to pass to the functions defined in previous cells to enable such an implementation, using weighted polarity.\n",
    "\n",
    "---"
   ]
  },
  {
   "cell_type": "code",
   "execution_count": 16,
   "metadata": {
    "id": "Dwt0B8h8aKjr"
   },
   "outputs": [
    {
     "name": "stdout",
     "output_type": "stream",
     "text": [
      "Accuracy: 0.68\n"
     ]
    }
   ],
   "source": [
    "# YOUR CODE HERE\n",
    "new_thresh = determine_threshold(reviews, lexicon, \"weighted\", \"density\")\n",
    "\n",
    "y_pred = np.array(\n",
    "    [\n",
    "        classify_document(review, lexicon, \"weighted\", new_thresh, \"density\")\n",
    "        for review in reviews\n",
    "    ]\n",
    ")\n",
    "y_true = np.array([1 if review[\"sentiment\"] == \"POS\" else -1 for review in reviews])\n",
    "\n",
    "# check results\n",
    "better_results = (y_pred == y_true).astype(int)\n",
    "better_accuracy = better_results.sum()/len(better_results)\n",
    "print(\"Accuracy: %0.2f\" % better_accuracy)"
   ]
  },
  {
   "cell_type": "markdown",
   "metadata": {
    "id": "LibV4nR89BXb"
   },
   "source": [
    "# Naive Bayes (9.5pts)"
   ]
  },
  {
   "cell_type": "markdown",
   "metadata": {
    "id": "fnF9adQnuwia"
   },
   "source": [
    "\n",
    "Your second task is to program a simple Machine Learning approach that operates\n",
    "on a simple Bag-of-Words (BoW) representation of the text data, as\n",
    "described by Pang et al. (2002). In this approach, the only features we\n",
    "will consider are the words in the text themselves, without bringing in\n",
    "external sources of information. The BoW model is a popular way of\n",
    "representing texts as vectors, making it\n",
    "easy to apply classical Machine Learning algorithms on NLP tasks.\n",
    "However, the BoW representation is also very crude, since it discards\n",
    "all information related to word order and grammatical structure in the\n",
    "original text—as the name suggests.\n",
    "\n",
    "## Writing your own classifier (4pts)\n",
    "\n",
    "Write your own code to implement the Naive Bayes (NB) classifier. As\n",
    "a reminder, the Naive Bayes classifier works according to the following\n",
    "equation:\n",
    "$$\\hat{c} = \\operatorname*{arg\\,max}_{c \\in C} P(c|\\bar{f}) = \\operatorname*{arg\\,max}_{c \\in C} P(c)\\prod^n_{i=1} P(f_i|c)$$\n",
    "where $C = \\{ \\text{POS}, \\text{NEG} \\}$ is the set of possible classes,\n",
    "$\\hat{c} \\in C$ is the most probable class, and $\\bar{f}$ is the feature\n",
    "vector. Remember that we use the log of these probabilities when making\n",
    "a prediction:\n",
    "$$\\hat{c} = \\operatorname*{arg\\,max}_{c \\in C} \\Big\\{\\log P(c) + \\sum^n_{i=1} \\log P(f_i|c)\\Big\\}$$\n",
    "\n",
    "You can find more details about Naive Bayes in [Jurafsky &\n",
    "Martin](https://web.stanford.edu/~jurafsky/slp3/). You can also look at\n",
    "this helpful\n",
    "[pseudo-code](https://nlp.stanford.edu/IR-book/html/htmledition/naive-bayes-text-classification-1.html).\n",
    "\n",
    "*Note: this section and the next aim to put you in a position to replicate\n",
    "    Pang et al.'s Naive Bayes results. However, your numerical results\n",
    "    will differ from theirs, as they used different data.*\n",
    "\n",
    "**You must write the Naive Bayes training and prediction code from\n",
    "scratch.** You will not be given credit for using off-the-shelf Machine\n",
    "Learning libraries.\n",
    "\n",
    "The data contains the text of the reviews, where each document consists\n",
    "of the sentences in the review, the sentiment of the review and an index\n",
    "(cv) that you will later use for cross-validation. The\n",
    "text has already been tokenised and POS-tagged for you. Your algorithm\n",
    "should read in the text, **lowercase it**, store the words and their\n",
    "frequencies in an appropriate data structure that allows for easy\n",
    "computation of the probabilities used in the Naive Bayes algorithm, and\n",
    "then make predictions for new instances.\n"
   ]
  },
  {
   "cell_type": "markdown",
   "metadata": {
    "id": "vEpyQSBSkb33"
   },
   "source": [
    "#### (Q2.1) Unseen words (1pt)\n",
    "The presence of words in the test dataset that\n",
    "have not been seen during training can cause probabilities in the Naive Bayes classifier to equal $0$.\n",
    "These can be words which are unseen in both positive and negative training reviews (case 1), but also words which are seen in reviews _of only one sentiment class_ in the training dataset (case 2). In both cases, **you should skip these words for both classes**.  What would be the problem instead with skipping words only for one class in case 2? "
   ]
  },
  {
   "cell_type": "markdown",
   "metadata": {
    "id": "BanFiYYnoxDW"
   },
   "source": [
    "---\n",
    "\n",
    "To compute the score (log posterior), we need the per-class log-prior and per-word-in-class log-likelihood. The latter is computed as the log of the count of the given word for that class over the total count of words in that class. If a given word in the vocabulary did not appear when training a specific class, the count for that word in that class will be 0. This results in an estimated likelihood of 0 for that word, which is unreasonable. More importantly howveer, this makes it impossible to find the log likelihood for that word, since the log of 0 is undefined. The problem traverses upwards in our implementation causing our estimated score to be incorrect. This is why our vocabulary needs to consist in words that appear across both classes at least once in the training when we are not smoothing.\n",
    "\n",
    "---"
   ]
  },
  {
   "cell_type": "markdown",
   "metadata": {
    "id": "gsZRhaI3WvzC"
   },
   "source": [
    "#### (Q2.2) Train your classifier on (positive and negative) reviews with cv-value 000-899, and test it on the remaining (positive and negative) reviews cv900–cv999.  Report results using classification accuracy as your evaluation metric. Your  features are the word vocabulary. The value of a feature is the count of that feature (word) in the document. (2pts)\n"
   ]
  },
  {
   "cell_type": "code",
   "execution_count": 17,
   "metadata": {
    "id": "G7zaJYGFvIJ3"
   },
   "outputs": [],
   "source": [
    "SENT_MAP = {\n",
    "    \"POS\": 0,\n",
    "    \"NEG\": 1,\n",
    "}\n",
    "\n",
    "\n",
    "\n",
    "def preprocess_reviews(\n",
    "    reviews: tg.List[tg.Dict],\n",
    "    stem: bool = False,\n",
    "    bigrams: bool = False,\n",
    "    trigrams: bool = False,\n",
    "    cached: bool = False,\n",
    ") -> tg.List[tg.Dict]:\n",
    "    \"\"\"\n",
    "    Preprocesses the reviews with lower-casing or stemming\n",
    "    and/or bigram and trigram calculation\n",
    "\n",
    "    Parameters\n",
    "    ----------\n",
    "    reviews : tg.List[Dict]\n",
    "        the reviews to preprocess\n",
    "    stem : bool, default False\n",
    "        Whether to stem the reviews, if False, simply lower-cases\n",
    "    bigram : bool, default False\n",
    "        Whether to calculate bigrams\n",
    "    trigrams : bool, default False\n",
    "        Whether to calculate bigrams _and_ trigrams\n",
    "    cached : bool, default False\n",
    "        Whether the passed `reviews` are already lower-cased/stemmed\n",
    "\n",
    "    Returns\n",
    "    -------\n",
    "    tg.List[Dict]\n",
    "        the preprocessed reviews\n",
    "    \"\"\"\n",
    "    if not cached:\n",
    "        if stem:\n",
    "            print(\"Stemming requested; stemming...\")\n",
    "            stemmer = PorterStemmer()\n",
    "            new_reviews = [\n",
    "                {\n",
    "                    \"cv\": review[\"cv\"],\n",
    "                    \"sentiment\": review[\"sentiment\"],\n",
    "                    \"content\": [\n",
    "                        [(stemmer.stem(word), pos) for word, pos in sentence]\n",
    "                        for sentence in review[\"content\"]\n",
    "                    ],\n",
    "                }\n",
    "                for review in reviews\n",
    "            ]\n",
    "            print(\"Stemming complete.\")\n",
    "        else:\n",
    "            new_reviews = [\n",
    "                {\n",
    "                    \"cv\": review[\"cv\"],\n",
    "                    \"sentiment\": review[\"sentiment\"],\n",
    "                    \"content\": [\n",
    "                        [(word.lower(), pos) for word, pos in sentence]\n",
    "                        for sentence in review[\"content\"]\n",
    "                    ],\n",
    "                }\n",
    "                for review in reviews\n",
    "            ]\n",
    "    else:\n",
    "        new_reviews = copy.deepcopy(reviews)\n",
    "    if bigrams or trigrams:\n",
    "        print(\"Computing ngrams...\")\n",
    "        for review in new_reviews:\n",
    "            review_words = [\n",
    "                word for sentence in review[\"content\"] for word, _pos in sentence\n",
    "            ]\n",
    "            review_bigrams = list(ngrams(review_words, 2))\n",
    "            bigram_pos = [\"bigram\" for bigram in review_bigrams]\n",
    "            review[\"content\"].append(list(zip(review_bigrams, bigram_pos)))\n",
    "            if trigrams:\n",
    "                review_trigrams = list(ngrams(review_words, 3))\n",
    "                trigram_pos = [\"trigram\" for trigram in review_trigrams]\n",
    "                review[\"content\"].append(list(zip(review_trigrams, trigram_pos)))\n",
    "        print(\"Done.\")\n",
    "    return new_reviews\n",
    "\n",
    "\n",
    "def extract_vocab(documents: tg.List[tg.Dict]):\n",
    "    \"\"\"\n",
    "    Extracts the vocabulary from the documents,\n",
    "\n",
    "    Parameters\n",
    "    ----------\n",
    "    documents : tg.List[Dict]\n",
    "\n",
    "    Returns\n",
    "    -------\n",
    "    dict\n",
    "        The vocabulary\n",
    "    \"\"\"\n",
    "    vocab = {}\n",
    "    for doc in documents:\n",
    "        for sentence in doc[\"content\"]:\n",
    "            for token, _pos in sentence:\n",
    "                if token not in vocab:\n",
    "                    vocab[token] = {\"POS\": 0, \"NEG\": 0}\n",
    "                if doc[\"sentiment\"] == \"POS\":\n",
    "                    vocab[token][\"POS\"] += 1\n",
    "                elif doc[\"sentiment\"] == \"NEG\":\n",
    "                    vocab[token][\"NEG\"] += 1\n",
    "    return vocab\n",
    "\n",
    "\n",
    "def train_nb(\n",
    "    classes: tg.Tuple[str, ...],\n",
    "    documents: tg.List[tg.Dict],\n",
    "    alpha: float = 0,\n",
    "):\n",
    "    \"\"\"\n",
    "    Trains a Naive Bayes model\n",
    "    Parameters\n",
    "    ----------\n",
    "    classes : tg.Tuple[str, ...]\n",
    "        the classes that the model should predict\n",
    "    documents : tg.List[Dict]\n",
    "        the documents on which to train on\n",
    "    alpha : float\n",
    "        smoothing parameter, which is added to word counts.\n",
    "\n",
    "    Returns\n",
    "    -------\n",
    "    vocab : tg.Dict\n",
    "        the computed vocabulary for the input documents\n",
    "    logprior : npt.NDArray\n",
    "        (n_classes, ) array of log priors\n",
    "    loglikelihood : tg.List[tg.Dict]\n",
    "        (n_classes, ) array of dictionary containing loglikelihood of each word\n",
    "    \"\"\"\n",
    "    vocab: tg.Dict = extract_vocab(documents)\n",
    "    if alpha == 0:\n",
    "        # filter vocab if we are not applying smoothing\n",
    "        vocab = {k: v for (k, v) in vocab.items() if v[\"POS\"] > 0 and v[\"NEG\"] > 0}\n",
    "\n",
    "    n_docs = len(documents)\n",
    "    logprior = np.zeros(len(classes))\n",
    "    loglikelihood: tg.List[tg.Dict] = [{} for _ in range(len(classes))]\n",
    "    for c, clx in enumerate(classes):\n",
    "        clx_docs = [doc for doc in documents if doc[\"sentiment\"] == clx]\n",
    "        n_docs_clx = len(clx_docs)\n",
    "        logprior[c] = np.log(n_docs_clx / n_docs)\n",
    "        # compute sum of word counts, which we'll use to compute loglikelihood (denom)\n",
    "        word_counts_sum = (np.array([vocab[word][clx] for word in vocab]) + alpha).sum()\n",
    "        for word in vocab:\n",
    "            loglikelihood[c][word] = np.log(\n",
    "                (vocab[word][clx] + alpha) / (word_counts_sum)\n",
    "            )\n",
    "    return vocab, logprior, loglikelihood\n",
    "\n",
    "\n",
    "def nb_predict(\n",
    "    classes: tg.Tuple[str, ...],\n",
    "    vocab: tg.Dict,\n",
    "    logprior: npt.NDArray[float],\n",
    "    loglikelihood: tg.List[tg.Dict],\n",
    "    doc: tg.Dict,\n",
    "):\n",
    "    \"\"\"\n",
    "    Predicts the sentiment of a document\n",
    "\n",
    "    Parameters\n",
    "    ----------\n",
    "    classes : tg.Tuple[str, ...]\n",
    "    vocab : tg.Dict\n",
    "    prior : npt.NDArray\n",
    "    loglikelihood : tg.List[tg.Dict]\n",
    "    doc : tg.Dict\n",
    "        the document to classify\n",
    "\n",
    "    Returns\n",
    "    -------\n",
    "    int\n",
    "        The index of the predicted class\n",
    "    \"\"\"\n",
    "    doc_text = [\n",
    "        token\n",
    "        for sentence in doc[\"content\"]\n",
    "        for token, _pos in sentence\n",
    "        if token in vocab\n",
    "    ]\n",
    "    score: npt.NDArray = np.zeros(len(classes), dtype=float)\n",
    "    for c, clx in enumerate(classes):\n",
    "        score[c] = logprior[c]\n",
    "        for token in doc_text:\n",
    "            if token in vocab:\n",
    "                score[c] += loglikelihood[c][token]\n",
    "\n",
    "    return np.argmax(score)"
   ]
  },
  {
   "cell_type": "code",
   "execution_count": 18,
   "metadata": {},
   "outputs": [
    {
     "name": "stdout",
     "output_type": "stream",
     "text": [
      "Accuracy: 0.835\n"
     ]
    }
   ],
   "source": [
    "lower_case_reviews = preprocess_reviews(reviews)\n",
    "\n",
    "train_idxs = range(0, 900)\n",
    "test_idxs = range(900, 1000)\n",
    "train_reviews = [review for review in lower_case_reviews if review[\"cv\"] in train_idxs]\n",
    "test_reviews = [review for review in lower_case_reviews if review[\"cv\"] in test_idxs]\n",
    "\n",
    "\n",
    "vocab, logprior, loglikelihood = train_nb((\"POS\", \"NEG\"), train_reviews)\n",
    "\n",
    "y_pred = np.array(\n",
    "    [\n",
    "        nb_predict((\"POS\", \"NEG\"), vocab, logprior, loglikelihood, doc)\n",
    "        for doc in test_reviews\n",
    "    ]\n",
    ")\n",
    "y_true = np.array([SENT_MAP[doc[\"sentiment\"]] for doc in test_reviews])\n",
    "accuracy = (y_pred == y_true).astype(int).sum() / len(y_true)\n",
    "\n",
    "print(f\"Accuracy: {accuracy:.3f}\")"
   ]
  },
  {
   "cell_type": "markdown",
   "metadata": {
    "id": "0INK-PBoM6CB"
   },
   "source": [
    "#### (Q2.3) Would you consider accuracy to also be a good way to evaluate your classifier in a situation where 90% of your data instances are of positive movie reviews? (1pt)\n",
    "\n",
    "Simulate this scenario by keeping the positive reviews\n",
    "data unchanged, but only using negative reviews cv000–cv089 for\n",
    "training, and cv900–cv909 for testing. Calculate the classification\n",
    "accuracy, and explain what changed."
   ]
  },
  {
   "cell_type": "markdown",
   "metadata": {
    "id": "oFbcsYlipBAw"
   },
   "source": [
    "---\n",
    "\n",
    "I would not consider accuracy to be a good way to evaluate our classifier in this situation. This is because in such a case, our dataset is strongly unbalanced towards one class, the positive one. The result is that our model will be incorrectly biased (and in a sense rewarded) for simply learning to predict the majority class regardless of the input. In a way, it is overfitting to a certain class. Because the majority of the input will be of this class, most of the model's predictions will be correct, increasing accuracy and artificially obtaining \"good\" results. While this may be fine for a problem where false positives are not a concern, it becomes problematic in problems sensitive to type I errors. This is noticed below where our accuracy increases when using an unbalanced dataset. Other metrics, such as precision and recall, are better suited for classification problems.\n",
    "\n",
    "---"
   ]
  },
  {
   "cell_type": "code",
   "execution_count": 19,
   "metadata": {
    "id": "GWDkt5ZrrFGp"
   },
   "outputs": [],
   "source": [
    "# YOUR CODE HERE\n",
    "def split_data(\n",
    "    data: tg.List[tg.Dict],\n",
    "    pos_start_stop: tg.Tuple[tg.Tuple[int, int], tg.Tuple[int, int]],\n",
    "    neg_start_stop: tg.Optional[\n",
    "        tg.Tuple[tg.Tuple[int, int], tg.Tuple[int, int]]\n",
    "    ] = None,\n",
    ") -> tg.Tuple[tg.List[tg.Dict], tg.List[tg.Dict]]:\n",
    "    \"\"\"\n",
    "    Splits data into training and testing sets,\n",
    "    allowing for different starts and stops between\n",
    "    negative and positive classes\n",
    "\n",
    "    Parameters\n",
    "    ----------\n",
    "    data : tg.List[Dict]\n",
    "        the data to split\n",
    "    pos_start_stop : tg.Tuple[tg.Tuple[int, int], tg.Tuple[int, int]]\n",
    "        ((train_start, train_stop), (test_start, test_stop))\n",
    "        for positive class\n",
    "    neg_start_stop : tg.Tuple[tg.Tuple[int, int], tg.Tuple[int, int]]\n",
    "        ((train_start, train_stop), (test_start, test_stop))\n",
    "        for negative class. Optional, if None, will use the same as positive\n",
    "\n",
    "    Returns\n",
    "    -------\n",
    "    tg.Tuple[tg.List[Dict], tg.List[Dict]]\n",
    "        (train_data, test_data)\n",
    "    \"\"\"\n",
    "    if neg_start_stop is None:\n",
    "        neg_start_stop = pos_start_stop\n",
    "    starts_stops = (pos_start_stop, neg_start_stop)\n",
    "    train = []\n",
    "    test = []\n",
    "    for i, clx in enumerate((\"POS\", \"NEG\")):\n",
    "        print(\n",
    "            f\"Splitting data for class {clx} \\n\"\n",
    "            f\"Using train indices {starts_stops[i][0]} and \"\n",
    "            f\"test indices {starts_stops[i][1]}\"\n",
    "        )\n",
    "\n",
    "        train_idxs = range(starts_stops[i][0][0], starts_stops[i][0][1])\n",
    "        test_idxs = range(starts_stops[i][1][0], starts_stops[i][1][1])\n",
    "        train_data = [\n",
    "            data_entry\n",
    "            for data_entry in data\n",
    "            if data_entry[\"cv\"] in train_idxs and data_entry[\"sentiment\"] == clx\n",
    "        ]\n",
    "        train += train_data\n",
    "\n",
    "        test_data = [\n",
    "            data_entry\n",
    "            for data_entry in data\n",
    "            if data_entry[\"cv\"] in test_idxs and data_entry[\"sentiment\"] == clx\n",
    "        ]\n",
    "        test += test_data\n",
    "    return train, test"
   ]
  },
  {
   "cell_type": "code",
   "execution_count": 20,
   "metadata": {},
   "outputs": [
    {
     "name": "stdout",
     "output_type": "stream",
     "text": [
      "Splitting data for class POS \n",
      "Using train indices (0, 900) and test indices (900, 1000)\n",
      "Splitting data for class NEG \n",
      "Using train indices (0, 90) and test indices (900, 910)\n",
      "Accuracy: 0.891\n"
     ]
    }
   ],
   "source": [
    "pos_idxs = (0, 900, 900, 1000)\n",
    "neg_idxs = (0, 90, 900, 910)\n",
    "\n",
    "train_reviews, test_reviews = split_data(\n",
    "        lower_case_reviews,\n",
    "        (pos_idxs[:2], pos_idxs[2:]),\n",
    "        (neg_idxs[:2], neg_idxs[2:]),\n",
    ")\n",
    "\n",
    "vocab, logprior, loglikelihood = train_nb((\"POS\", \"NEG\"), train_reviews)\n",
    "\n",
    "y_pred = np.array(\n",
    "    [\n",
    "        nb_predict((\"POS\", \"NEG\"), vocab, logprior, loglikelihood, doc)\n",
    "        for doc in test_reviews\n",
    "    ]\n",
    ")\n",
    "y_true = np.array([SENT_MAP[doc[\"sentiment\"]] for doc in test_reviews])\n",
    "accuracy = (y_pred == y_true).astype(int).sum() / len(y_true)\n",
    "\n",
    "print(f\"Accuracy: {accuracy:.3f}\")"
   ]
  },
  {
   "cell_type": "markdown",
   "metadata": {
    "id": "6wJzcHX3WUDm"
   },
   "source": [
    "## Smoothing (1pt)\n",
    "\n",
    "As mentioned above, the presence of words in the test dataset that\n",
    "have not been seen during training can cause probabilities in the Naive\n",
    "Bayes classifier to be $0$, thus making that particular test instance\n",
    "undecidable. The standard way to mitigate this effect (as well as to\n",
    "give more clout to rare words) is to use smoothing, in which the\n",
    "probability fraction\n",
    "$$\\frac{\\text{count}(w_i, c)}{\\sum\\limits_{w\\in V} \\text{count}(w, c)}$$ for a word\n",
    "$w_i$ becomes\n",
    "$$\\frac{\\text{count}(w_i, c) + \\text{smoothing}(w_i)}{\\sum\\limits_{w\\in V} \\text{count}(w, c) + \\sum\\limits_{w \\in V} \\text{smoothing}(w)}$$\n",
    "\n",
    "\n",
    "\n"
   ]
  },
  {
   "cell_type": "markdown",
   "metadata": {
    "id": "PBNIcbwUWphC"
   },
   "source": [
    "#### (Q2.4) Implement Laplace feature smoothing (1pt)\n",
    "Implement Laplace smoothing, i.e., smoothing with a constant value ($smoothing(w) = \\kappa, \\forall w \\in V$), in your Naive\n",
    "Bayes classifier’s code, and report the impact on performance. \n",
    "Use $\\kappa = 1$."
   ]
  },
  {
   "cell_type": "code",
   "execution_count": 21,
   "metadata": {
    "id": "g03yflCc9kpW"
   },
   "outputs": [
    {
     "name": "stdout",
     "output_type": "stream",
     "text": [
      "Splitting data for class POS \n",
      "Using train indices (0, 900) and test indices (900, 1000)\n",
      "Splitting data for class NEG \n",
      "Using train indices (0, 900) and test indices (900, 1000)\n",
      "Accuracy: 0.825\n"
     ]
    }
   ],
   "source": [
    "# YOUR CODE HERE\n",
    "# Laplace smoothing is already available in our implementation above, we just\n",
    "# need to pass an argument of alpha=1 when training:\n",
    "train_reviews, test_reviews = split_data(\n",
    "    lower_case_reviews,\n",
    "    (pos_idxs[:2], pos_idxs[2:]),\n",
    ")\n",
    "vocab, logprior, loglikelihood = train_nb((\"POS\", \"NEG\"), train_reviews, alpha=1)\n",
    "\n",
    "y_pred = np.array(\n",
    "    [\n",
    "        nb_predict((\"POS\", \"NEG\"), vocab, logprior, loglikelihood, doc)\n",
    "        for doc in test_reviews\n",
    "    ]\n",
    ")\n",
    "y_true = np.array([SENT_MAP[doc[\"sentiment\"]] for doc in test_reviews])\n",
    "accuracy = (y_pred == y_true).astype(int).sum() / len(y_true)\n",
    "\n",
    "print(f\"Accuracy: {accuracy:.3f}\")"
   ]
  },
  {
   "cell_type": "markdown",
   "metadata": {
    "id": "ZiGcgwba87D5"
   },
   "source": [
    "## Cross-Validation (1.5pts)\n",
    "\n",
    "A serious danger in using Machine Learning on small datasets, with many\n",
    "iterations of slightly different versions of the algorithms, is ending up with Type III errors, also called the “testing hypotheses\n",
    "suggested by the data” errors. This type of error occurs when we make\n",
    "repeated improvements to our classifiers by playing with features and\n",
    "their processing, but we don’t get a fresh, never-before seen test\n",
    "dataset every time. Thus, we risk developing a classifier that gets better\n",
    "and better on our data, but only gets worse at generalizing to new, unseen data. In other words, we risk developping a classifier that overfits.\n",
    "\n",
    "A simple method to guard against Type III errors is to use\n",
    "Cross-Validation. In **N-fold Cross-Validation**, we divide the data into N\n",
    "distinct chunks, or folds. Then, we repeat the experiment N times: each\n",
    "time holding out one of the folds for testing, training our classifier\n",
    "on the remaining N - 1 data folds, and reporting performance on the\n",
    "held-out fold. We can use different strategies for dividing the data:\n",
    "\n",
    "-   Consecutive splitting:\n",
    "  - cv000–cv099 = Split 1\n",
    "  - cv100–cv199 = Split 2\n",
    "  - etc.\n",
    "  \n",
    "-   Round-robin splitting (mod 10):\n",
    "  - cv000, cv010, cv020, … = Split 1\n",
    "  - cv001, cv011, cv021, … = Split 2\n",
    "  - etc.\n",
    "\n",
    "-   Random sampling/splitting\n",
    "  - Not used here (but you may choose to split this way in a non-educational situation)\n",
    "\n"
   ]
  },
  {
   "cell_type": "markdown",
   "metadata": {
    "id": "8OeLcbSauGtR"
   },
   "source": [
    "#### (Q2.5) Write the code to implement 10-fold cross-validation using round-robin splitting for your Naive Bayes classifier from Q2.4 and compute the 10 accuracies. Report the final performance, which is the average of the performances per fold. If all splits perform equally well, this is a good sign. (1pt)"
   ]
  },
  {
   "cell_type": "code",
   "execution_count": 22,
   "metadata": {
    "id": "3KeCGPa7Nuzx"
   },
   "outputs": [],
   "source": [
    "def perform_rr_cv(\n",
    "    data,\n",
    "    n_splits,\n",
    "    modulo,\n",
    "    alpha=0,\n",
    "    data_len: tg.Optional[int] = None,\n",
    "):\n",
    "    \"\"\"\n",
    "    Performs round robin cross validation\n",
    "\n",
    "    Returns\n",
    "    -------\n",
    "    metrics : npt.NDArray\n",
    "        (2, n_splits) array of accuracies and vocab sizes\n",
    "    \"\"\"\n",
    "    if data_len is None:\n",
    "        data_len = len(data)\n",
    "\n",
    "    base_split: npt.NDArray = np.arange(0, (data_len - n_splits) + 1, modulo)\n",
    "    splits: tg.List[npt.NDArray] = [base_split + i for i in range(n_splits)]\n",
    "\n",
    "    metrics = np.zeros((2, n_splits), dtype=float)\n",
    "    for i, test_data_idxs in enumerate(splits):\n",
    "        print(f\"Cross validating on split {i+1} of {n_splits}\")\n",
    "        train_data_idxs = np.concatenate(splits[:i] + splits[(i + 1) :])  # noqa:E203\n",
    "\n",
    "        train_data = [\n",
    "            data_entry for data_entry in data if data_entry[\"cv\"] in train_data_idxs\n",
    "        ]\n",
    "        test_data = [\n",
    "            data_entry for data_entry in data if data_entry[\"cv\"] in test_data_idxs\n",
    "        ]\n",
    "\n",
    "        vocab, logprior, loglikelihood = train_nb((\"POS\", \"NEG\"), train_data, alpha)\n",
    "        y_pred = np.array(\n",
    "            [\n",
    "                nb_predict((\"POS\", \"NEG\"), vocab, logprior, loglikelihood, doc)\n",
    "                for doc in test_data\n",
    "            ]\n",
    "        )\n",
    "        y_true = np.array([SENT_MAP[doc[\"sentiment\"]] for doc in test_data])\n",
    "\n",
    "        accuracy = (y_pred == y_true).astype(int).sum() / len(y_true)\n",
    "\n",
    "        metrics[0, i] = accuracy\n",
    "        metrics[1, i] = len(vocab.keys())\n",
    "\n",
    "    print(\"Cross validation complete.\")\n",
    "\n",
    "    return metrics"
   ]
  },
  {
   "cell_type": "code",
   "execution_count": 23,
   "metadata": {},
   "outputs": [
    {
     "name": "stdout",
     "output_type": "stream",
     "text": [
      "Cross validating on split 1 of 10\n",
      "Cross validating on split 2 of 10\n",
      "Cross validating on split 3 of 10\n",
      "Cross validating on split 4 of 10\n",
      "Cross validating on split 5 of 10\n",
      "Cross validating on split 6 of 10\n",
      "Cross validating on split 7 of 10\n",
      "Cross validating on split 8 of 10\n",
      "Cross validating on split 9 of 10\n",
      "Cross validating on split 10 of 10\n",
      "Cross validation complete.\n"
     ]
    }
   ],
   "source": [
    "accuracies, vocab_sizes = perform_rr_cv(lower_case_reviews, 10, 10, 1, 1000)"
   ]
  },
  {
   "cell_type": "code",
   "execution_count": 24,
   "metadata": {},
   "outputs": [
    {
     "name": "stdout",
     "output_type": "stream",
     "text": [
      "\n",
      "CV accuracies: [0.79  0.835 0.805 0.825 0.78  0.845 0.83  0.775 0.83  0.84 ]\n",
      "mean CV accuracy: 0.815\n"
     ]
    }
   ],
   "source": [
    "print(f\"\\nCV accuracies: {accuracies}\")\n",
    "print(f\"mean CV accuracy: {accuracies.mean():.3f}\")"
   ]
  },
  {
   "cell_type": "markdown",
   "metadata": {
    "id": "otdlsDXBNyOa"
   },
   "source": [
    "#### (Q2.6) Report the variance of the 10 accuracy scores. (0.5pt)\n",
    "\n",
    "**Please report all future results using 10-fold cross-validation now\n",
    "(unless told to use the held-out test set).**"
   ]
  },
  {
   "cell_type": "code",
   "execution_count": 25,
   "metadata": {
    "id": "ZoBQm1KuNzNR"
   },
   "outputs": [
    {
     "name": "stdout",
     "output_type": "stream",
     "text": [
      "CV accuracy variance: 0.000602\n"
     ]
    }
   ],
   "source": [
    "# YOUR CODE HERE\n",
    "print(f\"CV accuracy variance: {accuracies.var():.6f}\")"
   ]
  },
  {
   "cell_type": "markdown",
   "metadata": {
    "id": "s6A2zX9_BRKm"
   },
   "source": [
    "## Features, overfitting, and the curse of dimensionality\n",
    "\n",
    "In the Bag-of-Words model, ideally we would like each distinct word in\n",
    "the text to be mapped to its own dimension in the output vector\n",
    "representation. However, real world text is messy, and we need to decide\n",
    "on what we consider to be a word. For example, is “`word`\" different\n",
    "from “`Word`\", from “`word`”, or from “`words`\"? Too strict a\n",
    "definition, and the number of features explodes, while our algorithm\n",
    "fails to learn anything generalisable. Too lax, and we risk destroying\n",
    "our learning signal. In the following section, you will learn about\n",
    "confronting the feature sparsity and the overfitting problems as they\n",
    "occur in NLP classification tasks."
   ]
  },
  {
   "cell_type": "markdown",
   "metadata": {
    "id": "EKK8FNt8VtcZ"
   },
   "source": [
    "### Stemming (1.5pts)\n",
    "\n",
    "To make your algorithm more robust, use stemming and hash different inflections of a word to the same feature in the BoW vector space. Please use the [Porter stemming\n",
    "    algorithm](http://www.nltk.org/howto/stem.html) from NLTK.\n",
    "\n"
   ]
  },
  {
   "cell_type": "code",
   "execution_count": 26,
   "metadata": {
    "id": "NxtCul1IrBi_"
   },
   "outputs": [
    {
     "name": "stdout",
     "output_type": "stream",
     "text": [
      "Stemming requested; stemming...\n",
      "Stemming complete.\n"
     ]
    }
   ],
   "source": [
    "# YOUR CODE HERE\n",
    "stemmed_reviews = preprocess_reviews(reviews, True)"
   ]
  },
  {
   "cell_type": "markdown",
   "metadata": {
    "id": "6SrJ1BeLXTnk"
   },
   "source": [
    "#### (Q2.7): How does the performance of your classifier change when you use stemming on your training and test datasets? (1pt)\n",
    "Use cross-validation to evaluate the classifier. \n"
   ]
  },
  {
   "cell_type": "code",
   "execution_count": 27,
   "metadata": {
    "id": "gYqKBOiIrInT"
   },
   "outputs": [
    {
     "name": "stdout",
     "output_type": "stream",
     "text": [
      "Cross validating on split 1 of 10\n",
      "Cross validating on split 2 of 10\n",
      "Cross validating on split 3 of 10\n",
      "Cross validating on split 4 of 10\n",
      "Cross validating on split 5 of 10\n",
      "Cross validating on split 6 of 10\n",
      "Cross validating on split 7 of 10\n",
      "Cross validating on split 8 of 10\n",
      "Cross validating on split 9 of 10\n",
      "Cross validating on split 10 of 10\n",
      "Cross validation complete.\n"
     ]
    }
   ],
   "source": [
    "stem_accuracies, stem_vocab_sizes = perform_rr_cv(stemmed_reviews, 10, 10, 1, 1000)"
   ]
  },
  {
   "cell_type": "code",
   "execution_count": 28,
   "metadata": {},
   "outputs": [
    {
     "name": "stdout",
     "output_type": "stream",
     "text": [
      "CV accuracies: [0.78  0.84  0.805 0.84  0.775 0.84  0.82  0.775 0.83  0.83 ]\n",
      "mean CV accuracy: 0.814\n",
      "CV accuracy variance: 0.000685\n"
     ]
    }
   ],
   "source": [
    "print(f\"CV accuracies: {stem_accuracies}\")\n",
    "print(f\"mean CV accuracy: {stem_accuracies.mean():.3f}\")\n",
    "print(f\"CV accuracy variance: {stem_accuracies.var():.6f}\")"
   ]
  },
  {
   "cell_type": "markdown",
   "metadata": {
    "id": "JkDHVq_1XUVP"
   },
   "source": [
    "#### (Q2.8) What happens to the number of features (i.e., the size of the vocabulary) when using stemming as opposed to (Q2.4)? (0.5pt)\n",
    "Give actual numbers. You can use the held-out training set to determine these."
   ]
  },
  {
   "cell_type": "code",
   "execution_count": 29,
   "metadata": {
    "id": "MA3vee5-rJyy"
   },
   "outputs": [
    {
     "name": "stdout",
     "output_type": "stream",
     "text": [
      "Average vocab size without stemming: 45446.50\n",
      "Average vocab size with stemming: 32521.00\n"
     ]
    }
   ],
   "source": [
    "print(f\"Average vocab size without stemming: {vocab_sizes.mean():.2f}\")\n",
    "print(f\"Average vocab size with stemming: {stem_vocab_sizes.mean():.2f}\")      "
   ]
  },
  {
   "cell_type": "markdown",
   "metadata": {
    "id": "SoazfxbNV5Lq"
   },
   "source": [
    "### N-grams (1.5pts)\n",
    "\n",
    "A simple way of retaining some of the word\n",
    "order information when using bag-of-words representations is to use **n-gram** features. \n",
    "\n",
    "\n",
    "\n",
    "\n"
   ]
  },
  {
   "cell_type": "markdown",
   "metadata": {
    "id": "OHjy3I7-qWiu"
   },
   "source": [
    "#### (Q2.9) Retrain your classifier from (Q2.4) using **unigrams+bigrams** and **unigrams+bigrams+trigrams** as features. (1pt)\n",
    "Report accuracy and compare it with that of the approaches you have previously implemented. You are allowed to use NLTK to build n-grams from sentences."
   ]
  },
  {
   "cell_type": "code",
   "execution_count": 30,
   "metadata": {
    "id": "eYuKMTOpq9jz"
   },
   "outputs": [
    {
     "name": "stdout",
     "output_type": "stream",
     "text": [
      "Computing ngrams...\n",
      "Done.\n"
     ]
    }
   ],
   "source": [
    "bigrammed_reviews = preprocess_reviews(\n",
    "    lower_case_reviews, stem=False, bigrams=True, trigrams=False, cached=True\n",
    ")"
   ]
  },
  {
   "cell_type": "code",
   "execution_count": 31,
   "metadata": {},
   "outputs": [
    {
     "name": "stdout",
     "output_type": "stream",
     "text": [
      "Computing ngrams...\n",
      "Done.\n"
     ]
    }
   ],
   "source": [
    "trigrammed_reviews = preprocess_reviews(\n",
    "    lower_case_reviews, stem=False, bigrams=True, trigrams=True, cached=True\n",
    ")"
   ]
  },
  {
   "cell_type": "code",
   "execution_count": 32,
   "metadata": {},
   "outputs": [
    {
     "name": "stdout",
     "output_type": "stream",
     "text": [
      "Cross validating on split 1 of 10\n",
      "Cross validating on split 2 of 10\n",
      "Cross validating on split 3 of 10\n",
      "Cross validating on split 4 of 10\n",
      "Cross validating on split 5 of 10\n",
      "Cross validating on split 6 of 10\n",
      "Cross validating on split 7 of 10\n",
      "Cross validating on split 8 of 10\n",
      "Cross validating on split 9 of 10\n",
      "Cross validating on split 10 of 10\n",
      "Cross validation complete.\n"
     ]
    }
   ],
   "source": [
    "bigram_accuracies, bigram_vocab_sizes = perform_rr_cv(\n",
    "    bigrammed_reviews, 10, 10, 1, 1000\n",
    ")"
   ]
  },
  {
   "cell_type": "code",
   "execution_count": 33,
   "metadata": {},
   "outputs": [
    {
     "name": "stdout",
     "output_type": "stream",
     "text": [
      "Cross validating on split 1 of 10\n",
      "Cross validating on split 2 of 10\n",
      "Cross validating on split 3 of 10\n",
      "Cross validating on split 4 of 10\n",
      "Cross validating on split 5 of 10\n",
      "Cross validating on split 6 of 10\n",
      "Cross validating on split 7 of 10\n",
      "Cross validating on split 8 of 10\n",
      "Cross validating on split 9 of 10\n",
      "Cross validating on split 10 of 10\n",
      "Cross validation complete.\n"
     ]
    }
   ],
   "source": [
    "trigram_accuracies, trigram_vocab_sizes = perform_rr_cv(\n",
    "    trigrammed_reviews, 10, 10, 1, 1000\n",
    ")"
   ]
  },
  {
   "cell_type": "code",
   "execution_count": 34,
   "metadata": {},
   "outputs": [
    {
     "name": "stdout",
     "output_type": "stream",
     "text": [
      "CV unigram+bigram accuracies: [0.795 0.85  0.84  0.875 0.81  0.86  0.83  0.83  0.845 0.835]\n",
      "mean CV unigram+bigram accuracy: 0.837\n",
      "CV unigram+bigram accuracy variance: 0.000481\n",
      "####################################\n",
      "CV unigram+bigram+trigram accuracies: [0.79  0.85  0.835 0.86  0.82  0.85  0.85  0.84  0.85  0.805]\n",
      "mean CV unigram+bigram+trigram accuracy: 0.835\n",
      "CV unigram+bigram+trigram accuracy variance: 0.000470\n"
     ]
    }
   ],
   "source": [
    "print(f\"CV unigram+bigram accuracies: {bigram_accuracies}\")\n",
    "print(f\"mean CV unigram+bigram accuracy: {bigram_accuracies.mean():.3f}\")\n",
    "print(f\"CV unigram+bigram accuracy variance: {bigram_accuracies.var():.6f}\")\n",
    "print(\"####################################\")\n",
    "print(f\"CV unigram+bigram+trigram accuracies: {trigram_accuracies}\")\n",
    "print(f\"mean CV unigram+bigram+trigram accuracy: {trigram_accuracies.mean():.3f}\")\n",
    "print(f\"CV unigram+bigram+trigram accuracy variance: {trigram_accuracies.var():.6f}\")"
   ]
  },
  {
   "cell_type": "markdown",
   "metadata": {
    "id": "dVrGGArkrWoL"
   },
   "source": [
    "\n",
    "#### Q2.10: How many features does the BoW model have to take into account now? (0.5pt)\n",
    "How would you expect the number of features to increase theoretically (e.g., linear, square, cubed, exponential)? How does this number compare, in practice, to the number of features at (Q2.8)?\n",
    "\n",
    "Use the held-out training set once again for this.\n"
   ]
  },
  {
   "cell_type": "markdown",
   "metadata": {
    "id": "yEGZ9SV8pPaa"
   },
   "source": [
    "---\n",
    "\n",
    "I would expect the number of features to increase squared $O(n + n^2)= O(n^2)$ when using bigrams and cubed $O(n + n^2 + n^3)= O(n^3)$ when using trigrams. In other words, exponentially with the number of items $k$ in largest order n-gram $O(n^k)$ used. This is of course a \"worst-case\" scenario, as this kind of increase would only occur if all possible n-gram combinations were available given our set of unigrams, i.e. if our reviews were very dense. In practice, because of the sparsity of language, the number of features seems to increase linearly instead, as seen by the numbers below (ignoring stemming).\n",
    "\n",
    "With stemming, the number of features decreases as words with identical stems but different affixes are \"compressed\" into a single feature, i.e. the stem.\n",
    "\n",
    "---"
   ]
  },
  {
   "cell_type": "code",
   "execution_count": 35,
   "metadata": {
    "id": "_z8sAJeUrdtM"
   },
   "outputs": [
    {
     "name": "stdout",
     "output_type": "stream",
     "text": [
      "Splitting data for class POS \n",
      "Using train indices (0, 900) and test indices (900, 1000)\n",
      "Splitting data for class NEG \n",
      "Using train indices (0, 900) and test indices (900, 1000)\n",
      "Splitting data for class POS \n",
      "Using train indices (0, 900) and test indices (900, 1000)\n",
      "Splitting data for class NEG \n",
      "Using train indices (0, 900) and test indices (900, 1000)\n",
      "Splitting data for class POS \n",
      "Using train indices (0, 900) and test indices (900, 1000)\n",
      "Splitting data for class NEG \n",
      "Using train indices (0, 900) and test indices (900, 1000)\n"
     ]
    }
   ],
   "source": [
    "# YOUR CODE HERE\n",
    "stem_train_reviews, _stem_test_reviews = split_data(\n",
    "    stemmed_reviews,\n",
    "    (pos_idxs[:2], pos_idxs[2:]),\n",
    ")\n",
    "bi_train_reviews, _bi_test_reviews = split_data(\n",
    "    bigrammed_reviews,\n",
    "    (pos_idxs[:2], pos_idxs[2:]),\n",
    ")\n",
    "tri_train_reviews, _tri_test_reviews = split_data(\n",
    "    trigrammed_reviews,\n",
    "    (pos_idxs[:2], pos_idxs[2:]),\n",
    ")"
   ]
  },
  {
   "cell_type": "code",
   "execution_count": 36,
   "metadata": {},
   "outputs": [],
   "source": [
    "stem_vocab, _sp, _sl = train_nb((\"POS\", \"NEG\"), stem_train_reviews, alpha=1)\n",
    "bi_vocab, _bp, _bl = train_nb((\"POS\", \"NEG\"), bi_train_reviews, alpha=1)\n",
    "tri_vocab, _tp, _tl = train_nb((\"POS\", \"NEG\"), tri_train_reviews, alpha=1)"
   ]
  },
  {
   "cell_type": "code",
   "execution_count": 37,
   "metadata": {},
   "outputs": [
    {
     "name": "stdout",
     "output_type": "stream",
     "text": [
      "non-stemmed (2.4) number of features: 45348\n",
      "Stemmed (2.8) number of features: 32404\n",
      "unigram+bigram number of features: 471032\n",
      "unigram+bigram+trigram number of features: 1416686\n"
     ]
    }
   ],
   "source": [
    "print(f\"non-stemmed (2.4) number of features: {len(vocab.items())}\")\n",
    "print(f\"Stemmed (2.8) number of features: {len(stem_vocab.items())}\")\n",
    "print(f\"unigram+bigram number of features: {len(bi_vocab.items())}\") \n",
    "print(f\"unigram+bigram+trigram number of features: {len(tri_vocab.items())}\")"
   ]
  },
  {
   "cell_type": "markdown",
   "metadata": {
    "id": "CHWKDL3YV6vh"
   },
   "source": [
    "# Support Vector Machines (4pts)"
   ]
  },
  {
   "cell_type": "markdown",
   "metadata": {
    "id": "hJSYhcVaoJGt"
   },
   "source": [
    "Though simple to understand, implement, and debug, one\n",
    "major problem with the Naive Bayes classifier is that its performance\n",
    "deteriorates (becomes skewed) when it is being used with features which\n",
    "are not independent (i.e., are correlated). Another popular classifier\n",
    "that doesn’t scale as well to big data, and is not as simple to debug as\n",
    "Naive Bayes, but that doesn’t assume feature independence is the Support\n",
    "Vector Machine (SVM) classifier.\n",
    "\n",
    "You can find more details about SVMs in Chapter 7 of Bishop: Pattern Recognition and Machine Learning.\n",
    "Other sources for learning SVM:\n",
    "* http://web.mit.edu/zoya/www/SVM.pdf\n",
    "* http://www.cs.columbia.edu/~kathy/cs4701/documents/jason_svm_tutorial.pdf\n",
    "* https://pythonprogramming.net/support-vector-machine-intro-machine-learning-tutorial/\n",
    "\n",
    "\n",
    "\n",
    "\n",
    "\n",
    "\n",
    "\n",
    "Use the scikit-learn implementation of \n",
    "[SVM](http://scikit-learn.org/stable/modules/svm.html) with the default parameters. (You are not expected to perform any hyperparameter tuning, but feel free to do it if you think it gives you good insights for the discussion in question 5.)\n",
    "\n"
   ]
  },
  {
   "cell_type": "markdown",
   "metadata": {
    "id": "0LnzNtQBV8gr"
   },
   "source": [
    "#### (Q3.1): Train SVM and compare to Naive Bayes (2pts)\n",
    "\n",
    "Train an SVM classifier (sklearn.svm.LinearSVC) using the features collected for Naive Bayes. Compare the\n",
    "classification performance of the SVM classifier to that of the Naive\n",
    "Bayes classifier with smoothing.\n",
    "Use cross-validation to evaluate the performance of the classifiers.\n",
    "\n"
   ]
  },
  {
   "cell_type": "code",
   "execution_count": 38,
   "metadata": {
    "id": "JBscui8Mvoz0"
   },
   "outputs": [
    {
     "data": {
      "text/plain": [
       "{'films': {'POS': 749, 'NEG': 588},\n",
       " 'adapted': {'POS': 24, 'NEG': 14},\n",
       " 'from': {'POS': 2399, 'NEG': 2018},\n",
       " 'comic': {'POS': 200, 'NEG': 144},\n",
       " 'books': {'POS': 45, 'NEG': 25},\n",
       " 'have': {'POS': 2047, 'NEG': 2477},\n",
       " 'had': {'POS': 667, 'NEG': 752},\n",
       " 'plenty': {'POS': 68, 'NEG': 52},\n",
       " 'of': {'POS': 16569, 'NEG': 13775},\n",
       " 'success': {'POS': 111, 'NEG': 80},\n",
       " ',': {'POS': 38148, 'NEG': 31693},\n",
       " 'whether': {'POS': 119, 'NEG': 77},\n",
       " 'they': {'POS': 2084, 'NEG': 2228},\n",
       " \"'re\": {'POS': 387, 'NEG': 525},\n",
       " 'about': {'POS': 1508, 'NEG': 1596},\n",
       " 'superheroes': {'POS': 8, 'NEG': 4},\n",
       " '-lrb-': {'POS': 5385, 'NEG': 5112},\n",
       " 'batman': {'POS': 43, 'NEG': 143},\n",
       " 'superman': {'POS': 5, 'NEG': 20},\n",
       " 'spawn': {'POS': 10, 'NEG': 72},\n",
       " '-rrb-': {'POS': 5403, 'NEG': 5185},\n",
       " 'or': {'POS': 1305, 'NEG': 1473},\n",
       " 'geared': {'POS': 5, 'NEG': 7},\n",
       " 'toward': {'POS': 50, 'NEG': 39},\n",
       " 'kids': {'POS': 152, 'NEG': 124},\n",
       " 'casper': {'POS': 6, 'NEG': 12},\n",
       " 'the': {'POS': 36898, 'NEG': 31218},\n",
       " 'arthouse': {'POS': 2, 'NEG': 0},\n",
       " 'crowd': {'POS': 29, 'NEG': 36},\n",
       " 'ghost': {'POS': 55, 'NEG': 13},\n",
       " 'world': {'POS': 584, 'NEG': 337},\n",
       " 'but': {'POS': 3987, 'NEG': 3713},\n",
       " 'there': {'POS': 1531, 'NEG': 1819},\n",
       " \"'s\": {'POS': 8460, 'NEG': 7789},\n",
       " 'never': {'POS': 640, 'NEG': 562},\n",
       " 'really': {'POS': 689, 'NEG': 715},\n",
       " 'been': {'POS': 883, 'NEG': 960},\n",
       " 'a': {'POS': 17946, 'NEG': 15888},\n",
       " 'book': {'POS': 158, 'NEG': 134},\n",
       " 'like': {'POS': 1546, 'NEG': 1643},\n",
       " 'hell': {'POS': 92, 'NEG': 110},\n",
       " 'before': {'POS': 445, 'NEG': 441},\n",
       " '.': {'POS': 27469, 'NEG': 25548},\n",
       " 'for': {'POS': 4651, 'NEG': 4148},\n",
       " 'starters': {'POS': 3, 'NEG': 3},\n",
       " 'it': {'POS': 7383, 'NEG': 6974},\n",
       " 'was': {'POS': 2310, 'NEG': 2348},\n",
       " 'created': {'POS': 95, 'NEG': 53},\n",
       " 'by': {'POS': 3203, 'NEG': 2505},\n",
       " 'alan': {'POS': 50, 'NEG': 48},\n",
       " 'moore': {'POS': 39, 'NEG': 40},\n",
       " 'and': {'POS': 17609, 'NEG': 13941},\n",
       " 'eddie': {'POS': 57, 'NEG': 88},\n",
       " 'campbell': {'POS': 52, 'NEG': 40},\n",
       " 'who': {'POS': 2775, 'NEG': 2336},\n",
       " 'brought': {'POS': 83, 'NEG': 57},\n",
       " 'medium': {'POS': 14, 'NEG': 12},\n",
       " 'to': {'POS': 14648, 'NEG': 13743},\n",
       " 'whole': {'POS': 204, 'NEG': 246},\n",
       " 'new': {'POS': 642, 'NEG': 500},\n",
       " 'level': {'POS': 104, 'NEG': 111},\n",
       " 'in': {'POS': 10432, 'NEG': 8967},\n",
       " 'mid': {'POS': 6, 'NEG': 7},\n",
       " \"'\": {'POS': 1062, 'NEG': 877},\n",
       " '80s': {'POS': 19, 'NEG': 16},\n",
       " 'with': {'POS': 5243, 'NEG': 4378},\n",
       " '12-part': {'POS': 1, 'NEG': 0},\n",
       " 'series': {'POS': 222, 'NEG': 265},\n",
       " 'called': {'POS': 142, 'NEG': 179},\n",
       " 'watchmen': {'POS': 1, 'NEG': 0},\n",
       " 'say': {'POS': 344, 'NEG': 357},\n",
       " 'thoroughly': {'POS': 29, 'NEG': 36},\n",
       " 'researched': {'POS': 1, 'NEG': 0},\n",
       " 'subject': {'POS': 86, 'NEG': 59},\n",
       " 'jack': {'POS': 149, 'NEG': 113},\n",
       " 'ripper': {'POS': 6, 'NEG': 0},\n",
       " 'would': {'POS': 961, 'NEG': 1059},\n",
       " 'be': {'POS': 2647, 'NEG': 2801},\n",
       " 'saying': {'POS': 73, 'NEG': 78},\n",
       " 'michael': {'POS': 206, 'NEG': 167},\n",
       " 'jackson': {'POS': 57, 'NEG': 58},\n",
       " 'is': {'POS': 12854, 'NEG': 10395},\n",
       " 'starting': {'POS': 24, 'NEG': 29},\n",
       " 'look': {'POS': 354, 'NEG': 385},\n",
       " 'little': {'POS': 676, 'NEG': 655},\n",
       " 'odd': {'POS': 42, 'NEG': 52},\n",
       " '``': {'POS': 3788, 'NEG': 4119},\n",
       " 'graphic': {'POS': 52, 'NEG': 29},\n",
       " 'novel': {'POS': 155, 'NEG': 94},\n",
       " \"''\": {'POS': 3965, 'NEG': 4391},\n",
       " 'if': {'POS': 1105, 'NEG': 1398},\n",
       " 'you': {'POS': 2305, 'NEG': 2466},\n",
       " 'will': {'POS': 1164, 'NEG': 831},\n",
       " 'over': {'POS': 599, 'NEG': 540},\n",
       " '500': {'POS': 4, 'NEG': 2},\n",
       " 'pages': {'POS': 8, 'NEG': 8},\n",
       " 'long': {'POS': 343, 'NEG': 337},\n",
       " 'includes': {'POS': 47, 'NEG': 49},\n",
       " 'nearly': {'POS': 151, 'NEG': 124},\n",
       " '30': {'POS': 19, 'NEG': 15},\n",
       " 'more': {'POS': 1624, 'NEG': 1364},\n",
       " 'that': {'POS': 7228, 'NEG': 6960},\n",
       " 'consist': {'POS': 5, 'NEG': 3},\n",
       " 'nothing': {'POS': 274, 'NEG': 441},\n",
       " 'footnotes': {'POS': 1, 'NEG': 1},\n",
       " 'other': {'POS': 952, 'NEG': 782},\n",
       " 'words': {'POS': 102, 'NEG': 88},\n",
       " 'do': {'POS': 1261, 'NEG': 1523},\n",
       " \"n't\": {'POS': 2441, 'NEG': 3078},\n",
       " 'dismiss': {'POS': 6, 'NEG': 6},\n",
       " 'this': {'POS': 4127, 'NEG': 4395},\n",
       " 'film': {'POS': 4648, 'NEG': 3832},\n",
       " 'because': {'POS': 771, 'NEG': 727},\n",
       " 'its': {'POS': 1130, 'NEG': 915},\n",
       " 'source': {'POS': 34, 'NEG': 20},\n",
       " 'can': {'POS': 1107, 'NEG': 1028},\n",
       " 'get': {'POS': 793, 'NEG': 932},\n",
       " 'past': {'POS': 172, 'NEG': 129},\n",
       " 'thing': {'POS': 324, 'NEG': 395},\n",
       " 'might': {'POS': 265, 'NEG': 313},\n",
       " 'find': {'POS': 373, 'NEG': 317},\n",
       " 'another': {'POS': 499, 'NEG': 491},\n",
       " 'stumbling': {'POS': 8, 'NEG': 6},\n",
       " 'block': {'POS': 20, 'NEG': 19},\n",
       " 'directors': {'POS': 55, 'NEG': 43},\n",
       " 'albert': {'POS': 22, 'NEG': 15},\n",
       " 'allen': {'POS': 70, 'NEG': 59},\n",
       " 'hughes': {'POS': 18, 'NEG': 28},\n",
       " 'getting': {'POS': 182, 'NEG': 186},\n",
       " 'brothers': {'POS': 76, 'NEG': 98},\n",
       " 'direct': {'POS': 38, 'NEG': 26},\n",
       " 'seems': {'POS': 480, 'NEG': 449},\n",
       " 'almost': {'POS': 400, 'NEG': 321},\n",
       " 'as': {'POS': 5760, 'NEG': 4397},\n",
       " 'ludicrous': {'POS': 2, 'NEG': 35},\n",
       " 'casting': {'POS': 55, 'NEG': 47},\n",
       " 'carrot': {'POS': 3, 'NEG': 7},\n",
       " 'top': {'POS': 124, 'NEG': 123},\n",
       " 'well': {'POS': 849, 'NEG': 623},\n",
       " 'anything': {'POS': 260, 'NEG': 298},\n",
       " 'riddle': {'POS': 1, 'NEG': 0},\n",
       " 'me': {'POS': 574, 'NEG': 687},\n",
       " ':': {'POS': 1287, 'NEG': 1318},\n",
       " 'better': {'POS': 338, 'NEG': 464},\n",
       " 'set': {'POS': 260, 'NEG': 215},\n",
       " 'ghetto': {'POS': 9, 'NEG': 14},\n",
       " 'features': {'POS': 102, 'NEG': 92},\n",
       " 'violent': {'POS': 64, 'NEG': 55},\n",
       " 'street': {'POS': 54, 'NEG': 64},\n",
       " 'crime': {'POS': 99, 'NEG': 78},\n",
       " 'than': {'POS': 1133, 'NEG': 1026},\n",
       " 'mad': {'POS': 25, 'NEG': 48},\n",
       " 'geniuses': {'POS': 4, 'NEG': 7},\n",
       " 'behind': {'POS': 179, 'NEG': 135},\n",
       " 'menace': {'POS': 45, 'NEG': 22},\n",
       " 'ii': {'POS': 69, 'NEG': 50},\n",
       " 'society': {'POS': 85, 'NEG': 43},\n",
       " '?': {'POS': 926, 'NEG': 1565},\n",
       " 'question': {'POS': 128, 'NEG': 125},\n",
       " 'course': {'POS': 280, 'NEG': 291},\n",
       " 'whitechapel': {'POS': 2, 'NEG': 0},\n",
       " '1888': {'POS': 2, 'NEG': 0},\n",
       " 'london': {'POS': 34, 'NEG': 25},\n",
       " 'east': {'POS': 14, 'NEG': 20},\n",
       " 'end': {'POS': 460, 'NEG': 485},\n",
       " 'filthy': {'POS': 3, 'NEG': 2},\n",
       " 'sooty': {'POS': 1, 'NEG': 0},\n",
       " 'place': {'POS': 312, 'NEG': 250},\n",
       " 'where': {'POS': 695, 'NEG': 621},\n",
       " 'whores': {'POS': 1, 'NEG': 1},\n",
       " 'unfortunates': {'POS': 2, 'NEG': 0},\n",
       " 'are': {'POS': 3413, 'NEG': 3018},\n",
       " 'nervous': {'POS': 23, 'NEG': 12},\n",
       " 'mysterious': {'POS': 67, 'NEG': 44},\n",
       " 'psychopath': {'POS': 7, 'NEG': 7},\n",
       " 'has': {'POS': 2354, 'NEG': 1986},\n",
       " 'carving': {'POS': 2, 'NEG': 2},\n",
       " 'through': {'POS': 571, 'NEG': 503},\n",
       " 'their': {'POS': 1501, 'NEG': 1282},\n",
       " 'profession': {'POS': 19, 'NEG': 11},\n",
       " 'surgical': {'POS': 1, 'NEG': 1},\n",
       " 'precision': {'POS': 7, 'NEG': 4},\n",
       " 'when': {'POS': 1509, 'NEG': 1441},\n",
       " 'first': {'POS': 859, 'NEG': 710},\n",
       " 'stiff': {'POS': 9, 'NEG': 12},\n",
       " 'turns': {'POS': 186, 'NEG': 165},\n",
       " 'up': {'POS': 1376, 'NEG': 1406},\n",
       " 'copper': {'POS': 4, 'NEG': 1},\n",
       " 'peter': {'POS': 131, 'NEG': 121},\n",
       " 'godley': {'POS': 1, 'NEG': 0},\n",
       " 'robbie': {'POS': 25, 'NEG': 10},\n",
       " 'coltrane': {'POS': 4, 'NEG': 1},\n",
       " 'not': {'POS': 2627, 'NEG': 2400},\n",
       " 'enough': {'POS': 375, 'NEG': 430},\n",
       " 'calls': {'POS': 38, 'NEG': 50},\n",
       " 'inspector': {'POS': 19, 'NEG': 16},\n",
       " 'frederick': {'POS': 5, 'NEG': 1},\n",
       " 'abberline': {'POS': 2, 'NEG': 0},\n",
       " 'johnny': {'POS': 36, 'NEG': 46},\n",
       " 'depp': {'POS': 25, 'NEG': 23},\n",
       " 'blow': {'POS': 16, 'NEG': 31},\n",
       " 'crack': {'POS': 14, 'NEG': 21},\n",
       " 'case': {'POS': 196, 'NEG': 189},\n",
       " 'widower': {'POS': 2, 'NEG': 4},\n",
       " 'prophetic': {'POS': 3, 'NEG': 2},\n",
       " 'dreams': {'POS': 72, 'NEG': 45},\n",
       " 'he': {'POS': 4408, 'NEG': 3479},\n",
       " 'unsuccessfully': {'POS': 4, 'NEG': 5},\n",
       " 'tries': {'POS': 132, 'NEG': 195},\n",
       " 'quell': {'POS': 1, 'NEG': 1},\n",
       " 'copious': {'POS': 2, 'NEG': 4},\n",
       " 'amounts': {'POS': 7, 'NEG': 22},\n",
       " 'absinthe': {'POS': 1, 'NEG': 1},\n",
       " 'opium': {'POS': 2, 'NEG': 0},\n",
       " 'upon': {'POS': 153, 'NEG': 123},\n",
       " 'arriving': {'POS': 12, 'NEG': 3},\n",
       " 'befriends': {'POS': 17, 'NEG': 9},\n",
       " 'an': {'POS': 2679, 'NEG': 2399},\n",
       " 'unfortunate': {'POS': 30, 'NEG': 23},\n",
       " 'named': {'POS': 181, 'NEG': 139},\n",
       " 'mary': {'POS': 76, 'NEG': 55},\n",
       " 'kelly': {'POS': 49, 'NEG': 54},\n",
       " 'heather': {'POS': 14, 'NEG': 14},\n",
       " 'graham': {'POS': 36, 'NEG': 11},\n",
       " 'so': {'POS': 1503, 'NEG': 1724},\n",
       " 'proceeds': {'POS': 11, 'NEG': 15},\n",
       " 'investigate': {'POS': 19, 'NEG': 29},\n",
       " 'horribly': {'POS': 12, 'NEG': 29},\n",
       " 'gruesome': {'POS': 12, 'NEG': 11},\n",
       " 'crimes': {'POS': 17, 'NEG': 12},\n",
       " 'even': {'POS': 1042, 'NEG': 1218},\n",
       " 'police': {'POS': 114, 'NEG': 104},\n",
       " 'surgeon': {'POS': 5, 'NEG': 4},\n",
       " 'ca': {'POS': 247, 'NEG': 330},\n",
       " 'stomach': {'POS': 8, 'NEG': 14},\n",
       " 'i': {'POS': 3539, 'NEG': 4210},\n",
       " 'think': {'POS': 359, 'NEG': 417},\n",
       " 'anyone': {'POS': 171, 'NEG': 212},\n",
       " 'needs': {'POS': 93, 'NEG': 105},\n",
       " 'briefed': {'POS': 1, 'NEG': 0},\n",
       " 'on': {'POS': 3230, 'NEG': 3191},\n",
       " 'wo': {'POS': 122, 'NEG': 110},\n",
       " 'go': {'POS': 489, 'NEG': 470},\n",
       " 'into': {'POS': 1231, 'NEG': 1119},\n",
       " 'particulars': {'POS': 4, 'NEG': 1},\n",
       " 'here': {'POS': 476, 'NEG': 585},\n",
       " 'unique': {'POS': 72, 'NEG': 28},\n",
       " 'interesting': {'POS': 267, 'NEG': 292},\n",
       " 'theory': {'POS': 19, 'NEG': 22},\n",
       " 'both': {'POS': 513, 'NEG': 289},\n",
       " 'identity': {'POS': 41, 'NEG': 34},\n",
       " 'killer': {'POS': 125, 'NEG': 131},\n",
       " 'reasons': {'POS': 61, 'NEG': 50},\n",
       " 'chooses': {'POS': 18, 'NEG': 16},\n",
       " 'slay': {'POS': 2, 'NEG': 0},\n",
       " 'bother': {'POS': 8, 'NEG': 31},\n",
       " 'cloaking': {'POS': 1, 'NEG': 0},\n",
       " 'screenwriters': {'POS': 25, 'NEG': 35},\n",
       " 'terry': {'POS': 23, 'NEG': 32},\n",
       " 'hayes': {'POS': 1, 'NEG': 6},\n",
       " 'vertical': {'POS': 6, 'NEG': 0},\n",
       " 'limit': {'POS': 6, 'NEG': 4},\n",
       " 'rafael': {'POS': 3, 'NEG': 1},\n",
       " 'yglesias': {'POS': 1, 'NEG': 0},\n",
       " 'les': {'POS': 15, 'NEG': 4},\n",
       " 'misrables': {'POS': 2, 'NEG': 0},\n",
       " 'good': {'POS': 1062, 'NEG': 996},\n",
       " 'job': {'POS': 307, 'NEG': 188},\n",
       " 'keeping': {'POS': 49, 'NEG': 33},\n",
       " 'him': {'POS': 1325, 'NEG': 1045},\n",
       " 'hidden': {'POS': 43, 'NEG': 24},\n",
       " 'viewers': {'POS': 89, 'NEG': 67},\n",
       " 'until': {'POS': 221, 'NEG': 172},\n",
       " 'very': {'POS': 1019, 'NEG': 652},\n",
       " 'funny': {'POS': 342, 'NEG': 395},\n",
       " 'watch': {'POS': 274, 'NEG': 250},\n",
       " 'locals': {'POS': 7, 'NEG': 9},\n",
       " 'blindly': {'POS': 3, 'NEG': 2},\n",
       " 'point': {'POS': 259, 'NEG': 331},\n",
       " 'finger': {'POS': 4, 'NEG': 14},\n",
       " 'blame': {'POS': 23, 'NEG': 55},\n",
       " 'at': {'POS': 2235, 'NEG': 2235},\n",
       " 'jews': {'POS': 18, 'NEG': 5},\n",
       " 'indians': {'POS': 7, 'NEG': 5},\n",
       " 'after': {'POS': 840, 'NEG': 762},\n",
       " 'all': {'POS': 1900, 'NEG': 1926},\n",
       " 'englishman': {'POS': 3, 'NEG': 1},\n",
       " 'could': {'POS': 626, 'NEG': 815},\n",
       " 'capable': {'POS': 27, 'NEG': 27},\n",
       " 'committing': {'POS': 6, 'NEG': 4},\n",
       " 'such': {'POS': 586, 'NEG': 520},\n",
       " 'ghastly': {'POS': 4, 'NEG': 3},\n",
       " 'acts': {'POS': 32, 'NEG': 35},\n",
       " 'ending': {'POS': 217, 'NEG': 150},\n",
       " 'whistling': {'POS': 1, 'NEG': 0},\n",
       " 'stonecutters': {'POS': 1, 'NEG': 0},\n",
       " 'song': {'POS': 82, 'NEG': 44},\n",
       " 'simpsons': {'POS': 10, 'NEG': 1},\n",
       " 'days': {'POS': 144, 'NEG': 145},\n",
       " 'holds': {'POS': 55, 'NEG': 25},\n",
       " 'back': {'POS': 497, 'NEG': 422},\n",
       " 'electric': {'POS': 9, 'NEG': 6},\n",
       " 'car/who': {'POS': 1, 'NEG': 0},\n",
       " 'made': {'POS': 422, 'NEG': 484},\n",
       " 'steve': {'POS': 51, 'NEG': 78},\n",
       " 'guttenberg': {'POS': 1, 'NEG': 3},\n",
       " 'star': {'POS': 338, 'NEG': 240},\n",
       " 'worry-it': {'POS': 1, 'NEG': 0},\n",
       " \"'ll\": {'POS': 232, 'NEG': 274},\n",
       " 'make': {'POS': 686, 'NEG': 728},\n",
       " 'sense': {'POS': 298, 'NEG': 214},\n",
       " 'see': {'POS': 847, 'NEG': 687},\n",
       " 'now': {'POS': 444, 'NEG': 437},\n",
       " 'onto': {'POS': 48, 'NEG': 55},\n",
       " 'appearance': {'POS': 52, 'NEG': 61},\n",
       " 'certainly': {'POS': 185, 'NEG': 156},\n",
       " 'dark': {'POS': 196, 'NEG': 87},\n",
       " 'bleak': {'POS': 29, 'NEG': 17},\n",
       " 'surprising': {'POS': 62, 'NEG': 30},\n",
       " 'how': {'POS': 657, 'NEG': 706},\n",
       " 'much': {'POS': 915, 'NEG': 904},\n",
       " 'looks': {'POS': 150, 'NEG': 245},\n",
       " 'tim': {'POS': 73, 'NEG': 73},\n",
       " 'burton': {'POS': 62, 'NEG': 33},\n",
       " 'planet': {'POS': 95, 'NEG': 123},\n",
       " 'apes': {'POS': 32, 'NEG': 46},\n",
       " 'did': {'POS': 526, 'NEG': 690},\n",
       " 'times': {'POS': 294, 'NEG': 217},\n",
       " 'sleepy': {'POS': 22, 'NEG': 14},\n",
       " 'hollow': {'POS': 25, 'NEG': 41},\n",
       " '2': {'POS': 153, 'NEG': 118},\n",
       " 'print': {'POS': 10, 'NEG': 15},\n",
       " 'saw': {'POS': 97, 'NEG': 129},\n",
       " 'completely': {'POS': 188, 'NEG': 201},\n",
       " 'finished': {'POS': 12, 'NEG': 21},\n",
       " 'color': {'POS': 61, 'NEG': 19},\n",
       " 'music': {'POS': 248, 'NEG': 177},\n",
       " 'finalized': {'POS': 2, 'NEG': 0},\n",
       " 'no': {'POS': 916, 'NEG': 1234},\n",
       " 'comments': {'POS': 21, 'NEG': 27},\n",
       " 'marilyn': {'POS': 5, 'NEG': 6},\n",
       " 'manson': {'POS': 2, 'NEG': 7},\n",
       " 'cinematographer': {'POS': 48, 'NEG': 31},\n",
       " 'deming': {'POS': 2, 'NEG': 1},\n",
       " 'word': {'POS': 97, 'NEG': 106},\n",
       " 'ably': {'POS': 8, 'NEG': 1},\n",
       " 'captures': {'POS': 28, 'NEG': 4},\n",
       " 'dreariness': {'POS': 1, 'NEG': 1},\n",
       " 'victorian-era': {'POS': 1, 'NEG': 0},\n",
       " 'helped': {'POS': 27, 'NEG': 23},\n",
       " 'flashy': {'POS': 19, 'NEG': 18},\n",
       " 'killing': {'POS': 55, 'NEG': 65},\n",
       " 'scenes': {'POS': 573, 'NEG': 552},\n",
       " 'remind': {'POS': 9, 'NEG': 16},\n",
       " 'crazy': {'POS': 38, 'NEG': 38},\n",
       " 'flashbacks': {'POS': 37, 'NEG': 25},\n",
       " 'twin': {'POS': 11, 'NEG': 26},\n",
       " 'peaks': {'POS': 4, 'NEG': 11},\n",
       " 'though': {'POS': 456, 'NEG': 378},\n",
       " 'violence': {'POS': 160, 'NEG': 116},\n",
       " 'pales': {'POS': 3, 'NEG': 2},\n",
       " 'comparison': {'POS': 35, 'NEG': 28},\n",
       " 'black-and-white': {'POS': 10, 'NEG': 2},\n",
       " 'oscar': {'POS': 142, 'NEG': 56},\n",
       " 'winner': {'POS': 42, 'NEG': 29},\n",
       " 'martin': {'POS': 80, 'NEG': 62},\n",
       " 'childs': {'POS': 1, 'NEG': 0},\n",
       " 'shakespeare': {'POS': 64, 'NEG': 26},\n",
       " 'love': {'POS': 580, 'NEG': 394},\n",
       " 'production': {'POS': 137, 'NEG': 119},\n",
       " 'design': {'POS': 51, 'NEG': 30},\n",
       " 'original': {'POS': 291, 'NEG': 320},\n",
       " 'prague': {'POS': 1, 'NEG': 0},\n",
       " 'surroundings': {'POS': 10, 'NEG': 3},\n",
       " 'one': {'POS': 2637, 'NEG': 2333},\n",
       " 'creepy': {'POS': 46, 'NEG': 43},\n",
       " 'acting': {'POS': 280, 'NEG': 323},\n",
       " 'solid': {'POS': 104, 'NEG': 45},\n",
       " 'dreamy': {'POS': 6, 'NEG': 2},\n",
       " 'turning': {'POS': 38, 'NEG': 35},\n",
       " 'typically': {'POS': 15, 'NEG': 8},\n",
       " 'strong': {'POS': 162, 'NEG': 74},\n",
       " 'performance': {'POS': 495, 'NEG': 299},\n",
       " 'deftly': {'POS': 7, 'NEG': 0},\n",
       " 'handling': {'POS': 8, 'NEG': 15},\n",
       " 'british': {'POS': 81, 'NEG': 45},\n",
       " 'accent': {'POS': 31, 'NEG': 52},\n",
       " 'ians': {'POS': 1, 'NEG': 0},\n",
       " 'holm': {'POS': 13, 'NEG': 5},\n",
       " 'joe': {'POS': 170, 'NEG': 139},\n",
       " 'gould': {'POS': 3, 'NEG': 1},\n",
       " 'secret': {'POS': 91, 'NEG': 70},\n",
       " 'richardson': {'POS': 16, 'NEG': 10},\n",
       " '102': {'POS': 3, 'NEG': 8},\n",
       " 'dalmatians': {'POS': 1, 'NEG': 19},\n",
       " 'log': {'POS': 2, 'NEG': 1},\n",
       " 'great': {'POS': 671, 'NEG': 339},\n",
       " 'supporting': {'POS': 149, 'NEG': 97},\n",
       " 'roles': {'POS': 137, 'NEG': 117},\n",
       " 'big': {'POS': 394, 'NEG': 451},\n",
       " 'surprise': {'POS': 97, 'NEG': 83},\n",
       " 'cringed': {'POS': 1, 'NEG': 1},\n",
       " 'time': {'POS': 1037, 'NEG': 982},\n",
       " 'she': {'POS': 1456, 'NEG': 1304},\n",
       " 'opened': {'POS': 24, 'NEG': 13},\n",
       " 'her': {'POS': 2175, 'NEG': 1788},\n",
       " 'mouth': {'POS': 44, 'NEG': 38},\n",
       " 'imagining': {'POS': 2, 'NEG': 3},\n",
       " 'attempt': {'POS': 78, 'NEG': 152},\n",
       " 'irish': {'POS': 28, 'NEG': 12},\n",
       " 'actually': {'POS': 356, 'NEG': 400},\n",
       " 'half': {'POS': 163, 'NEG': 181},\n",
       " 'bad': {'POS': 322, 'NEG': 925},\n",
       " 'however': {'POS': 498, 'NEG': 377},\n",
       " 'every': {'POS': 415, 'NEG': 441},\n",
       " 'then': {'POS': 545, 'NEG': 693},\n",
       " 'movie': {'POS': 2224, 'NEG': 2833},\n",
       " 'comes': {'POS': 342, 'NEG': 311},\n",
       " 'along': {'POS': 250, 'NEG': 227},\n",
       " 'suspect': {'POS': 37, 'NEG': 34},\n",
       " 'studio': {'POS': 58, 'NEG': 85},\n",
       " 'indication': {'POS': 6, 'NEG': 4},\n",
       " 'stinker': {'POS': 1, 'NEG': 6},\n",
       " 'everybody': {'POS': 27, 'NEG': 32},\n",
       " 'perhaps': {'POS': 239, 'NEG': 181},\n",
       " 'becomes': {'POS': 249, 'NEG': 232},\n",
       " 'critical': {'POS': 30, 'NEG': 20},\n",
       " 'darling': {'POS': 3, 'NEG': 0},\n",
       " 'mtv': {'POS': 15, 'NEG': 28},\n",
       " '_': {'POS': 318, 'NEG': 343},\n",
       " 'election': {'POS': 25, 'NEG': 2},\n",
       " 'high': {'POS': 241, 'NEG': 196},\n",
       " 'school': {'POS': 183, 'NEG': 158},\n",
       " 'comedy': {'POS': 356, 'NEG': 379},\n",
       " 'starring': {'POS': 109, 'NEG': 132},\n",
       " 'matthew': {'POS': 48, 'NEG': 63},\n",
       " 'broderick': {'POS': 18, 'NEG': 34},\n",
       " 'reese': {'POS': 29, 'NEG': 14},\n",
       " 'witherspoon': {'POS': 14, 'NEG': 9},\n",
       " 'current': {'POS': 37, 'NEG': 34},\n",
       " 'example': {'POS': 127, 'NEG': 143},\n",
       " 'anybody': {'POS': 17, 'NEG': 21},\n",
       " 'know': {'POS': 497, 'NEG': 581},\n",
       " 'existed': {'POS': 6, 'NEG': 1},\n",
       " 'week': {'POS': 34, 'NEG': 41},\n",
       " 'plot': {'POS': 491, 'NEG': 758},\n",
       " 'deceptively': {'POS': 4, 'NEG': 1},\n",
       " 'simple': {'POS': 159, 'NEG': 85},\n",
       " 'george': {'POS': 130, 'NEG': 75},\n",
       " 'washington': {'POS': 51, 'NEG': 23},\n",
       " 'carver': {'POS': 19, 'NEG': 0},\n",
       " 'having': {'POS': 241, 'NEG': 258},\n",
       " 'student': {'POS': 52, 'NEG': 45},\n",
       " 'elections': {'POS': 3, 'NEG': 1},\n",
       " 'tracy': {'POS': 19, 'NEG': 1},\n",
       " 'flick': {'POS': 79, 'NEG': 86},\n",
       " 'over-achiever': {'POS': 1, 'NEG': 1},\n",
       " 'hand': {'POS': 151, 'NEG': 155},\n",
       " 'raised': {'POS': 31, 'NEG': 12},\n",
       " 'way': {'POS': 821, 'NEG': 689},\n",
       " 'mr.': {'POS': 146, 'NEG': 142},\n",
       " 'm': {'POS': 10, 'NEG': 10},\n",
       " 'sick': {'POS': 30, 'NEG': 34},\n",
       " 'megalomaniac': {'POS': 4, 'NEG': 2},\n",
       " 'encourages': {'POS': 6, 'NEG': 1},\n",
       " 'paul': {'POS': 92, 'NEG': 126},\n",
       " 'popular-but-slow': {'POS': 1, 'NEG': 0},\n",
       " 'jock': {'POS': 12, 'NEG': 8},\n",
       " 'run': {'POS': 165, 'NEG': 120},\n",
       " 'nihilistic': {'POS': 5, 'NEG': 1},\n",
       " 'sister': {'POS': 78, 'NEG': 44},\n",
       " 'jumps': {'POS': 16, 'NEG': 20},\n",
       " 'race': {'POS': 68, 'NEG': 45},\n",
       " 'personal': {'POS': 116, 'NEG': 53},\n",
       " 'side': {'POS': 173, 'NEG': 113},\n",
       " 'sleeper': {'POS': 10, 'NEG': 4},\n",
       " 'expectations': {'POS': 50, 'NEG': 27},\n",
       " 'were': {'POS': 568, 'NEG': 580},\n",
       " 'low': {'POS': 36, 'NEG': 60},\n",
       " 'going': {'POS': 364, 'NEG': 413},\n",
       " 'fact': {'POS': 368, 'NEG': 356},\n",
       " 'quality': {'POS': 78, 'NEG': 92},\n",
       " 'stuff': {'POS': 83, 'NEG': 98},\n",
       " 'reviews': {'POS': 69, 'NEG': 64},\n",
       " 'enthusiastic': {'POS': 8, 'NEG': 8},\n",
       " 'any': {'POS': 619, 'NEG': 792},\n",
       " 'right': {'POS': 400, 'NEG': 308},\n",
       " 'help': {'POS': 265, 'NEG': 207},\n",
       " 'baggage': {'POS': 3, 'NEG': 8},\n",
       " 'glowing': {'POS': 10, 'NEG': 5},\n",
       " 'which': {'POS': 1577, 'NEG': 1267},\n",
       " 'contrast': {'POS': 48, 'NEG': 13},\n",
       " 'negative': {'POS': 23, 'NEG': 19},\n",
       " 'reviewers': {'POS': 12, 'NEG': 8},\n",
       " 'likely': {'POS': 72, 'NEG': 74},\n",
       " 'does': {'POS': 1303, 'NEG': 1221},\n",
       " 'live': {'POS': 158, 'NEG': 123},\n",
       " 'hype': {'POS': 21, 'NEG': 23},\n",
       " 'what': {'POS': 1479, 'NEG': 1463},\n",
       " 'makes': {'POS': 493, 'NEG': 387},\n",
       " 'disappointing': {'POS': 28, 'NEG': 53},\n",
       " 'contains': {'POS': 50, 'NEG': 52},\n",
       " 'significant': {'POS': 31, 'NEG': 21},\n",
       " 'details': {'POS': 72, 'NEG': 33},\n",
       " 'lifted': {'POS': 11, 'NEG': 15},\n",
       " 'directly': {'POS': 28, 'NEG': 41},\n",
       " 'rushmore': {'POS': 20, 'NEG': 2},\n",
       " 'released': {'POS': 113, 'NEG': 72},\n",
       " 'few': {'POS': 440, 'NEG': 422},\n",
       " 'months': {'POS': 47, 'NEG': 47},\n",
       " 'earlier': {'POS': 78, 'NEG': 53},\n",
       " 'similarities': {'POS': 17, 'NEG': 4},\n",
       " 'staggering': {'POS': 9, 'NEG': 3},\n",
       " 'president': {'POS': 77, 'NEG': 29},\n",
       " 'extraordinary': {'POS': 34, 'NEG': 9},\n",
       " 'number': {'POS': 108, 'NEG': 95},\n",
       " 'clubs': {'POS': 11, 'NEG': 5},\n",
       " 'involved': {'POS': 116, 'NEG': 103},\n",
       " 'play': {'POS': 222, 'NEG': 192},\n",
       " 'max': {'POS': 64, 'NEG': 77},\n",
       " 'fischer': {'POS': 5, 'NEG': 3},\n",
       " 'most': {'POS': 1247, 'NEG': 810},\n",
       " 'tension': {'POS': 68, 'NEG': 55},\n",
       " 'potential': {'POS': 61, 'NEG': 97},\n",
       " 'relationship': {'POS': 206, 'NEG': 123},\n",
       " 'between': {'POS': 487, 'NEG': 368},\n",
       " 'teacher': {'POS': 66, 'NEG': 30},\n",
       " 'his': {'POS': 5002, 'NEG': 3581},\n",
       " 'single': {'POS': 105, 'NEG': 100},\n",
       " 'parent': {'POS': 19, 'NEG': 9},\n",
       " 'home': {'POS': 274, 'NEG': 210},\n",
       " 'contributed': {'POS': 6, 'NEG': 5},\n",
       " 'drive': {'POS': 30, 'NEG': 52},\n",
       " 'male': {'POS': 53, 'NEG': 40},\n",
       " 'bumbling': {'POS': 15, 'NEG': 12},\n",
       " 'adult': {'POS': 62, 'NEG': 33},\n",
       " 'pursues': {'POS': 4, 'NEG': 5},\n",
       " 'extramarital': {'POS': 2, 'NEG': 1},\n",
       " 'affair': {'POS': 44, 'NEG': 36},\n",
       " 'gets': {'POS': 377, 'NEG': 399},\n",
       " 'caught': {'POS': 68, 'NEG': 38},\n",
       " 'life': {'POS': 894, 'NEG': 440},\n",
       " 'ruined': {'POS': 13, 'NEG': 16},\n",
       " 'bee': {'POS': 6, 'NEG': 3},\n",
       " 'sting': {'POS': 3, 'NEG': 6},\n",
       " 'bill': {'POS': 101, 'NEG': 60},\n",
       " 'murray': {'POS': 26, 'NEG': 23},\n",
       " 'several': {'POS': 228, 'NEG': 147},\n",
       " 'stings': {'POS': 2, 'NEG': 0},\n",
       " 'happened': {'POS': 77, 'NEG': 71},\n",
       " 'individual': {'POS': 42, 'NEG': 27},\n",
       " 'screenplay': {'POS': 129, 'NEG': 143},\n",
       " 'contain': {'POS': 23, 'NEG': 15},\n",
       " 'many': {'POS': 702, 'NEG': 427},\n",
       " 'points': {'POS': 71, 'NEG': 73},\n",
       " 'yet': {'POS': 324, 'NEG': 205},\n",
       " 'probably': {'POS': 240, 'NEG': 229},\n",
       " 'aware': {'POS': 33, 'NEG': 23},\n",
       " 'each': {'POS': 373, 'NEG': 252},\n",
       " 'two': {'POS': 854, 'NEG': 780},\n",
       " 'different': {'POS': 258, 'NEG': 135},\n",
       " 'studios': {'POS': 23, 'NEG': 23},\n",
       " 'genre': {'POS': 137, 'NEG': 94},\n",
       " 'geeks': {'POS': 1, 'NEG': 4},\n",
       " 'revenge': {'POS': 38, 'NEG': 43},\n",
       " 'fully': {'POS': 54, 'NEG': 25},\n",
       " 'formed': {'POS': 6, 'NEG': 7},\n",
       " 'strengths': {'POS': 13, 'NEG': 2},\n",
       " 'rely': {'POS': 18, 'NEG': 14},\n",
       " 'fantastic': {'POS': 56, 'NEG': 11},\n",
       " 'performances': {'POS': 249, 'NEG': 132},\n",
       " 'newcomer': {'POS': 17, 'NEG': 12},\n",
       " 'jessica': {'POS': 25, 'NEG': 11},\n",
       " 'anti-social': {'POS': 3, 'NEG': 0},\n",
       " 'tammy': {'POS': 4, 'NEG': 1},\n",
       " 'playing': {'POS': 172, 'NEG': 147},\n",
       " 'rooney': {'POS': 1, 'NEG': 2},\n",
       " 'role': {'POS': 436, 'NEG': 342},\n",
       " 'ferris': {'POS': 9, 'NEG': 3},\n",
       " 'bueller': {'POS': 2, 'NEG': 2},\n",
       " 'fun': {'POS': 281, 'NEG': 227},\n",
       " 'since': {'POS': 348, 'NEG': 352},\n",
       " 'revelation': {'POS': 23, 'NEG': 13},\n",
       " 'early': {'POS': 126, 'NEG': 135},\n",
       " 'year': {'POS': 335, 'NEG': 284},\n",
       " 'teenagers': {'POS': 32, 'NEG': 39},\n",
       " 'clout': {'POS': 3, 'NEG': 5},\n",
       " 'my': {'POS': 570, 'NEG': 670},\n",
       " 'money': {'POS': 221, 'NEG': 235},\n",
       " 'deserves': {'POS': 71, 'NEG': 27},\n",
       " 'nomination': {'POS': 46, 'NEG': 8},\n",
       " 'once': {'POS': 277, 'NEG': 252},\n",
       " 'character': {'POS': 954, 'NEG': 825},\n",
       " 'speech': {'POS': 54, 'NEG': 26},\n",
       " 'gymnasium': {'POS': 1, 'NEG': 1},\n",
       " 'won': {'POS': 45, 'NEG': 20},\n",
       " 'bothering': {'POS': 2, 'NEG': 4},\n",
       " \"'ve\": {'POS': 372, 'NEG': 370},\n",
       " 'seen': {'POS': 467, 'NEG': 316},\n",
       " 'amount': {'POS': 68, 'NEG': 53},\n",
       " 'sexuality': {'POS': 17, 'NEG': 11},\n",
       " 'suppose': {'POS': 26, 'NEG': 59},\n",
       " 'coming': {'POS': 104, 'NEG': 108},\n",
       " 'should': {'POS': 348, 'NEG': 507},\n",
       " 'expect': {'POS': 103, 'NEG': 88},\n",
       " 'less': {'POS': 218, 'NEG': 185},\n",
       " '...': {'POS': 439, 'NEG': 606},\n",
       " 'starts': {'POS': 144, 'NEG': 139},\n",
       " 'off': {'POS': 567, 'NEG': 696},\n",
       " 'light': {'POS': 106, 'NEG': 62},\n",
       " 'airy': {'POS': 3, 'NEG': 3},\n",
       " 'sitcom': {'POS': 17, 'NEG': 28},\n",
       " 'screws': {'POS': 6, 'NEG': 5},\n",
       " 'tighten': {'POS': 2, 'NEG': 0},\n",
       " 'tensions': {'POS': 4, 'NEG': 3},\n",
       " 'mount': {'POS': 3, 'NEG': 2},\n",
       " 'alexander': {'POS': 20, 'NEG': 6},\n",
       " 'payne': {'POS': 4, 'NEG': 3},\n",
       " 'decides': {'POS': 86, 'NEG': 80},\n",
       " 'add': {'POS': 64, 'NEG': 93},\n",
       " 'elements': {'POS': 117, 'NEG': 91},\n",
       " 'frankly': {'POS': 13, 'NEG': 37},\n",
       " 'distract': {'POS': 10, 'NEG': 7},\n",
       " 'story': {'POS': 1100, 'NEG': 812},\n",
       " 'determination': {'POS': 11, 'NEG': 3},\n",
       " 'win': {'POS': 54, 'NEG': 42},\n",
       " 'costs': {'POS': 11, 'NEG': 10},\n",
       " 'throw': {'POS': 34, 'NEG': 52},\n",
       " 'student/teacher': {'POS': 1, 'NEG': 0},\n",
       " 'logical': {'POS': 12, 'NEG': 12},\n",
       " 'reason': {'POS': 140, 'NEG': 244},\n",
       " 'why': {'POS': 283, 'NEG': 507},\n",
       " 'lot': {'POS': 317, 'NEG': 298},\n",
       " 'tonal': {'POS': 1, 'NEG': 0},\n",
       " 'nosedive': {'POS': 2, 'NEG': 0},\n",
       " 'takes': {'POS': 356, 'NEG': 242},\n",
       " 'explicitly': {'POS': 7, 'NEG': 4},\n",
       " 'sex-driven': {'POS': 1, 'NEG': 1},\n",
       " 'mark': {'POS': 84, 'NEG': 73},\n",
       " 'disappointment': {'POS': 19, 'NEG': 39},\n",
       " 'got': {'POS': 184, 'NEG': 256},\n",
       " 'mail': {'POS': 18, 'NEG': 9},\n",
       " 'works': {'POS': 207, 'NEG': 120},\n",
       " 'alot': {'POS': 5, 'NEG': 2},\n",
       " 'order': {'POS': 146, 'NEG': 111},\n",
       " 'cast': {'POS': 367, 'NEG': 332},\n",
       " 'extremely': {'POS': 149, 'NEG': 79},\n",
       " 'popular': {'POS': 95, 'NEG': 77},\n",
       " 'attractive': {'POS': 34, 'NEG': 39},\n",
       " 'stars': {'POS': 161, 'NEG': 165},\n",
       " 'them': {'POS': 852, 'NEG': 819},\n",
       " 'share': {'POS': 72, 'NEG': 29},\n",
       " 'screen': {'POS': 297, 'NEG': 257},\n",
       " 'hours': {'POS': 98, 'NEG': 97},\n",
       " 'collect': {'POS': 10, 'NEG': 6},\n",
       " 'profits': {'POS': 2, 'NEG': 3},\n",
       " 'real': {'POS': 402, 'NEG': 378},\n",
       " 'inventive': {'POS': 30, 'NEG': 17},\n",
       " 'bone': {'POS': 16, 'NEG': 32},\n",
       " 'body': {'POS': 124, 'NEG': 122},\n",
       " 'basically': {'POS': 80, 'NEG': 112},\n",
       " 'complete': {'POS': 77, 'NEG': 99},\n",
       " 're-shoot': {'POS': 3, 'NEG': 1},\n",
       " 'shop': {'POS': 34, 'NEG': 16},\n",
       " 'around': {'POS': 378, 'NEG': 411},\n",
       " 'corner': {'POS': 23, 'NEG': 26},\n",
       " 'only': {'POS': 1005, 'NEG': 1191},\n",
       " 'adding': {'POS': 19, 'NEG': 14},\n",
       " 'modern': {'POS': 77, 'NEG': 47},\n",
       " 'twists': {'POS': 57, 'NEG': 47},\n",
       " 'essentially': {'POS': 31, 'NEG': 29},\n",
       " 'goes': {'POS': 276, 'NEG': 307},\n",
       " 'against': {'POS': 204, 'NEG': 134},\n",
       " 'defies': {'POS': 7, 'NEG': 5},\n",
       " 'concepts': {'POS': 12, 'NEG': 10},\n",
       " 'contemporary': {'POS': 33, 'NEG': 12},\n",
       " 'filmmaking': {'POS': 54, 'NEG': 34},\n",
       " 'overly': {'POS': 26, 'NEG': 35},\n",
       " 'sentimental': {'POS': 21, 'NEG': 11},\n",
       " 'terribly': {'POS': 12, 'NEG': 35},\n",
       " 'mushy': {'POS': 1, 'NEG': 2},\n",
       " 'mention': {'POS': 43, 'NEG': 56},\n",
       " 'manipulative': {'POS': 16, 'NEG': 18},\n",
       " 'oh': {'POS': 70, 'NEG': 112},\n",
       " 'enjoyable': {'POS': 91, 'NEG': 52},\n",
       " 'manipulation': {'POS': 15, 'NEG': 2},\n",
       " 'must': {'POS': 297, 'NEG': 269},\n",
       " 'something': {'POS': 469, 'NEG': 474},\n",
       " 'work': {'POS': 469, 'NEG': 432},\n",
       " 'absolutely': {'POS': 83, 'NEG': 83},\n",
       " 'hated': {'POS': 16, 'NEG': 17},\n",
       " 'previous': {'POS': 96, 'NEG': 68},\n",
       " 'ryan/hanks': {'POS': 1, 'NEG': 0},\n",
       " 'teaming': {'POS': 7, 'NEG': 1},\n",
       " 'sleepless': {'POS': 6, 'NEG': 5},\n",
       " 'seattle': {'POS': 9, 'NEG': 13},\n",
       " 'directing': {'POS': 65, 'NEG': 37},\n",
       " 'helmed': {'POS': 5, 'NEG': 9},\n",
       " 'same': {'POS': 420, 'NEG': 346},\n",
       " 'woman': {'POS': 251, 'NEG': 238},\n",
       " 'quite': {'POS': 367, 'NEG': 213},\n",
       " 'figured': {'POS': 12, 'NEG': 16},\n",
       " 'out': {'POS': 1538, 'NEG': 1570},\n",
       " 'liked': {'POS': 72, 'NEG': 62},\n",
       " 'again': {'POS': 320, 'NEG': 292},\n",
       " 'important': {'POS': 108, 'NEG': 67},\n",
       " 'storyline': {'POS': 55, 'NEG': 42},\n",
       " 'cliched': {'POS': 23, 'NEG': 36},\n",
       " 'come': {'POS': 376, 'NEG': 327},\n",
       " 'tom': {'POS': 145, 'NEG': 103},\n",
       " 'hanks': {'POS': 64, 'NEG': 15},\n",
       " 'plays': {'POS': 349, 'NEG': 329},\n",
       " 'fox': {'POS': 58, 'NEG': 37},\n",
       " 'insanely': {'POS': 5, 'NEG': 6},\n",
       " 'likeable': {'POS': 31, 'NEG': 10},\n",
       " 'owner': {'POS': 38, 'NEG': 45},\n",
       " 'discount': {'POS': 4, 'NEG': 4},\n",
       " 'chain': {'POS': 23, 'NEG': 16},\n",
       " 'meg': {'POS': 21, 'NEG': 33},\n",
       " 'ryan': {'POS': 115, 'NEG': 81},\n",
       " 'kathleen': {'POS': 12, 'NEG': 17},\n",
       " 'kelley': {'POS': 3, 'NEG': 15},\n",
       " 'proprietor': {'POS': 3, 'NEG': 3},\n",
       " 'family-run': {'POS': 1, 'NEG': 0},\n",
       " 'children': {'POS': 178, 'NEG': 128},\n",
       " 'nice': {'POS': 156, 'NEG': 132},\n",
       " 'homage': {'POS': 28, 'NEG': 17},\n",
       " 'soon': {'POS': 180, 'NEG': 160},\n",
       " 'become': {'POS': 284, 'NEG': 182},\n",
       " 'bitter': {'POS': 33, 'NEG': 20},\n",
       " 'rivals': {'POS': 5, 'NEG': 6},\n",
       " 'store': {'POS': 61, 'NEG': 45},\n",
       " 'opening': {'POS': 133, 'NEG': 132},\n",
       " 'across': {'POS': 98, 'NEG': 98},\n",
       " 'small': {'POS': 221, 'NEG': 141},\n",
       " 'business': {'POS': 85, 'NEG': 81},\n",
       " 'already': {'POS': 117, 'NEG': 142},\n",
       " 'internet': {'POS': 20, 'NEG': 14},\n",
       " 'neither': {'POS': 48, 'NEG': 88},\n",
       " 'party': {'POS': 82, 'NEG': 73},\n",
       " 'knows': {'POS': 144, 'NEG': 109},\n",
       " 'person': {'POS': 178, 'NEG': 126},\n",
       " 'true': {'POS': 245, 'NEG': 110},\n",
       " 'rest': {'POS': 181, 'NEG': 200},\n",
       " 'serve': {'POS': 40, 'NEG': 35},\n",
       " 'mere': {'POS': 23, 'NEG': 16},\n",
       " 'backdrop': {'POS': 22, 'NEG': 8},\n",
       " 'sure': {'POS': 225, 'NEG': 216},\n",
       " 'some': {'POS': 1285, 'NEG': 1375},\n",
       " 'mildly': {'POS': 11, 'NEG': 24},\n",
       " 'subplots': {'POS': 18, 'NEG': 33},\n",
       " 'fail': {'POS': 25, 'NEG': 35},\n",
       " 'utter': {'POS': 19, 'NEG': 17},\n",
       " 'cuteness': {'POS': 4, 'NEG': 5},\n",
       " 'main': {'POS': 175, 'NEG': 181},\n",
       " 'leads': {'POS': 118, 'NEG': 80},\n",
       " 'predictable': {'POS': 54, 'NEG': 109},\n",
       " 'climax': {'POS': 57, 'NEG': 53},\n",
       " 'foreseeable': {'POS': 1, 'NEG': 1},\n",
       " 'damn': {'POS': 36, 'NEG': 41},\n",
       " 'cute': {'POS': 56, 'NEG': 49},\n",
       " 'well-done': {'POS': 6, 'NEG': 4},\n",
       " 'doubt': {'POS': 96, 'NEG': 65},\n",
       " 'entire': {'POS': 206, 'NEG': 165},\n",
       " 'scene': {'POS': 646, 'NEG': 592},\n",
       " 'evokes': {'POS': 8, 'NEG': 1},\n",
       " 'pure': {'POS': 57, 'NEG': 27},\n",
       " 'joy': {'POS': 42, 'NEG': 14},\n",
       " 'part': {'POS': 328, 'NEG': 295},\n",
       " 'discovers': {'POS': 56, 'NEG': 41},\n",
       " 'online': {'POS': 14, 'NEG': 3},\n",
       " 'filled': {'POS': 80, 'NEG': 61},\n",
       " 'lack': {'POS': 97, 'NEG': 109},\n",
       " 'happiness': {'POS': 29, 'NEG': 8},\n",
       " 'left': {'POS': 198, 'NEG': 181},\n",
       " 'theater': {'POS': 92, 'NEG': 90},\n",
       " 'smiling': {'POS': 7, 'NEG': 5},\n",
       " 'jaws': {'POS': 22, 'NEG': 14},\n",
       " 'rare': {'POS': 59, 'NEG': 23},\n",
       " 'grabs': {'POS': 11, 'NEG': 2},\n",
       " 'your': {'POS': 385, 'NEG': 381},\n",
       " 'attention': {'POS': 132, 'NEG': 84},\n",
       " 'shows': {'POS': 221, 'NEG': 141},\n",
       " 'image': {'POS': 68, 'NEG': 39},\n",
       " 'opens': {'POS': 86, 'NEG': 65},\n",
       " 'blackness': {'POS': 3, 'NEG': 1},\n",
       " 'distant': {'POS': 22, 'NEG': 10},\n",
       " 'alien-like': {'POS': 1, 'NEG': 0},\n",
       " 'underwater': {'POS': 16, 'NEG': 6},\n",
       " 'sounds': {'POS': 48, 'NEG': 65},\n",
       " 'ominous': {'POS': 15, 'NEG': 9},\n",
       " 'bars': {'POS': 12, 'NEG': 6},\n",
       " 'composer': {'POS': 12, 'NEG': 4},\n",
       " 'john': {'POS': 377, 'NEG': 320},\n",
       " 'williams': {'POS': 104, 'NEG': 85},\n",
       " 'infamous': {'POS': 16, 'NEG': 23},\n",
       " 'score': {'POS': 108, 'NEG': 79},\n",
       " 'dah-dum': {'POS': 1, 'NEG': 0},\n",
       " 'director': {'POS': 463, 'NEG': 552},\n",
       " 'steven': {'POS': 68, 'NEG': 66},\n",
       " 'spielberg': {'POS': 89, 'NEG': 22},\n",
       " 'wastes': {'POS': 4, 'NEG': 8},\n",
       " 'taking': {'POS': 122, 'NEG': 96},\n",
       " 'us': {'POS': 527, 'NEG': 442},\n",
       " 'water': {'POS': 72, 'NEG': 83},\n",
       " 'midnight': {'POS': 31, 'NEG': 15},\n",
       " 'swim': {'POS': 7, 'NEG': 3},\n",
       " 'beautiful': {'POS': 177, 'NEG': 83},\n",
       " 'girl': {'POS': 168, 'NEG': 204},\n",
       " 'deadly': {'POS': 23, 'NEG': 28},\n",
       " 'away': {'POS': 303, 'NEG': 281},\n",
       " 'lets': {'POS': 43, 'NEG': 23},\n",
       " 'vulnerable': {'POS': 20, 'NEG': 6},\n",
       " 'we': {'POS': 1283, 'NEG': 1151},\n",
       " 'floating': {'POS': 26, 'NEG': 12},\n",
       " 'ocean': {'POS': 22, 'NEG': 32},\n",
       " 'attacked': {'POS': 16, 'NEG': 10},\n",
       " 'relinquishes': {'POS': 1, 'NEG': 0},\n",
       " 'grip': {'POS': 11, 'NEG': 5},\n",
       " 'outstanding': {'POS': 58, 'NEG': 3},\n",
       " 'builds': {'POS': 22, 'NEG': 9},\n",
       " 'theatrical': {'POS': 29, 'NEG': 28},\n",
       " 'act': {'POS': 135, 'NEG': 120},\n",
       " 'second': {'POS': 178, 'NEG': 149},\n",
       " 'unlike': {'POS': 100, 'NEG': 47},\n",
       " 'filmmakers': {'POS': 59, 'NEG': 114},\n",
       " 'deal': {'POS': 120, 'NEG': 75},\n",
       " 'restraint': {'POS': 13, 'NEG': 10},\n",
       " 'refuses': {'POS': 35, 'NEG': 19},\n",
       " 'show': {'POS': 341, 'NEG': 312},\n",
       " 'shark': {'POS': 24, 'NEG': 11},\n",
       " 'middle': {'POS': 78, 'NEG': 99},\n",
       " 'merely': {'POS': 75, 'NEG': 73},\n",
       " 'suggests': {'POS': 26, 'NEG': 18},\n",
       " 'presence': {'POS': 80, 'NEG': 93},\n",
       " 'subjective': {'POS': 9, 'NEG': 3},\n",
       " 'shots': {'POS': 79, 'NEG': 83},\n",
       " 'building': {'POS': 54, 'NEG': 45},\n",
       " 'bit': {'POS': 284, 'NEG': 213},\n",
       " 'arrival': {'POS': 18, 'NEG': 13},\n",
       " 'truly': {'POS': 151, 'NEG': 102},\n",
       " 'terrifying': {'POS': 29, 'NEG': 13},\n",
       " 'let': {'POS': 172, 'NEG': 204},\n",
       " 'bored': {'POS': 29, 'NEG': 49},\n",
       " 'imagery': {'POS': 23, 'NEG': 16},\n",
       " 'chief': {'POS': 25, 'NEG': 38},\n",
       " 'brody': {'POS': 7, 'NEG': 7},\n",
       " 'roy': {'POS': 12, 'NEG': 13},\n",
       " 'scheider': {'POS': 3, 'NEG': 1},\n",
       " 'york': {'POS': 121, 'NEG': 117},\n",
       " 'cop': {'POS': 78, 'NEG': 86},\n",
       " 'taken': {'POS': 110, 'NEG': 90},\n",
       " 'easy': {'POS': 114, 'NEG': 79},\n",
       " 'peaceful': {'POS': 14, 'NEG': 5},\n",
       " 'running': {'POS': 118, 'NEG': 156},\n",
       " 'station': {'POS': 52, 'NEG': 33},\n",
       " 'amity': {'POS': 1, 'NEG': 0},\n",
       " 'island': {'POS': 58, 'NEG': 60},\n",
       " 'fictitious': {'POS': 5, 'NEG': 2},\n",
       " 'england': {'POS': 37, 'NEG': 18},\n",
       " 'resort': {'POS': 12, 'NEG': 5},\n",
       " 'town': {'POS': 215, 'NEG': 144},\n",
       " 'murder': {'POS': 116, 'NEG': 100},\n",
       " 'gun': {'POS': 54, 'NEG': 71},\n",
       " 'fired': {'POS': 12, 'NEG': 18},\n",
       " 'inyears': {'POS': 1, 'NEG': 3},\n",
       " 'shaken': {'POS': 5, 'NEG': 3},\n",
       " 'vicious': {'POS': 22, 'NEG': 16},\n",
       " 'white': {'POS': 134, 'NEG': 112},\n",
       " 'attacks': {'POS': 40, 'NEG': 13},\n",
       " 'fourth': {'POS': 15, 'NEG': 16},\n",
       " 'july': {'POS': 10, 'NEG': 5},\n",
       " 'mayor': {'POS': 7, 'NEG': 19},\n",
       " 'larry': {'POS': 67, 'NEG': 20},\n",
       " 'vaughn': {'POS': 14, 'NEG': 4},\n",
       " 'hamilton': {'POS': 9, 'NEG': 1},\n",
       " 'want': {'POS': 225, 'NEG': 263},\n",
       " 'shut': {'POS': 19, 'NEG': 22},\n",
       " 'down': {'POS': 395, 'NEG': 386},\n",
       " 'beaches': {'POS': 1, 'NEG': 0},\n",
       " 'reliant': {'POS': 3, 'NEG': 1},\n",
       " 'summer': {'POS': 132, 'NEG': 150},\n",
       " 'tourist': {'POS': 5, 'NEG': 7},\n",
       " 'joined': {'POS': 13, 'NEG': 12},\n",
       " 'matt': {'POS': 54, 'NEG': 26},\n",
       " 'hooper': {'POS': 4, 'NEG': 0},\n",
       " 'richard': {'POS': 69, 'NEG': 76},\n",
       " 'dreyfuss': {'POS': 11, 'NEG': 15},\n",
       " 'young': {'POS': 385, 'NEG': 265},\n",
       " 'ambitious': {'POS': 25, 'NEG': 7},\n",
       " 'expert': {'POS': 17, 'NEG': 25},\n",
       " 'marine': {'POS': 7, 'NEG': 7},\n",
       " 'institute': {'POS': 4, 'NEG': 5},\n",
       " 'fascinated': {'POS': 11, 'NEG': 8},\n",
       " 'determined': {'POS': 35, 'NEG': 31},\n",
       " 'stop': {'POS': 103, 'NEG': 116},\n",
       " '--': {'POS': 833, 'NEG': 848},\n",
       " 'knowledge': {'POS': 39, 'NEG': 21},\n",
       " 'exact': {'POS': 24, 'NEG': 32},\n",
       " 'workings': {'POS': 7, 'NEG': 0},\n",
       " 'perfect': {'POS': 209, 'NEG': 88},\n",
       " 'engine': {'POS': 6, 'NEG': 4},\n",
       " 'eating': {'POS': 17, 'NEG': 21},\n",
       " 'machine': {'POS': 46, 'NEG': 47},\n",
       " 'finally': {'POS': 174, 'NEG': 138},\n",
       " 'relents': {'POS': 1, 'NEG': 0},\n",
       " 'join': {'POS': 39, 'NEG': 36},\n",
       " 'crusty': {'POS': 1, 'NEG': 2},\n",
       " 'old': {'POS': 348, 'NEG': 313},\n",
       " 'quint': {'POS': 3, 'NEG': 0},\n",
       " 'robert': {'POS': 150, 'NEG': 118},\n",
       " 'shaw': {'POS': 13, 'NEG': 8},\n",
       " 'decrepit': {'POS': 3, 'NEG': 1},\n",
       " 'boat': {'POS': 33, 'NEG': 41},\n",
       " 'orca': {'POS': 3, 'NEG': 0},\n",
       " 'search': {'POS': 58, 'NEG': 39},\n",
       " 'three': {'POS': 299, 'NEG': 271},\n",
       " 'men': {'POS': 285, 'NEG': 194},\n",
       " 'hunt': {'POS': 41, 'NEG': 29},\n",
       " 'inevitably': {'POS': 12, 'NEG': 20},\n",
       " 'hunted': {'POS': 4, 'NEG': 6},\n",
       " 'thriller': {'POS': 94, 'NEG': 130},\n",
       " 'keen': {'POS': 12, 'NEG': 2},\n",
       " 'humor': {'POS': 176, 'NEG': 187},\n",
       " 'incredible': {'POS': 58, 'NEG': 33},\n",
       " 'pacing': {'POS': 27, 'NEG': 32},\n",
       " 'horror': {'POS': 233, 'NEG': 157},\n",
       " 'ten': {'POS': 50, 'NEG': 80},\n",
       " 'movies': {'POS': 537, 'NEG': 485},\n",
       " 'rolled': {'POS': 9, 'NEG': 8},\n",
       " 'wonder': {'POS': 98, 'NEG': 120},\n",
       " 'took': {'POS': 79, 'NEG': 67},\n",
       " 'america': {'POS': 117, 'NEG': 66},\n",
       " 'storm': {'POS': 22, 'NEG': 35},\n",
       " '1975': {'POS': 8, 'NEG': 1},\n",
       " 'crown': {'POS': 6, 'NEG': 7},\n",
       " 'box': {'POS': 64, 'NEG': 67},\n",
       " 'office': {'POS': 81, 'NEG': 79},\n",
       " 'champ': {'POS': 2, 'NEG': 3},\n",
       " 'unceremoniously': {'POS': 3, 'NEG': 1},\n",
       " 'dethroned': {'POS': 1, 'NEG': 0},\n",
       " '1977': {'POS': 12, 'NEG': 5},\n",
       " 'wars': {'POS': 102, 'NEG': 28},\n",
       " 'today': {'POS': 92, 'NEG': 41},\n",
       " 'fascination': {'POS': 17, 'NEG': 1},\n",
       " 'par': {'POS': 16, 'NEG': 15},\n",
       " 'hitchcock': {'POS': 25, 'NEG': 24},\n",
       " 'psycho': {'POS': 20, 'NEG': 29},\n",
       " 'age': {'POS': 103, 'NEG': 50},\n",
       " 'although': {'POS': 441, 'NEG': 268},\n",
       " 'grand': {'POS': 48, 'NEG': 23},\n",
       " 'technology': {'POS': 50, 'NEG': 22},\n",
       " 'exists': {'POS': 21, 'NEG': 18},\n",
       " 'technical': {'POS': 49, 'NEG': 32},\n",
       " 'sequences': {'POS': 120, 'NEG': 139},\n",
       " 'including': {'POS': 178, 'NEG': 119},\n",
       " 'mechanical': {'POS': 7, 'NEG': 14},\n",
       " 'sharks': {'POS': 5, 'NEG': 3},\n",
       " 'obsolete': {'POS': 2, 'NEG': 1},\n",
       " 'none': {'POS': 61, 'NEG': 141},\n",
       " 'improve': {'POS': 8, 'NEG': 9},\n",
       " 'lead': {'POS': 117, 'NEG': 104},\n",
       " 'overkill': {'POS': 4, 'NEG': 5},\n",
       " 'limitations': {'POS': 3, 'NEG': 4},\n",
       " 'faced': {'POS': 32, 'NEG': 7},\n",
       " 'may': {'POS': 446, 'NEG': 315},\n",
       " 'produced': {'POS': 59, 'NEG': 52},\n",
       " 'forced': {'POS': 102, 'NEG': 86},\n",
       " 'traditional': {'POS': 42, 'NEG': 11},\n",
       " 'cinematic': {'POS': 60, 'NEG': 50},\n",
       " 'characterization': {'POS': 40, 'NEG': 25},\n",
       " 'sharp': {'POS': 42, 'NEG': 17},\n",
       " 'editing': {'POS': 37, 'NEG': 54},\n",
       " 'creative': {'POS': 36, 'NEG': 29},\n",
       " 'photography': {'POS': 27, 'NEG': 27},\n",
       " 'instead': {'POS': 255, 'NEG': 254},\n",
       " 'simply': {'POS': 186, 'NEG': 208},\n",
       " 'dousing': {'POS': 1, 'NEG': 2},\n",
       " 'audience': {'POS': 390, 'NEG': 417},\n",
       " 'digital': {'POS': 27, 'NEG': 19},\n",
       " 'effects': {'POS': 269, 'NEG': 286},\n",
       " 'known': {'POS': 137, 'NEG': 104},\n",
       " 'actors': {'POS': 291, 'NEG': 325},\n",
       " 'draw': {'POS': 35, 'NEG': 27},\n",
       " 'redford': {'POS': 27, 'NEG': 1},\n",
       " 'newman': {'POS': 16, 'NEG': 8},\n",
       " 'nevertheless': {'POS': 40, 'NEG': 15},\n",
       " 'guaranteed': {'POS': 9, 'NEG': 9},\n",
       " 'successful': {'POS': 91, 'NEG': 72},\n",
       " 'careers': {'POS': 8, 'NEG': 17},\n",
       " 'gave': {'POS': 65, 'NEG': 56},\n",
       " 'refused': {'POS': 10, 'NEG': 4},\n",
       " 'overshadowed': {'POS': 7, 'NEG': 6},\n",
       " 'hits': {'POS': 50, 'NEG': 30},\n",
       " 'just': {'POS': 1193, 'NEG': 1381},\n",
       " 'notes': {'POS': 30, 'NEG': 18},\n",
       " 'sympathetic': {'POS': 45, 'NEG': 36},\n",
       " 'husband': {'POS': 139, 'NEG': 86},\n",
       " 'father': {'POS': 277, 'NEG': 156},\n",
       " 'political': {'POS': 110, 'NEG': 28},\n",
       " ...}"
      ]
     },
     "execution_count": 38,
     "metadata": {},
     "output_type": "execute_result"
    }
   ],
   "source": [
    "# YOUR CODE HERE\n",
    "vocab"
   ]
  },
  {
   "cell_type": "markdown",
   "metadata": {
    "id": "ifXVWcK0V9qY"
   },
   "source": [
    "### POS disambiguation (2pts)\n",
    "\n",
    "Now add in part-of-speech features. You will find the\n",
    "movie review dataset has already been POS-tagged for you ([here](https://catalog.ldc.upenn.edu/docs/LDC99T42/tagguid1.pdf) you find the tagset). Try to\n",
    "replicate the results obtained by Pang et al. (2002).\n",
    "\n"
   ]
  },
  {
   "cell_type": "markdown",
   "metadata": {
    "id": "xA3I82o4oWGu"
   },
   "source": [
    "####(Q3.2) Replace your features with word+POS features, and report performance with the SVM. Use cross-validation to evaluate the classifier and compare the results with (Q3.1). Does part-of-speech information help? Explain why this may be the case. (1pt)\n"
   ]
  },
  {
   "cell_type": "code",
   "execution_count": null,
   "metadata": {
    "id": "NOvjYe-t2Br6"
   },
   "outputs": [],
   "source": [
    "# YOUR CODE HERE"
   ]
  },
  {
   "cell_type": "markdown",
   "metadata": {
    "id": "L0dt_oQupUNe"
   },
   "source": [
    "*Write your answer here.*"
   ]
  },
  {
   "cell_type": "markdown",
   "metadata": {
    "id": "Su-3w87eMW0w"
   },
   "source": [
    "#### (Q3.3) Discard all closed-class words from your data (keep only nouns, verbs, adjectives, and adverbs), and report performance. Does this help? Use cross-validation to evaluate the classifier and compare the results with (Q3.2). Are closed-class words detrimental to the classifier? Explain why this may be the case. (1pt)"
   ]
  },
  {
   "cell_type": "code",
   "execution_count": null,
   "metadata": {
    "id": "CCUPlPozCYUX"
   },
   "outputs": [],
   "source": [
    "# YOUR CODE HERE"
   ]
  },
  {
   "cell_type": "markdown",
   "metadata": {
    "id": "YaxCVrs8pWSp"
   },
   "source": [
    "*Write your answer here.*"
   ]
  },
  {
   "cell_type": "markdown",
   "metadata": {
    "id": "nfwqOciAl2No"
   },
   "source": [
    "# (Q4) Discussion (max. 500 words). (5pts)\n",
    "\n",
    "> Based on your experiments, what are the effective features and techniques in sentiment analysis? What information do different features encode?\n",
    "Why is this important? What are the limitations of these features and techniques?\n",
    " \n"
   ]
  },
  {
   "cell_type": "markdown",
   "metadata": {
    "id": "ZYuse5WLmekZ"
   },
   "source": [
    "*Write your answer here in up to 500 words (-0.25pt for >50 extra words, -0.5 points for >100 extra words, ...)*.\n"
   ]
  },
  {
   "cell_type": "markdown",
   "metadata": {
    "id": "iwaKwfWQhRk_"
   },
   "source": [
    "# Submission \n"
   ]
  },
  {
   "cell_type": "code",
   "execution_count": null,
   "metadata": {
    "id": "aOUeaET5ijk-"
   },
   "outputs": [],
   "source": [
    "# Write your names and student numbers here:\n",
    "# Student 1 #12345\n",
    "# Student 2 #12345"
   ]
  },
  {
   "cell_type": "markdown",
   "metadata": {
    "id": "3A9K-H6Tii3X"
   },
   "source": [
    "**That's it!**\n",
    "\n",
    "- Check if you answered all questions fully and correctly. \n",
    "- Download your completed notebook using `File -> Download .ipynb` \n",
    "- Check if your answers are all included in the file you submit.\n",
    "- Submit your .ipynb file via *Canvas*. One submission per group. "
   ]
  },
  {
   "cell_type": "code",
   "execution_count": null,
   "metadata": {
    "id": "YHslatYAKBrF"
   },
   "outputs": [],
   "source": []
  }
 ],
 "metadata": {
  "colab": {
   "collapsed_sections": [],
   "name": "practical1.ipynb",
   "provenance": [],
   "toc_visible": true
  },
  "kernelspec": {
   "display_name": "Python 3 (ipykernel)",
   "language": "python",
   "name": "python3"
  },
  "language_info": {
   "codemirror_mode": {
    "name": "ipython",
    "version": 3
   },
   "file_extension": ".py",
   "mimetype": "text/x-python",
   "name": "python",
   "nbconvert_exporter": "python",
   "pygments_lexer": "ipython3",
   "version": "3.7.11"
  }
 },
 "nbformat": 4,
 "nbformat_minor": 4
}
